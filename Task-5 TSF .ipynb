{
 "cells": [
  {
   "cell_type": "markdown",
   "metadata": {},
   "source": [
    "# TSF Task-5 \n",
    "## Author: Shawn Ravi\n",
    "## Task: Exploratory Data Analysis on Sports Dataset\n",
    "## Dataset Link: https://bit.ly/34SRn3b"\n",
    "## Date: 17-01-2022"
   ]
  },
  {
   "cell_type": "code",
   "execution_count": 1,
   "metadata": {},
   "outputs": [],
   "source": [
    "import pandas as pd\n",
    "import numpy as np\n",
    "import seaborn as sns\n",
    "import matplotlib.pyplot as plt\n",
    "%matplotlib inline\n",
    "import warnings\n",
    "warnings.filterwarnings('ignore')"
   ]
  },
  {
   "cell_type": "code",
   "execution_count": 2,
   "metadata": {},
   "outputs": [],
   "source": [
    "df1 = pd.read_csv(\"D:/Datasets-5/matches.csv\")\n",
    "df2 = pd.read_csv(\"D:/Datasets-5/deliveries.csv\")"
   ]
  },
  {
   "cell_type": "code",
   "execution_count": 3,
   "metadata": {},
   "outputs": [
    {
     "data": {
      "text/html": [
       "<div>\n",
       "<style scoped>\n",
       "    .dataframe tbody tr th:only-of-type {\n",
       "        vertical-align: middle;\n",
       "    }\n",
       "\n",
       "    .dataframe tbody tr th {\n",
       "        vertical-align: top;\n",
       "    }\n",
       "\n",
       "    .dataframe thead th {\n",
       "        text-align: right;\n",
       "    }\n",
       "</style>\n",
       "<table border=\"1\" class=\"dataframe\">\n",
       "  <thead>\n",
       "    <tr style=\"text-align: right;\">\n",
       "      <th></th>\n",
       "      <th>id</th>\n",
       "      <th>season</th>\n",
       "      <th>city</th>\n",
       "      <th>date</th>\n",
       "      <th>team1</th>\n",
       "      <th>team2</th>\n",
       "      <th>toss_winner</th>\n",
       "      <th>toss_decision</th>\n",
       "      <th>result</th>\n",
       "      <th>dl_applied</th>\n",
       "      <th>winner</th>\n",
       "      <th>win_by_runs</th>\n",
       "      <th>win_by_wickets</th>\n",
       "      <th>player_of_match</th>\n",
       "      <th>venue</th>\n",
       "      <th>umpire1</th>\n",
       "      <th>umpire2</th>\n",
       "      <th>umpire3</th>\n",
       "    </tr>\n",
       "  </thead>\n",
       "  <tbody>\n",
       "    <tr>\n",
       "      <th>0</th>\n",
       "      <td>1</td>\n",
       "      <td>2017</td>\n",
       "      <td>Hyderabad</td>\n",
       "      <td>2017-04-05</td>\n",
       "      <td>Sunrisers Hyderabad</td>\n",
       "      <td>Royal Challengers Bangalore</td>\n",
       "      <td>Royal Challengers Bangalore</td>\n",
       "      <td>field</td>\n",
       "      <td>normal</td>\n",
       "      <td>0</td>\n",
       "      <td>Sunrisers Hyderabad</td>\n",
       "      <td>35</td>\n",
       "      <td>0</td>\n",
       "      <td>Yuvraj Singh</td>\n",
       "      <td>Rajiv Gandhi International Stadium, Uppal</td>\n",
       "      <td>AY Dandekar</td>\n",
       "      <td>NJ Llong</td>\n",
       "      <td>NaN</td>\n",
       "    </tr>\n",
       "    <tr>\n",
       "      <th>1</th>\n",
       "      <td>2</td>\n",
       "      <td>2017</td>\n",
       "      <td>Pune</td>\n",
       "      <td>2017-04-06</td>\n",
       "      <td>Mumbai Indians</td>\n",
       "      <td>Rising Pune Supergiant</td>\n",
       "      <td>Rising Pune Supergiant</td>\n",
       "      <td>field</td>\n",
       "      <td>normal</td>\n",
       "      <td>0</td>\n",
       "      <td>Rising Pune Supergiant</td>\n",
       "      <td>0</td>\n",
       "      <td>7</td>\n",
       "      <td>SPD Smith</td>\n",
       "      <td>Maharashtra Cricket Association Stadium</td>\n",
       "      <td>A Nand Kishore</td>\n",
       "      <td>S Ravi</td>\n",
       "      <td>NaN</td>\n",
       "    </tr>\n",
       "    <tr>\n",
       "      <th>2</th>\n",
       "      <td>3</td>\n",
       "      <td>2017</td>\n",
       "      <td>Rajkot</td>\n",
       "      <td>2017-04-07</td>\n",
       "      <td>Gujarat Lions</td>\n",
       "      <td>Kolkata Knight Riders</td>\n",
       "      <td>Kolkata Knight Riders</td>\n",
       "      <td>field</td>\n",
       "      <td>normal</td>\n",
       "      <td>0</td>\n",
       "      <td>Kolkata Knight Riders</td>\n",
       "      <td>0</td>\n",
       "      <td>10</td>\n",
       "      <td>CA Lynn</td>\n",
       "      <td>Saurashtra Cricket Association Stadium</td>\n",
       "      <td>Nitin Menon</td>\n",
       "      <td>CK Nandan</td>\n",
       "      <td>NaN</td>\n",
       "    </tr>\n",
       "    <tr>\n",
       "      <th>3</th>\n",
       "      <td>4</td>\n",
       "      <td>2017</td>\n",
       "      <td>Indore</td>\n",
       "      <td>2017-04-08</td>\n",
       "      <td>Rising Pune Supergiant</td>\n",
       "      <td>Kings XI Punjab</td>\n",
       "      <td>Kings XI Punjab</td>\n",
       "      <td>field</td>\n",
       "      <td>normal</td>\n",
       "      <td>0</td>\n",
       "      <td>Kings XI Punjab</td>\n",
       "      <td>0</td>\n",
       "      <td>6</td>\n",
       "      <td>GJ Maxwell</td>\n",
       "      <td>Holkar Cricket Stadium</td>\n",
       "      <td>AK Chaudhary</td>\n",
       "      <td>C Shamshuddin</td>\n",
       "      <td>NaN</td>\n",
       "    </tr>\n",
       "    <tr>\n",
       "      <th>4</th>\n",
       "      <td>5</td>\n",
       "      <td>2017</td>\n",
       "      <td>Bangalore</td>\n",
       "      <td>2017-04-08</td>\n",
       "      <td>Royal Challengers Bangalore</td>\n",
       "      <td>Delhi Daredevils</td>\n",
       "      <td>Royal Challengers Bangalore</td>\n",
       "      <td>bat</td>\n",
       "      <td>normal</td>\n",
       "      <td>0</td>\n",
       "      <td>Royal Challengers Bangalore</td>\n",
       "      <td>15</td>\n",
       "      <td>0</td>\n",
       "      <td>KM Jadhav</td>\n",
       "      <td>M Chinnaswamy Stadium</td>\n",
       "      <td>NaN</td>\n",
       "      <td>NaN</td>\n",
       "      <td>NaN</td>\n",
       "    </tr>\n",
       "  </tbody>\n",
       "</table>\n",
       "</div>"
      ],
      "text/plain": [
       "   id  season       city        date                        team1  \\\n",
       "0   1    2017  Hyderabad  2017-04-05          Sunrisers Hyderabad   \n",
       "1   2    2017       Pune  2017-04-06               Mumbai Indians   \n",
       "2   3    2017     Rajkot  2017-04-07                Gujarat Lions   \n",
       "3   4    2017     Indore  2017-04-08       Rising Pune Supergiant   \n",
       "4   5    2017  Bangalore  2017-04-08  Royal Challengers Bangalore   \n",
       "\n",
       "                         team2                  toss_winner toss_decision  \\\n",
       "0  Royal Challengers Bangalore  Royal Challengers Bangalore         field   \n",
       "1       Rising Pune Supergiant       Rising Pune Supergiant         field   \n",
       "2        Kolkata Knight Riders        Kolkata Knight Riders         field   \n",
       "3              Kings XI Punjab              Kings XI Punjab         field   \n",
       "4             Delhi Daredevils  Royal Challengers Bangalore           bat   \n",
       "\n",
       "   result  dl_applied                       winner  win_by_runs  \\\n",
       "0  normal           0          Sunrisers Hyderabad           35   \n",
       "1  normal           0       Rising Pune Supergiant            0   \n",
       "2  normal           0        Kolkata Knight Riders            0   \n",
       "3  normal           0              Kings XI Punjab            0   \n",
       "4  normal           0  Royal Challengers Bangalore           15   \n",
       "\n",
       "   win_by_wickets player_of_match                                      venue  \\\n",
       "0               0    Yuvraj Singh  Rajiv Gandhi International Stadium, Uppal   \n",
       "1               7       SPD Smith    Maharashtra Cricket Association Stadium   \n",
       "2              10         CA Lynn     Saurashtra Cricket Association Stadium   \n",
       "3               6      GJ Maxwell                     Holkar Cricket Stadium   \n",
       "4               0       KM Jadhav                      M Chinnaswamy Stadium   \n",
       "\n",
       "          umpire1        umpire2 umpire3  \n",
       "0     AY Dandekar       NJ Llong     NaN  \n",
       "1  A Nand Kishore         S Ravi     NaN  \n",
       "2     Nitin Menon      CK Nandan     NaN  \n",
       "3    AK Chaudhary  C Shamshuddin     NaN  \n",
       "4             NaN            NaN     NaN  "
      ]
     },
     "execution_count": 3,
     "metadata": {},
     "output_type": "execute_result"
    }
   ],
   "source": [
    "df1.head()"
   ]
  },
  {
   "cell_type": "code",
   "execution_count": 4,
   "metadata": {},
   "outputs": [
    {
     "data": {
      "text/html": [
       "<div>\n",
       "<style scoped>\n",
       "    .dataframe tbody tr th:only-of-type {\n",
       "        vertical-align: middle;\n",
       "    }\n",
       "\n",
       "    .dataframe tbody tr th {\n",
       "        vertical-align: top;\n",
       "    }\n",
       "\n",
       "    .dataframe thead th {\n",
       "        text-align: right;\n",
       "    }\n",
       "</style>\n",
       "<table border=\"1\" class=\"dataframe\">\n",
       "  <thead>\n",
       "    <tr style=\"text-align: right;\">\n",
       "      <th></th>\n",
       "      <th>match_id</th>\n",
       "      <th>inning</th>\n",
       "      <th>batting_team</th>\n",
       "      <th>bowling_team</th>\n",
       "      <th>over</th>\n",
       "      <th>ball</th>\n",
       "      <th>batsman</th>\n",
       "      <th>non_striker</th>\n",
       "      <th>bowler</th>\n",
       "      <th>is_super_over</th>\n",
       "      <th>...</th>\n",
       "      <th>bye_runs</th>\n",
       "      <th>legbye_runs</th>\n",
       "      <th>noball_runs</th>\n",
       "      <th>penalty_runs</th>\n",
       "      <th>batsman_runs</th>\n",
       "      <th>extra_runs</th>\n",
       "      <th>total_runs</th>\n",
       "      <th>player_dismissed</th>\n",
       "      <th>dismissal_kind</th>\n",
       "      <th>fielder</th>\n",
       "    </tr>\n",
       "  </thead>\n",
       "  <tbody>\n",
       "    <tr>\n",
       "      <th>0</th>\n",
       "      <td>1</td>\n",
       "      <td>1</td>\n",
       "      <td>Sunrisers Hyderabad</td>\n",
       "      <td>Royal Challengers Bangalore</td>\n",
       "      <td>1</td>\n",
       "      <td>1</td>\n",
       "      <td>DA Warner</td>\n",
       "      <td>S Dhawan</td>\n",
       "      <td>TS Mills</td>\n",
       "      <td>0</td>\n",
       "      <td>...</td>\n",
       "      <td>0</td>\n",
       "      <td>0</td>\n",
       "      <td>0</td>\n",
       "      <td>0</td>\n",
       "      <td>0</td>\n",
       "      <td>0</td>\n",
       "      <td>0</td>\n",
       "      <td>NaN</td>\n",
       "      <td>NaN</td>\n",
       "      <td>NaN</td>\n",
       "    </tr>\n",
       "    <tr>\n",
       "      <th>1</th>\n",
       "      <td>1</td>\n",
       "      <td>1</td>\n",
       "      <td>Sunrisers Hyderabad</td>\n",
       "      <td>Royal Challengers Bangalore</td>\n",
       "      <td>1</td>\n",
       "      <td>2</td>\n",
       "      <td>DA Warner</td>\n",
       "      <td>S Dhawan</td>\n",
       "      <td>TS Mills</td>\n",
       "      <td>0</td>\n",
       "      <td>...</td>\n",
       "      <td>0</td>\n",
       "      <td>0</td>\n",
       "      <td>0</td>\n",
       "      <td>0</td>\n",
       "      <td>0</td>\n",
       "      <td>0</td>\n",
       "      <td>0</td>\n",
       "      <td>NaN</td>\n",
       "      <td>NaN</td>\n",
       "      <td>NaN</td>\n",
       "    </tr>\n",
       "    <tr>\n",
       "      <th>2</th>\n",
       "      <td>1</td>\n",
       "      <td>1</td>\n",
       "      <td>Sunrisers Hyderabad</td>\n",
       "      <td>Royal Challengers Bangalore</td>\n",
       "      <td>1</td>\n",
       "      <td>3</td>\n",
       "      <td>DA Warner</td>\n",
       "      <td>S Dhawan</td>\n",
       "      <td>TS Mills</td>\n",
       "      <td>0</td>\n",
       "      <td>...</td>\n",
       "      <td>0</td>\n",
       "      <td>0</td>\n",
       "      <td>0</td>\n",
       "      <td>0</td>\n",
       "      <td>4</td>\n",
       "      <td>0</td>\n",
       "      <td>4</td>\n",
       "      <td>NaN</td>\n",
       "      <td>NaN</td>\n",
       "      <td>NaN</td>\n",
       "    </tr>\n",
       "    <tr>\n",
       "      <th>3</th>\n",
       "      <td>1</td>\n",
       "      <td>1</td>\n",
       "      <td>Sunrisers Hyderabad</td>\n",
       "      <td>Royal Challengers Bangalore</td>\n",
       "      <td>1</td>\n",
       "      <td>4</td>\n",
       "      <td>DA Warner</td>\n",
       "      <td>S Dhawan</td>\n",
       "      <td>TS Mills</td>\n",
       "      <td>0</td>\n",
       "      <td>...</td>\n",
       "      <td>0</td>\n",
       "      <td>0</td>\n",
       "      <td>0</td>\n",
       "      <td>0</td>\n",
       "      <td>0</td>\n",
       "      <td>0</td>\n",
       "      <td>0</td>\n",
       "      <td>NaN</td>\n",
       "      <td>NaN</td>\n",
       "      <td>NaN</td>\n",
       "    </tr>\n",
       "    <tr>\n",
       "      <th>4</th>\n",
       "      <td>1</td>\n",
       "      <td>1</td>\n",
       "      <td>Sunrisers Hyderabad</td>\n",
       "      <td>Royal Challengers Bangalore</td>\n",
       "      <td>1</td>\n",
       "      <td>5</td>\n",
       "      <td>DA Warner</td>\n",
       "      <td>S Dhawan</td>\n",
       "      <td>TS Mills</td>\n",
       "      <td>0</td>\n",
       "      <td>...</td>\n",
       "      <td>0</td>\n",
       "      <td>0</td>\n",
       "      <td>0</td>\n",
       "      <td>0</td>\n",
       "      <td>0</td>\n",
       "      <td>2</td>\n",
       "      <td>2</td>\n",
       "      <td>NaN</td>\n",
       "      <td>NaN</td>\n",
       "      <td>NaN</td>\n",
       "    </tr>\n",
       "  </tbody>\n",
       "</table>\n",
       "<p>5 rows × 21 columns</p>\n",
       "</div>"
      ],
      "text/plain": [
       "   match_id  inning         batting_team                 bowling_team  over  \\\n",
       "0         1       1  Sunrisers Hyderabad  Royal Challengers Bangalore     1   \n",
       "1         1       1  Sunrisers Hyderabad  Royal Challengers Bangalore     1   \n",
       "2         1       1  Sunrisers Hyderabad  Royal Challengers Bangalore     1   \n",
       "3         1       1  Sunrisers Hyderabad  Royal Challengers Bangalore     1   \n",
       "4         1       1  Sunrisers Hyderabad  Royal Challengers Bangalore     1   \n",
       "\n",
       "   ball    batsman non_striker    bowler  is_super_over  ...  bye_runs  \\\n",
       "0     1  DA Warner    S Dhawan  TS Mills              0  ...         0   \n",
       "1     2  DA Warner    S Dhawan  TS Mills              0  ...         0   \n",
       "2     3  DA Warner    S Dhawan  TS Mills              0  ...         0   \n",
       "3     4  DA Warner    S Dhawan  TS Mills              0  ...         0   \n",
       "4     5  DA Warner    S Dhawan  TS Mills              0  ...         0   \n",
       "\n",
       "   legbye_runs  noball_runs  penalty_runs  batsman_runs  extra_runs  \\\n",
       "0            0            0             0             0           0   \n",
       "1            0            0             0             0           0   \n",
       "2            0            0             0             4           0   \n",
       "3            0            0             0             0           0   \n",
       "4            0            0             0             0           2   \n",
       "\n",
       "   total_runs  player_dismissed dismissal_kind fielder  \n",
       "0           0               NaN            NaN     NaN  \n",
       "1           0               NaN            NaN     NaN  \n",
       "2           4               NaN            NaN     NaN  \n",
       "3           0               NaN            NaN     NaN  \n",
       "4           2               NaN            NaN     NaN  \n",
       "\n",
       "[5 rows x 21 columns]"
      ]
     },
     "execution_count": 4,
     "metadata": {},
     "output_type": "execute_result"
    }
   ],
   "source": [
    "df2.head()"
   ]
  },
  {
   "cell_type": "code",
   "execution_count": 5,
   "metadata": {},
   "outputs": [
    {
     "name": "stdout",
     "output_type": "stream",
     "text": [
      "<class 'pandas.core.frame.DataFrame'>\n",
      "RangeIndex: 756 entries, 0 to 755\n",
      "Data columns (total 18 columns):\n",
      " #   Column           Non-Null Count  Dtype \n",
      "---  ------           --------------  ----- \n",
      " 0   id               756 non-null    int64 \n",
      " 1   season           756 non-null    int64 \n",
      " 2   city             749 non-null    object\n",
      " 3   date             756 non-null    object\n",
      " 4   team1            756 non-null    object\n",
      " 5   team2            756 non-null    object\n",
      " 6   toss_winner      756 non-null    object\n",
      " 7   toss_decision    756 non-null    object\n",
      " 8   result           756 non-null    object\n",
      " 9   dl_applied       756 non-null    int64 \n",
      " 10  winner           752 non-null    object\n",
      " 11  win_by_runs      756 non-null    int64 \n",
      " 12  win_by_wickets   756 non-null    int64 \n",
      " 13  player_of_match  752 non-null    object\n",
      " 14  venue            756 non-null    object\n",
      " 15  umpire1          754 non-null    object\n",
      " 16  umpire2          754 non-null    object\n",
      " 17  umpire3          119 non-null    object\n",
      "dtypes: int64(5), object(13)\n",
      "memory usage: 106.4+ KB\n",
      "<class 'pandas.core.frame.DataFrame'>\n",
      "RangeIndex: 179078 entries, 0 to 179077\n",
      "Data columns (total 21 columns):\n",
      " #   Column            Non-Null Count   Dtype \n",
      "---  ------            --------------   ----- \n",
      " 0   match_id          179078 non-null  int64 \n",
      " 1   inning            179078 non-null  int64 \n",
      " 2   batting_team      179078 non-null  object\n",
      " 3   bowling_team      179078 non-null  object\n",
      " 4   over              179078 non-null  int64 \n",
      " 5   ball              179078 non-null  int64 \n",
      " 6   batsman           179078 non-null  object\n",
      " 7   non_striker       179078 non-null  object\n",
      " 8   bowler            179078 non-null  object\n",
      " 9   is_super_over     179078 non-null  int64 \n",
      " 10  wide_runs         179078 non-null  int64 \n",
      " 11  bye_runs          179078 non-null  int64 \n",
      " 12  legbye_runs       179078 non-null  int64 \n",
      " 13  noball_runs       179078 non-null  int64 \n",
      " 14  penalty_runs      179078 non-null  int64 \n",
      " 15  batsman_runs      179078 non-null  int64 \n",
      " 16  extra_runs        179078 non-null  int64 \n",
      " 17  total_runs        179078 non-null  int64 \n",
      " 18  player_dismissed  8834 non-null    object\n",
      " 19  dismissal_kind    8834 non-null    object\n",
      " 20  fielder           6448 non-null    object\n",
      "dtypes: int64(13), object(8)\n",
      "memory usage: 28.7+ MB\n"
     ]
    }
   ],
   "source": [
    "df1.info()\n",
    "df2.info()"
   ]
  },
  {
   "cell_type": "code",
   "execution_count": 6,
   "metadata": {},
   "outputs": [
    {
     "data": {
      "text/html": [
       "<div>\n",
       "<style scoped>\n",
       "    .dataframe tbody tr th:only-of-type {\n",
       "        vertical-align: middle;\n",
       "    }\n",
       "\n",
       "    .dataframe tbody tr th {\n",
       "        vertical-align: top;\n",
       "    }\n",
       "\n",
       "    .dataframe thead th {\n",
       "        text-align: right;\n",
       "    }\n",
       "</style>\n",
       "<table border=\"1\" class=\"dataframe\">\n",
       "  <thead>\n",
       "    <tr style=\"text-align: right;\">\n",
       "      <th></th>\n",
       "      <th>id</th>\n",
       "      <th>season</th>\n",
       "      <th>dl_applied</th>\n",
       "      <th>win_by_runs</th>\n",
       "      <th>win_by_wickets</th>\n",
       "    </tr>\n",
       "  </thead>\n",
       "  <tbody>\n",
       "    <tr>\n",
       "      <th>count</th>\n",
       "      <td>756.000000</td>\n",
       "      <td>756.000000</td>\n",
       "      <td>756.000000</td>\n",
       "      <td>756.000000</td>\n",
       "      <td>756.000000</td>\n",
       "    </tr>\n",
       "    <tr>\n",
       "      <th>mean</th>\n",
       "      <td>1792.178571</td>\n",
       "      <td>2013.444444</td>\n",
       "      <td>0.025132</td>\n",
       "      <td>13.283069</td>\n",
       "      <td>3.350529</td>\n",
       "    </tr>\n",
       "    <tr>\n",
       "      <th>std</th>\n",
       "      <td>3464.478148</td>\n",
       "      <td>3.366895</td>\n",
       "      <td>0.156630</td>\n",
       "      <td>23.471144</td>\n",
       "      <td>3.387963</td>\n",
       "    </tr>\n",
       "    <tr>\n",
       "      <th>min</th>\n",
       "      <td>1.000000</td>\n",
       "      <td>2008.000000</td>\n",
       "      <td>0.000000</td>\n",
       "      <td>0.000000</td>\n",
       "      <td>0.000000</td>\n",
       "    </tr>\n",
       "    <tr>\n",
       "      <th>25%</th>\n",
       "      <td>189.750000</td>\n",
       "      <td>2011.000000</td>\n",
       "      <td>0.000000</td>\n",
       "      <td>0.000000</td>\n",
       "      <td>0.000000</td>\n",
       "    </tr>\n",
       "    <tr>\n",
       "      <th>50%</th>\n",
       "      <td>378.500000</td>\n",
       "      <td>2013.000000</td>\n",
       "      <td>0.000000</td>\n",
       "      <td>0.000000</td>\n",
       "      <td>4.000000</td>\n",
       "    </tr>\n",
       "    <tr>\n",
       "      <th>75%</th>\n",
       "      <td>567.250000</td>\n",
       "      <td>2016.000000</td>\n",
       "      <td>0.000000</td>\n",
       "      <td>19.000000</td>\n",
       "      <td>6.000000</td>\n",
       "    </tr>\n",
       "    <tr>\n",
       "      <th>max</th>\n",
       "      <td>11415.000000</td>\n",
       "      <td>2019.000000</td>\n",
       "      <td>1.000000</td>\n",
       "      <td>146.000000</td>\n",
       "      <td>10.000000</td>\n",
       "    </tr>\n",
       "  </tbody>\n",
       "</table>\n",
       "</div>"
      ],
      "text/plain": [
       "                 id       season  dl_applied  win_by_runs  win_by_wickets\n",
       "count    756.000000   756.000000  756.000000   756.000000      756.000000\n",
       "mean    1792.178571  2013.444444    0.025132    13.283069        3.350529\n",
       "std     3464.478148     3.366895    0.156630    23.471144        3.387963\n",
       "min        1.000000  2008.000000    0.000000     0.000000        0.000000\n",
       "25%      189.750000  2011.000000    0.000000     0.000000        0.000000\n",
       "50%      378.500000  2013.000000    0.000000     0.000000        4.000000\n",
       "75%      567.250000  2016.000000    0.000000    19.000000        6.000000\n",
       "max    11415.000000  2019.000000    1.000000   146.000000       10.000000"
      ]
     },
     "execution_count": 6,
     "metadata": {},
     "output_type": "execute_result"
    }
   ],
   "source": [
    "df1.describe()"
   ]
  },
  {
   "cell_type": "code",
   "execution_count": 7,
   "metadata": {},
   "outputs": [
    {
     "data": {
      "text/html": [
       "<div>\n",
       "<style scoped>\n",
       "    .dataframe tbody tr th:only-of-type {\n",
       "        vertical-align: middle;\n",
       "    }\n",
       "\n",
       "    .dataframe tbody tr th {\n",
       "        vertical-align: top;\n",
       "    }\n",
       "\n",
       "    .dataframe thead th {\n",
       "        text-align: right;\n",
       "    }\n",
       "</style>\n",
       "<table border=\"1\" class=\"dataframe\">\n",
       "  <thead>\n",
       "    <tr style=\"text-align: right;\">\n",
       "      <th></th>\n",
       "      <th>match_id</th>\n",
       "      <th>inning</th>\n",
       "      <th>over</th>\n",
       "      <th>ball</th>\n",
       "      <th>is_super_over</th>\n",
       "      <th>wide_runs</th>\n",
       "      <th>bye_runs</th>\n",
       "      <th>legbye_runs</th>\n",
       "      <th>noball_runs</th>\n",
       "      <th>penalty_runs</th>\n",
       "      <th>batsman_runs</th>\n",
       "      <th>extra_runs</th>\n",
       "      <th>total_runs</th>\n",
       "    </tr>\n",
       "  </thead>\n",
       "  <tbody>\n",
       "    <tr>\n",
       "      <th>count</th>\n",
       "      <td>179078.000000</td>\n",
       "      <td>179078.000000</td>\n",
       "      <td>179078.000000</td>\n",
       "      <td>179078.000000</td>\n",
       "      <td>179078.000000</td>\n",
       "      <td>179078.000000</td>\n",
       "      <td>179078.000000</td>\n",
       "      <td>179078.000000</td>\n",
       "      <td>179078.000000</td>\n",
       "      <td>179078.000000</td>\n",
       "      <td>179078.000000</td>\n",
       "      <td>179078.000000</td>\n",
       "      <td>179078.000000</td>\n",
       "    </tr>\n",
       "    <tr>\n",
       "      <th>mean</th>\n",
       "      <td>1802.252957</td>\n",
       "      <td>1.482952</td>\n",
       "      <td>10.162488</td>\n",
       "      <td>3.615587</td>\n",
       "      <td>0.000452</td>\n",
       "      <td>0.036721</td>\n",
       "      <td>0.004936</td>\n",
       "      <td>0.021136</td>\n",
       "      <td>0.004183</td>\n",
       "      <td>0.000056</td>\n",
       "      <td>1.246864</td>\n",
       "      <td>0.067032</td>\n",
       "      <td>1.313897</td>\n",
       "    </tr>\n",
       "    <tr>\n",
       "      <th>std</th>\n",
       "      <td>3472.322805</td>\n",
       "      <td>0.502074</td>\n",
       "      <td>5.677684</td>\n",
       "      <td>1.806966</td>\n",
       "      <td>0.021263</td>\n",
       "      <td>0.251161</td>\n",
       "      <td>0.116480</td>\n",
       "      <td>0.194908</td>\n",
       "      <td>0.070492</td>\n",
       "      <td>0.016709</td>\n",
       "      <td>1.608270</td>\n",
       "      <td>0.342553</td>\n",
       "      <td>1.605422</td>\n",
       "    </tr>\n",
       "    <tr>\n",
       "      <th>min</th>\n",
       "      <td>1.000000</td>\n",
       "      <td>1.000000</td>\n",
       "      <td>1.000000</td>\n",
       "      <td>1.000000</td>\n",
       "      <td>0.000000</td>\n",
       "      <td>0.000000</td>\n",
       "      <td>0.000000</td>\n",
       "      <td>0.000000</td>\n",
       "      <td>0.000000</td>\n",
       "      <td>0.000000</td>\n",
       "      <td>0.000000</td>\n",
       "      <td>0.000000</td>\n",
       "      <td>0.000000</td>\n",
       "    </tr>\n",
       "    <tr>\n",
       "      <th>25%</th>\n",
       "      <td>190.000000</td>\n",
       "      <td>1.000000</td>\n",
       "      <td>5.000000</td>\n",
       "      <td>2.000000</td>\n",
       "      <td>0.000000</td>\n",
       "      <td>0.000000</td>\n",
       "      <td>0.000000</td>\n",
       "      <td>0.000000</td>\n",
       "      <td>0.000000</td>\n",
       "      <td>0.000000</td>\n",
       "      <td>0.000000</td>\n",
       "      <td>0.000000</td>\n",
       "      <td>0.000000</td>\n",
       "    </tr>\n",
       "    <tr>\n",
       "      <th>50%</th>\n",
       "      <td>379.000000</td>\n",
       "      <td>1.000000</td>\n",
       "      <td>10.000000</td>\n",
       "      <td>4.000000</td>\n",
       "      <td>0.000000</td>\n",
       "      <td>0.000000</td>\n",
       "      <td>0.000000</td>\n",
       "      <td>0.000000</td>\n",
       "      <td>0.000000</td>\n",
       "      <td>0.000000</td>\n",
       "      <td>1.000000</td>\n",
       "      <td>0.000000</td>\n",
       "      <td>1.000000</td>\n",
       "    </tr>\n",
       "    <tr>\n",
       "      <th>75%</th>\n",
       "      <td>567.000000</td>\n",
       "      <td>2.000000</td>\n",
       "      <td>15.000000</td>\n",
       "      <td>5.000000</td>\n",
       "      <td>0.000000</td>\n",
       "      <td>0.000000</td>\n",
       "      <td>0.000000</td>\n",
       "      <td>0.000000</td>\n",
       "      <td>0.000000</td>\n",
       "      <td>0.000000</td>\n",
       "      <td>1.000000</td>\n",
       "      <td>0.000000</td>\n",
       "      <td>1.000000</td>\n",
       "    </tr>\n",
       "    <tr>\n",
       "      <th>max</th>\n",
       "      <td>11415.000000</td>\n",
       "      <td>5.000000</td>\n",
       "      <td>20.000000</td>\n",
       "      <td>9.000000</td>\n",
       "      <td>1.000000</td>\n",
       "      <td>5.000000</td>\n",
       "      <td>4.000000</td>\n",
       "      <td>5.000000</td>\n",
       "      <td>5.000000</td>\n",
       "      <td>5.000000</td>\n",
       "      <td>7.000000</td>\n",
       "      <td>7.000000</td>\n",
       "      <td>10.000000</td>\n",
       "    </tr>\n",
       "  </tbody>\n",
       "</table>\n",
       "</div>"
      ],
      "text/plain": [
       "            match_id         inning           over           ball  \\\n",
       "count  179078.000000  179078.000000  179078.000000  179078.000000   \n",
       "mean     1802.252957       1.482952      10.162488       3.615587   \n",
       "std      3472.322805       0.502074       5.677684       1.806966   \n",
       "min         1.000000       1.000000       1.000000       1.000000   \n",
       "25%       190.000000       1.000000       5.000000       2.000000   \n",
       "50%       379.000000       1.000000      10.000000       4.000000   \n",
       "75%       567.000000       2.000000      15.000000       5.000000   \n",
       "max     11415.000000       5.000000      20.000000       9.000000   \n",
       "\n",
       "       is_super_over      wide_runs       bye_runs    legbye_runs  \\\n",
       "count  179078.000000  179078.000000  179078.000000  179078.000000   \n",
       "mean        0.000452       0.036721       0.004936       0.021136   \n",
       "std         0.021263       0.251161       0.116480       0.194908   \n",
       "min         0.000000       0.000000       0.000000       0.000000   \n",
       "25%         0.000000       0.000000       0.000000       0.000000   \n",
       "50%         0.000000       0.000000       0.000000       0.000000   \n",
       "75%         0.000000       0.000000       0.000000       0.000000   \n",
       "max         1.000000       5.000000       4.000000       5.000000   \n",
       "\n",
       "         noball_runs   penalty_runs   batsman_runs     extra_runs  \\\n",
       "count  179078.000000  179078.000000  179078.000000  179078.000000   \n",
       "mean        0.004183       0.000056       1.246864       0.067032   \n",
       "std         0.070492       0.016709       1.608270       0.342553   \n",
       "min         0.000000       0.000000       0.000000       0.000000   \n",
       "25%         0.000000       0.000000       0.000000       0.000000   \n",
       "50%         0.000000       0.000000       1.000000       0.000000   \n",
       "75%         0.000000       0.000000       1.000000       0.000000   \n",
       "max         5.000000       5.000000       7.000000       7.000000   \n",
       "\n",
       "          total_runs  \n",
       "count  179078.000000  \n",
       "mean        1.313897  \n",
       "std         1.605422  \n",
       "min         0.000000  \n",
       "25%         0.000000  \n",
       "50%         1.000000  \n",
       "75%         1.000000  \n",
       "max        10.000000  "
      ]
     },
     "execution_count": 7,
     "metadata": {},
     "output_type": "execute_result"
    }
   ],
   "source": [
    "df2.describe()"
   ]
  },
  {
   "cell_type": "code",
   "execution_count": 8,
   "metadata": {},
   "outputs": [],
   "source": [
    "# Selecting necessary columns and storing them in a new dataset:\n",
    "season_data=df1[['id','season','winner']] \n",
    "\n",
    "#Merging df1 with df2:\n",
    "complete_data=df2.merge(season_data,how='inner',left_on='match_id',right_on='id') "
   ]
  },
  {
   "cell_type": "code",
   "execution_count": 9,
   "metadata": {},
   "outputs": [
    {
     "data": {
      "text/plain": [
       "array(['id', 'season', 'city', 'date', 'team1', 'team2', 'toss_winner',\n",
       "       'toss_decision', 'result', 'dl_applied', 'winner', 'win_by_runs',\n",
       "       'win_by_wickets', 'player_of_match', 'venue', 'umpire1', 'umpire2',\n",
       "       'umpire3'], dtype=object)"
      ]
     },
     "execution_count": 9,
     "metadata": {},
     "output_type": "execute_result"
    }
   ],
   "source": [
    "df1.columns.values"
   ]
  },
  {
   "cell_type": "code",
   "execution_count": 10,
   "metadata": {},
   "outputs": [
    {
     "data": {
      "text/plain": [
       "array(['match_id', 'inning', 'batting_team', 'bowling_team', 'over',\n",
       "       'ball', 'batsman', 'non_striker', 'bowler', 'is_super_over',\n",
       "       'wide_runs', 'bye_runs', 'legbye_runs', 'noball_runs',\n",
       "       'penalty_runs', 'batsman_runs', 'extra_runs', 'total_runs',\n",
       "       'player_dismissed', 'dismissal_kind', 'fielder'], dtype=object)"
      ]
     },
     "execution_count": 10,
     "metadata": {},
     "output_type": "execute_result"
    }
   ],
   "source": [
    "df2.columns.values"
   ]
  },
  {
   "cell_type": "code",
   "execution_count": 11,
   "metadata": {},
   "outputs": [
    {
     "data": {
      "text/html": [
       "<div>\n",
       "<style scoped>\n",
       "    .dataframe tbody tr th:only-of-type {\n",
       "        vertical-align: middle;\n",
       "    }\n",
       "\n",
       "    .dataframe tbody tr th {\n",
       "        vertical-align: top;\n",
       "    }\n",
       "\n",
       "    .dataframe thead th {\n",
       "        text-align: right;\n",
       "    }\n",
       "</style>\n",
       "<table border=\"1\" class=\"dataframe\">\n",
       "  <thead>\n",
       "    <tr style=\"text-align: right;\">\n",
       "      <th></th>\n",
       "      <th>id</th>\n",
       "      <th>season</th>\n",
       "      <th>city</th>\n",
       "      <th>date</th>\n",
       "      <th>team1</th>\n",
       "      <th>team2</th>\n",
       "      <th>toss_winner</th>\n",
       "      <th>toss_decision</th>\n",
       "      <th>result</th>\n",
       "      <th>dl_applied</th>\n",
       "      <th>winner</th>\n",
       "      <th>win_by_runs</th>\n",
       "      <th>win_by_wickets</th>\n",
       "      <th>player_of_match</th>\n",
       "      <th>venue</th>\n",
       "      <th>umpire1</th>\n",
       "      <th>umpire2</th>\n",
       "    </tr>\n",
       "  </thead>\n",
       "  <tbody>\n",
       "    <tr>\n",
       "      <th>0</th>\n",
       "      <td>1</td>\n",
       "      <td>2017</td>\n",
       "      <td>Hyderabad</td>\n",
       "      <td>2017-04-05</td>\n",
       "      <td>Sunrisers Hyderabad</td>\n",
       "      <td>Royal Challengers Bangalore</td>\n",
       "      <td>Royal Challengers Bangalore</td>\n",
       "      <td>field</td>\n",
       "      <td>normal</td>\n",
       "      <td>0</td>\n",
       "      <td>Sunrisers Hyderabad</td>\n",
       "      <td>35</td>\n",
       "      <td>0</td>\n",
       "      <td>Yuvraj Singh</td>\n",
       "      <td>Rajiv Gandhi International Stadium, Uppal</td>\n",
       "      <td>AY Dandekar</td>\n",
       "      <td>NJ Llong</td>\n",
       "    </tr>\n",
       "    <tr>\n",
       "      <th>1</th>\n",
       "      <td>2</td>\n",
       "      <td>2017</td>\n",
       "      <td>Pune</td>\n",
       "      <td>2017-04-06</td>\n",
       "      <td>Mumbai Indians</td>\n",
       "      <td>Rising Pune Supergiant</td>\n",
       "      <td>Rising Pune Supergiant</td>\n",
       "      <td>field</td>\n",
       "      <td>normal</td>\n",
       "      <td>0</td>\n",
       "      <td>Rising Pune Supergiant</td>\n",
       "      <td>0</td>\n",
       "      <td>7</td>\n",
       "      <td>SPD Smith</td>\n",
       "      <td>Maharashtra Cricket Association Stadium</td>\n",
       "      <td>A Nand Kishore</td>\n",
       "      <td>S Ravi</td>\n",
       "    </tr>\n",
       "    <tr>\n",
       "      <th>2</th>\n",
       "      <td>3</td>\n",
       "      <td>2017</td>\n",
       "      <td>Rajkot</td>\n",
       "      <td>2017-04-07</td>\n",
       "      <td>Gujarat Lions</td>\n",
       "      <td>Kolkata Knight Riders</td>\n",
       "      <td>Kolkata Knight Riders</td>\n",
       "      <td>field</td>\n",
       "      <td>normal</td>\n",
       "      <td>0</td>\n",
       "      <td>Kolkata Knight Riders</td>\n",
       "      <td>0</td>\n",
       "      <td>10</td>\n",
       "      <td>CA Lynn</td>\n",
       "      <td>Saurashtra Cricket Association Stadium</td>\n",
       "      <td>Nitin Menon</td>\n",
       "      <td>CK Nandan</td>\n",
       "    </tr>\n",
       "    <tr>\n",
       "      <th>3</th>\n",
       "      <td>4</td>\n",
       "      <td>2017</td>\n",
       "      <td>Indore</td>\n",
       "      <td>2017-04-08</td>\n",
       "      <td>Rising Pune Supergiant</td>\n",
       "      <td>Kings XI Punjab</td>\n",
       "      <td>Kings XI Punjab</td>\n",
       "      <td>field</td>\n",
       "      <td>normal</td>\n",
       "      <td>0</td>\n",
       "      <td>Kings XI Punjab</td>\n",
       "      <td>0</td>\n",
       "      <td>6</td>\n",
       "      <td>GJ Maxwell</td>\n",
       "      <td>Holkar Cricket Stadium</td>\n",
       "      <td>AK Chaudhary</td>\n",
       "      <td>C Shamshuddin</td>\n",
       "    </tr>\n",
       "    <tr>\n",
       "      <th>4</th>\n",
       "      <td>5</td>\n",
       "      <td>2017</td>\n",
       "      <td>Bangalore</td>\n",
       "      <td>2017-04-08</td>\n",
       "      <td>Royal Challengers Bangalore</td>\n",
       "      <td>Delhi Daredevils</td>\n",
       "      <td>Royal Challengers Bangalore</td>\n",
       "      <td>bat</td>\n",
       "      <td>normal</td>\n",
       "      <td>0</td>\n",
       "      <td>Royal Challengers Bangalore</td>\n",
       "      <td>15</td>\n",
       "      <td>0</td>\n",
       "      <td>KM Jadhav</td>\n",
       "      <td>M Chinnaswamy Stadium</td>\n",
       "      <td>NaN</td>\n",
       "      <td>NaN</td>\n",
       "    </tr>\n",
       "  </tbody>\n",
       "</table>\n",
       "</div>"
      ],
      "text/plain": [
       "   id  season       city        date                        team1  \\\n",
       "0   1    2017  Hyderabad  2017-04-05          Sunrisers Hyderabad   \n",
       "1   2    2017       Pune  2017-04-06               Mumbai Indians   \n",
       "2   3    2017     Rajkot  2017-04-07                Gujarat Lions   \n",
       "3   4    2017     Indore  2017-04-08       Rising Pune Supergiant   \n",
       "4   5    2017  Bangalore  2017-04-08  Royal Challengers Bangalore   \n",
       "\n",
       "                         team2                  toss_winner toss_decision  \\\n",
       "0  Royal Challengers Bangalore  Royal Challengers Bangalore         field   \n",
       "1       Rising Pune Supergiant       Rising Pune Supergiant         field   \n",
       "2        Kolkata Knight Riders        Kolkata Knight Riders         field   \n",
       "3              Kings XI Punjab              Kings XI Punjab         field   \n",
       "4             Delhi Daredevils  Royal Challengers Bangalore           bat   \n",
       "\n",
       "   result  dl_applied                       winner  win_by_runs  \\\n",
       "0  normal           0          Sunrisers Hyderabad           35   \n",
       "1  normal           0       Rising Pune Supergiant            0   \n",
       "2  normal           0        Kolkata Knight Riders            0   \n",
       "3  normal           0              Kings XI Punjab            0   \n",
       "4  normal           0  Royal Challengers Bangalore           15   \n",
       "\n",
       "   win_by_wickets player_of_match                                      venue  \\\n",
       "0               0    Yuvraj Singh  Rajiv Gandhi International Stadium, Uppal   \n",
       "1               7       SPD Smith    Maharashtra Cricket Association Stadium   \n",
       "2              10         CA Lynn     Saurashtra Cricket Association Stadium   \n",
       "3               6      GJ Maxwell                     Holkar Cricket Stadium   \n",
       "4               0       KM Jadhav                      M Chinnaswamy Stadium   \n",
       "\n",
       "          umpire1        umpire2  \n",
       "0     AY Dandekar       NJ Llong  \n",
       "1  A Nand Kishore         S Ravi  \n",
       "2     Nitin Menon      CK Nandan  \n",
       "3    AK Chaudhary  C Shamshuddin  \n",
       "4             NaN            NaN  "
      ]
     },
     "execution_count": 11,
     "metadata": {},
     "output_type": "execute_result"
    }
   ],
   "source": [
    "#Dropping umpire3 column:\n",
    "df1 = df1.drop(columns=[\"umpire3\"],axis=1)\n",
    "\n",
    "df1.head()"
   ]
  },
  {
   "cell_type": "code",
   "execution_count": 12,
   "metadata": {},
   "outputs": [
    {
     "data": {
      "text/plain": [
       "season  winner                     \n",
       "2008    Rajasthan Royals               13\n",
       "        Kings XI Punjab                10\n",
       "        Chennai Super Kings             9\n",
       "        Delhi Daredevils                7\n",
       "        Mumbai Indians                  7\n",
       "                                       ..\n",
       "2019    Kings XI Punjab                 6\n",
       "        Kolkata Knight Riders           6\n",
       "        Sunrisers Hyderabad             6\n",
       "        Rajasthan Royals                5\n",
       "        Royal Challengers Bangalore     5\n",
       "Name: winner, Length: 100, dtype: int64"
      ]
     },
     "execution_count": 12,
     "metadata": {},
     "output_type": "execute_result"
    }
   ],
   "source": [
    "#Printing number of wins per season by different teams\n",
    "wins_per_season = df1.groupby(\"season\")[\"winner\"].value_counts()\n",
    "wins_per_season"
   ]
  },
  {
   "cell_type": "code",
   "execution_count": 13,
   "metadata": {},
   "outputs": [
    {
     "data": {
      "text/plain": [
       "array([2017, 2008, 2009, 2010, 2011, 2012, 2013, 2014, 2015, 2016, 2018,\n",
       "       2019], dtype=int64)"
      ]
     },
     "execution_count": 13,
     "metadata": {},
     "output_type": "execute_result"
    }
   ],
   "source": [
    "#Printing values of the seasons:\n",
    "df1['season'].unique()"
   ]
  },
  {
   "cell_type": "markdown",
   "metadata": {},
   "source": [
    "# Team that Won by Maximum Runs:"
   ]
  },
  {
   "cell_type": "code",
   "execution_count": 14,
   "metadata": {},
   "outputs": [
    {
     "data": {
      "text/plain": [
       "id                               44\n",
       "season                         2017\n",
       "city                          Delhi\n",
       "date                     2017-05-06\n",
       "team1                Mumbai Indians\n",
       "team2              Delhi Daredevils\n",
       "toss_winner        Delhi Daredevils\n",
       "toss_decision                 field\n",
       "result                       normal\n",
       "dl_applied                        0\n",
       "winner               Mumbai Indians\n",
       "win_by_runs                     146\n",
       "win_by_wickets                    0\n",
       "player_of_match         LMP Simmons\n",
       "venue              Feroz Shah Kotla\n",
       "umpire1                 Nitin Menon\n",
       "umpire2                   CK Nandan\n",
       "Name: 43, dtype: object"
      ]
     },
     "execution_count": 14,
     "metadata": {},
     "output_type": "execute_result"
    }
   ],
   "source": [
    "df1.iloc[df1['win_by_runs'].idxmax()]"
   ]
  },
  {
   "cell_type": "code",
   "execution_count": 15,
   "metadata": {},
   "outputs": [
    {
     "data": {
      "text/plain": [
       "'Mumbai Indians'"
      ]
     },
     "execution_count": 15,
     "metadata": {},
     "output_type": "execute_result"
    }
   ],
   "source": [
    "df1.iloc[df1['win_by_runs'].idxmax()]['winner']"
   ]
  },
  {
   "cell_type": "markdown",
   "metadata": {},
   "source": [
    "# Team that Won by Maximum Wickets:"
   ]
  },
  {
   "cell_type": "code",
   "execution_count": 16,
   "metadata": {},
   "outputs": [
    {
     "data": {
      "text/plain": [
       "id                                                      3\n",
       "season                                               2017\n",
       "city                                               Rajkot\n",
       "date                                           2017-04-07\n",
       "team1                                       Gujarat Lions\n",
       "team2                               Kolkata Knight Riders\n",
       "toss_winner                         Kolkata Knight Riders\n",
       "toss_decision                                       field\n",
       "result                                             normal\n",
       "dl_applied                                              0\n",
       "winner                              Kolkata Knight Riders\n",
       "win_by_runs                                             0\n",
       "win_by_wickets                                         10\n",
       "player_of_match                                   CA Lynn\n",
       "venue              Saurashtra Cricket Association Stadium\n",
       "umpire1                                       Nitin Menon\n",
       "umpire2                                         CK Nandan\n",
       "Name: 2, dtype: object"
      ]
     },
     "execution_count": 16,
     "metadata": {},
     "output_type": "execute_result"
    }
   ],
   "source": [
    "df1.iloc[df1['win_by_wickets'].idxmax()]"
   ]
  },
  {
   "cell_type": "code",
   "execution_count": 17,
   "metadata": {},
   "outputs": [
    {
     "data": {
      "text/plain": [
       "'Kolkata Knight Riders'"
      ]
     },
     "execution_count": 17,
     "metadata": {},
     "output_type": "execute_result"
    }
   ],
   "source": [
    "df1.iloc[df1['win_by_wickets'].idxmax()]['winner']"
   ]
  },
  {
   "cell_type": "markdown",
   "metadata": {},
   "source": [
    "# Team that Won by Minimum Runs:"
   ]
  },
  {
   "cell_type": "code",
   "execution_count": 18,
   "metadata": {},
   "outputs": [
    {
     "data": {
      "text/plain": [
       "'Mumbai Indians'"
      ]
     },
     "execution_count": 18,
     "metadata": {},
     "output_type": "execute_result"
    }
   ],
   "source": [
    "df1.iloc[df1[df1['win_by_runs'].ge(1)].win_by_runs.idxmin()]['winner']"
   ]
  },
  {
   "cell_type": "markdown",
   "metadata": {},
   "source": [
    "# Team that Won by Minimum Wickets:"
   ]
  },
  {
   "cell_type": "code",
   "execution_count": 19,
   "metadata": {},
   "outputs": [
    {
     "data": {
      "text/plain": [
       "'Kolkata Knight Riders'"
      ]
     },
     "execution_count": 19,
     "metadata": {},
     "output_type": "execute_result"
    }
   ],
   "source": [
    "df1.iloc[df1[df1['win_by_wickets'].ge(1)].win_by_wickets.idxmin()]['winner']"
   ]
  },
  {
   "cell_type": "markdown",
   "metadata": {},
   "source": [
    "# Observation :"
   ]
  },
  {
   "cell_type": "markdown",
   "metadata": {},
   "source": [
    "-> Mumbai Indians is the team which won by maximum and minimum runs\n",
    "\n",
    "-> Kolkata Knight Riders is the team which won by maximum and minimum wickets"
   ]
  },
  {
   "cell_type": "markdown",
   "metadata": {},
   "source": [
    "# Correlation:"
   ]
  },
  {
   "cell_type": "code",
   "execution_count": 20,
   "metadata": {},
   "outputs": [
    {
     "data": {
      "text/html": [
       "<div>\n",
       "<style scoped>\n",
       "    .dataframe tbody tr th:only-of-type {\n",
       "        vertical-align: middle;\n",
       "    }\n",
       "\n",
       "    .dataframe tbody tr th {\n",
       "        vertical-align: top;\n",
       "    }\n",
       "\n",
       "    .dataframe thead th {\n",
       "        text-align: right;\n",
       "    }\n",
       "</style>\n",
       "<table border=\"1\" class=\"dataframe\">\n",
       "  <thead>\n",
       "    <tr style=\"text-align: right;\">\n",
       "      <th></th>\n",
       "      <th>id</th>\n",
       "      <th>season</th>\n",
       "      <th>dl_applied</th>\n",
       "      <th>win_by_runs</th>\n",
       "      <th>win_by_wickets</th>\n",
       "    </tr>\n",
       "  </thead>\n",
       "  <tbody>\n",
       "    <tr>\n",
       "      <th>id</th>\n",
       "      <td>1.000000</td>\n",
       "      <td>0.668304</td>\n",
       "      <td>-0.011658</td>\n",
       "      <td>-0.039403</td>\n",
       "      <td>-0.012239</td>\n",
       "    </tr>\n",
       "    <tr>\n",
       "      <th>season</th>\n",
       "      <td>0.668304</td>\n",
       "      <td>1.000000</td>\n",
       "      <td>-0.001116</td>\n",
       "      <td>-0.037529</td>\n",
       "      <td>-0.009379</td>\n",
       "    </tr>\n",
       "    <tr>\n",
       "      <th>dl_applied</th>\n",
       "      <td>-0.011658</td>\n",
       "      <td>-0.001116</td>\n",
       "      <td>1.000000</td>\n",
       "      <td>-0.016349</td>\n",
       "      <td>-0.011631</td>\n",
       "    </tr>\n",
       "    <tr>\n",
       "      <th>win_by_runs</th>\n",
       "      <td>-0.039403</td>\n",
       "      <td>-0.037529</td>\n",
       "      <td>-0.016349</td>\n",
       "      <td>1.000000</td>\n",
       "      <td>-0.560420</td>\n",
       "    </tr>\n",
       "    <tr>\n",
       "      <th>win_by_wickets</th>\n",
       "      <td>-0.012239</td>\n",
       "      <td>-0.009379</td>\n",
       "      <td>-0.011631</td>\n",
       "      <td>-0.560420</td>\n",
       "      <td>1.000000</td>\n",
       "    </tr>\n",
       "  </tbody>\n",
       "</table>\n",
       "</div>"
      ],
      "text/plain": [
       "                      id    season  dl_applied  win_by_runs  win_by_wickets\n",
       "id              1.000000  0.668304   -0.011658    -0.039403       -0.012239\n",
       "season          0.668304  1.000000   -0.001116    -0.037529       -0.009379\n",
       "dl_applied     -0.011658 -0.001116    1.000000    -0.016349       -0.011631\n",
       "win_by_runs    -0.039403 -0.037529   -0.016349     1.000000       -0.560420\n",
       "win_by_wickets -0.012239 -0.009379   -0.011631    -0.560420        1.000000"
      ]
     },
     "execution_count": 20,
     "metadata": {},
     "output_type": "execute_result"
    }
   ],
   "source": [
    "corr = df1.corr()\n",
    "corr"
   ]
  },
  {
   "cell_type": "code",
   "execution_count": 21,
   "metadata": {},
   "outputs": [
    {
     "data": {
      "text/plain": [
       "<AxesSubplot:>"
      ]
     },
     "execution_count": 21,
     "metadata": {},
     "output_type": "execute_result"
    },
    {
     "data": {
      "image/png": "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\n",
      "text/plain": [
       "<Figure size 432x288 with 2 Axes>"
      ]
     },
     "metadata": {
      "needs_background": "light"
     },
     "output_type": "display_data"
    }
   ],
   "source": [
    "sns.heatmap(corr, annot=True)"
   ]
  },
  {
   "cell_type": "markdown",
   "metadata": {},
   "source": [
    "# Data Visualization:"
   ]
  },
  {
   "cell_type": "code",
   "execution_count": 22,
   "metadata": {},
   "outputs": [
    {
     "data": {
      "image/png": "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\n",
      "text/plain": [
       "<Figure size 1440x720 with 1 Axes>"
      ]
     },
     "metadata": {
      "needs_background": "light"
     },
     "output_type": "display_data"
    }
   ],
   "source": [
    "plt.figure(figsize=(20,10))\n",
    "sns.countplot('season',data=df1, palette='Paired')\n",
    "plt.title(\"Number of Matches played in each IPL season\",fontsize='20')\n",
    "plt.xlabel(\"Season\",fontsize='15')\n",
    "plt.ylabel('Matches',fontsize='15')\n",
    "plt.show()"
   ]
  },
  {
   "cell_type": "markdown",
   "metadata": {},
   "source": [
    "## Observation: "
   ]
  },
  {
   "cell_type": "markdown",
   "metadata": {},
   "source": [
    "In 2013, the most number of matches have been played."
   ]
  },
  {
   "cell_type": "code",
   "execution_count": 23,
   "metadata": {},
   "outputs": [
    {
     "data": {
      "image/png": "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\n",
      "text/plain": [
       "<Figure size 1296x720 with 1 Axes>"
      ]
     },
     "metadata": {
      "needs_background": "light"
     },
     "output_type": "display_data"
    }
   ],
   "source": [
    "plt.figure(figsize = (18,10))\n",
    "sns.countplot(x='winner',data=df1, palette='cool')\n",
    "plt.title(\"Numbers of matches won by team \",fontsize='20')\n",
    "plt.xticks(rotation=50)\n",
    "plt.xlabel(\"Teams\",fontsize='15')\n",
    "plt.ylabel(\"No of wins\",fontsize='15')\n",
    "plt.show()"
   ]
  },
  {
   "cell_type": "markdown",
   "metadata": {},
   "source": [
    "## Observation:"
   ]
  },
  {
   "cell_type": "markdown",
   "metadata": {},
   "source": [
    "Mumbai Indians are the winners in most number of matches."
   ]
  },
  {
   "cell_type": "code",
   "execution_count": 24,
   "metadata": {},
   "outputs": [
    {
     "data": {
      "image/png": "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\n",
      "text/plain": [
       "<Figure size 1440x720 with 1 Axes>"
      ]
     },
     "metadata": {
      "needs_background": "light"
     },
     "output_type": "display_data"
    }
   ],
   "source": [
    "top_players = df1.player_of_match.value_counts()[:10]\n",
    "plt.figure(figsize=(20,10))\n",
    "plt.xlabel(\"Players\", fontsize='15')\n",
    "plt.ylabel(\"Count\", fontsize='15')\n",
    "plt.title(\"Top Player of the Match Winners\", fontsize='20')\n",
    "top_players.plot.bar()\n",
    "sns.barplot(x = top_players.index, y = top_players, orient='v', palette=\"deep\");\n",
    "plt.show()"
   ]
  },
  {
   "cell_type": "markdown",
   "metadata": {},
   "source": [
    "## Observation:"
   ]
  },
  {
   "cell_type": "markdown",
   "metadata": {},
   "source": [
    "CH Gayle is the most successful player in all match winners."
   ]
  },
  {
   "cell_type": "code",
   "execution_count": 25,
   "metadata": {},
   "outputs": [
    {
     "data": {
      "image/png": "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\n",
      "text/plain": [
       "<Figure size 1440x720 with 1 Axes>"
      ]
     },
     "metadata": {
      "needs_background": "light"
     },
     "output_type": "display_data"
    }
   ],
   "source": [
    "plt.figure(figsize=(20,10))\n",
    "sns.countplot(x='venue',data=df1)\n",
    "plt.title('Number of Matches in Each Venue', fontsize='20')\n",
    "plt.xlabel('Venue', fontsize='15')\n",
    "plt.ylabel('Count', fontsize='15')\n",
    "plt.xticks(rotation='90')\n",
    "plt.show()"
   ]
  },
  {
   "cell_type": "markdown",
   "metadata": {},
   "source": [
    "## Observation:"
   ]
  },
  {
   "cell_type": "markdown",
   "metadata": {},
   "source": [
    "Eden Gardens is the venue with most number of matches played."
   ]
  },
  {
   "cell_type": "code",
   "execution_count": 26,
   "metadata": {},
   "outputs": [
    {
     "data": {
      "image/png": "iVBORw0KGgoAAAANSUhEUgAABJcAAALsCAYAAABePFbQAAAAOXRFWHRTb2Z0d2FyZQBNYXRwbG90bGliIHZlcnNpb24zLjMuMiwgaHR0cHM6Ly9tYXRwbG90bGliLm9yZy8vihELAAAACXBIWXMAAAsTAAALEwEAmpwYAAB8j0lEQVR4nOzdd5hkZZn+8e8NqJgwMWIElFUUlaCYE5gDigHTz4i66Bow7q6u7oJx1TWjohgwBxRRzLhIEBWRJCDqqoiKCUQFFEXB5/fHe5qp6anu6TlM9zk98/1cV1/VdSr006erqqvu877Pm6pCkiRJkiRJ6mOjoQuQJEmSJEnS8mW4JEmSJEmSpN4MlyRJkiRJktSb4ZIkSZIkSZJ6M1ySJEmSJElSb4ZLkiRJkiRJ6s1wSZK0wUtyZJIauo51KclNkhyS5DdJKskfh65psSXZt/tddxm6lnUpyfu732vroWvpK8ku3e+w7wKv/6Tu+k9a3MrGz30hSVoODJckSetE9+GnkvwsyaZzXOfM7jqbLHV9G5IkGwOfAR4AfB54GfCaBdxu5m/4jyTbzHO9Iyau+6TLWOsG98F5IgSb/PpLkv9L8vYkNxi6xg3ZRBA279fQda6NJFsv5Hea9bXL0HVLkpYP39xLkta1LYHnsoAwQ4vmRsB2wLuraq+1vO3FtPcHTwH+Y/aFSW4C3H3ieurvKODI7vvNgfsAzwAemeQOVfWToQoTAD8D3j90EevIH2kh82z7dKfTLjtzsYqRJK1/fFMoSVqX/gAU8OIk76mq3w1d0Abqet3pr3rc9rfAr4E9k/xXVV086/KnAqGNiHpI7woFcGRV7TtzJsnlgC8B9wReCuw5UF1qzpz8+yxnVfVHYN/Z25Ps012+2mWSJK0Np8VJktalC4FXAJux8oj4vNbUi6WbSnfmrG2XTqVKcu8kX0/ypyTnJDkwydW76+2U5PNJ/tBdfuh8fWuSXCHJK5P8NMlFSX6SZJ8kl5/j+jfr+uH8orv+b5N8NMm2U6470zfnxkmeneSUbirUkQvcT7dJcnCSs7uf9bMk70hy3VnXK9qIGIB9Jqa47LuQn9N5N3AdYLdZ93054InAN4HvzVPnW5J8N8nvk/w1yY+SvCHJNWZd90jgwO7sgbOm5Gw9cb2Nkzw9yTeSnNfttx8neU83kmpaHXskOS7JhV0dH09y/Tmue80k/53k+919n5fk8CT3mXLdyyfZO8mJ3ePqwu4x+tkk95pjfy5IVf0dOKA7e7s1Xb97/B+c5Iyu7vO7ffS4Kdc9Nsklcz3+k7yw2+8vmLX9Bkne1v2Mi5Kc2z2PbjvH/WyR5L3dc+EvSU5O8sQ1/vLz/54PTPLNJH/u9vmnZv/du79vJbnbHPexR3f5fpellnlqXPDjftbtHtU91mZuc2aSjyXZeY7r75rWI+6C7u/9hSQ3X6Tf6b5Jvpjkd1n5evg/6V5fp9R1QJLTu7r+kuS0tNfP1aZJZ6I/WpLHJDmhey79Kskbk1yhu949ut/3/O5v/6Ek11qM31eSdNk4ckmStK69HXgW8LQk+1XV/y3iz3owLQD5PPBO4E7Ak4AbJXkRcDjwdeC9wK2ABwHbJLlVVf1jyv0dBNwW+BTwd2B32tH+nZM8uKou7bOS5H7Ap4HLAZ8DfgzcAHgY8MAku1bViVN+xluAuwJfAL4IXLKmXzLJbsDBtBFDn6JN17kN8C/A7knuXFVndld/GbA1LQSanHZ1JAv3MeCNtFFKn5nY/mBgC+BFwD/Ncdt/Bh7a/ez/BTYGbg08H7h/kttX1QXddd9Pm66zO/BZ4OSJ+/kjtDCHtq/uBfwC+Chwfvc7PhQ4BvjRrBqe0dV6aFfH7YFHATsk2bGqLpq5YpKtaPtma9pj5cvAlWmPqy8neVpVvXvivt8PPAY4Dfgg8BfaSLG7APfrfufLIt3pQnr67A+cDhxNG212LVqfrQ8l2baq/nPiuu8APkD7+7xkyn09Fbiou04rJLk1cBhwTeArtMf75rQRa8ckeWhVfXHi+teiBY83pv1djgGuS3tuHraA32eahwH3Bw6h/Z12BB4O7JrkTlX1w4nf71HA02j7Y7aZ6aEHTLlsXVibxz1JQgtWnwj8jrZvz6G9huwK/BA4ftbP2I32XPkSbZ9uR/t73zbJdutypGiS/6K9lvye9vp6NrA98ELgAUnuWFXnT9zk34Gb0f7+XwA2Be5Me/3cJcm9qmraa92zaX/fz9D+vvcBngdcM8lngY9393cA7fX9cbTH4P3X1e8qSVpHqsovv/zyyy+/LvMX7cPwWd33e3TnPz3rOmd22zeZ2LZLt23fOe73TNr0lMltT+puczFw94ntGwFf7S77PfDYWbd7b3fZ7rO2H9lt/z/gGhPbNwW+1V32+Int16BNAfwdsN2s+7oF8CfgxFnb39/dzy+BG63Ffr1K93MuAe4667J/7+7zsFnb592nC/wbvqfbvzeYuPzLwHnAlYBXdtd/0qz72ArYeMp9P6W7/r/P8bd80hw1vbq7/FDgCrMuuwKwYuL8vt11zwduNeu6H+0ue+SUv/0/gEfP2n51Wtj1F2CLbtvVuuseP8fveK0F7ueZOvedtX0TWiBawHunPHa2nnX9babc9+W7+/g7cP1Z++p3tBDqcnM8Xj4yq5YfA39l4jnWXXa97nH868m/CS0AKOBNs66/c1fPgh+TE4+LAnabddlzuu2Hz9p+Wlfv5rO236j7u31jgT97Zn+c2f2tpn3Nfrys7eN+r277ccDVZl22MXDdKfviYuCes677391l/7aQ321KfQXUrG27dtu/CVx9jr/L7L/xjYFMuf9XdNd/1BzPgfOAm896nH6P9np3LnO/vu/Y5/f1yy+//PJr8b6cFidJWueq6lO0UOahSe6yiD/qY1U1MwWMaqORPtSdPa2qPjLr+h/sTnec4/5eUVV/mLi/vwIv7s4+eeJ6T6CFD/tU1emTd1BV36NNK9spyXZTfsbrquqnc/5Gq9udNiLlE1X19VmXvYH2AfjeSbZci/tciHfTPuQ+GS4d4XNvWgBx4Vw3qqqf1fQRCu+jhT73XWgBaavePYMW8Dy9JkYcdT/roqo6Z8pN31pVp075fWBiulmSHWjNyQ+uqo/Puu8/0qZ2bkobKQPtQ21oI3xWG/lWVecu7De71C7d9KB9u+lapwP3oIVAr1rTjWtKw++q+htt9OAmtN5NM9svoo2UuQ5tVNekp3Wn75rY9kBgG2C/yedYd1+/Al7X3dc94dIpk48FLmBWb5+qOh6Y/VxcqK9V1ednbXsb8BPgHt3jcsb+tHBi9jS8vWh/t3exdraiPQamfT168oo9HvfP7k6fVlXnzbqvS6rq11Pu6+NVdfisbQueRrkW9u5O/7l7HkzW9n5a6PrYWdvPqKppo+3e3J3O9bx/a1V9f+J+LgI+QQuSvjDl9f3D3dkdFvB7SJKWkNPiJEmL5QW0I99vSFv5atoHj8tq9rQRWNnE+oQpl/2yO51rqfejpmz7Om3EwE4T2+7Yne6Q6b2Mbtqd3pwWGEw6bo6fPZdbd6dfm31BVV2c5GjalK6dgJ+v5X3Pqaq+neRU4MlJXkmbNrURK0OaqbqQ4Wm0D9/b0Ub7TB7Mmtr3aA43627/7S7QWKhpj4tfdKeT/W9m/o5Xm+PvuKI7vTlAVZ2f5HO06ZUnJzmY9vj49nyB2zzu3n0B/K2r8Z3Aq6vqF3PeqtMFiv9OC3i2BK446yqz9/X+tOfl02jTLEmyOW061/eranI62cy+2WqOfTPT8+jmtOmdN6ONaPv67LCkcySrhz4LsdpzsqouSXIMLfzaiTZNFFp4/BpamPQGuPTx+CTaSMOD1vZnV9UuC7ni2jzuk1wZuCXw26o6aS3qWejj+rK6I22k2SOSPGLK5ZcHViS51kyg2v1Oz6E9lm4KXJWVUzxh7uf9un4NlyQNxHBJkrQoqupbST5FmyL3SNrR6HVt2ofYixdw2eXmuL/fzt7QfZA9F7j2xOaZhrL/vIb6rjJl22/WcJvZrtadThvJMLn96mt5vwvxbuCttF5CewInLODD8CdoHzDPoPVR+g1tpA/Ac2kjSxbq6t3pL+e70hR/nLJt5m+/8cS2mb/jvbuvuUz+HR9FC3T+HyuXb/9r91h/YVWt9hiax8uq5ypdSW5MCyqvQQu4DqM95i9hZc+tVfZ1VZ2R5CvAfZNs0418elJ3vdmjemb2zbRwYdLMvpl5nM71+6/t437Gmu5v5udSVRck+TDw9K7n2RG0kX/XAd7cjURcLGvzuL96d3qZH9ddwAyrPq4vq2vRPiPss4brXQU4twvWvkYbPXUabV+cQwuo6O5nruf9un4NlyQNxHBJkrSYXkT7cPffSQ6Z4zoz04vm+p90NaZ/yFgMWzBr9E83NetatKktM2bq2aGqTlnLn7G2I7hmftZ15rj8urOuty59CHgtLXi4PvDy+a7crXD1UFpD4wdUW/1s5rKNgH9by5//x+50bUY7rY2ZffacqnrrQm5QVX+h67uT5IbA3WgBzeNooc5d13mV0z2f9rjcs5uqdKkkj2HuUUL708LCf6Y9P59K61P0wVnXm9k3u1fVoQuoZ+b6W8xx+VyP3zVZ0/3NftzvDzydNoroCBa/kXefx/0fu9PFelxfVucBG1XVNRd4/d1pwdIHqupJkxekrWa5ppBKkrQesOeSJGnRdCMj3kFrqPvsOa420+PohrMvSPJPLM6InLncfcq2u9KCr8kRO8dOXLbYZn7uLrMvSLIJbZUygGkr010mXb+VT9GmoPyZtorcfGZWkDt08gN253asPm0LVq6WN23kxQ9oH8S3T3K9BZS8ti7T37GqftH19bovbcW6uyzhMukz+/rgKZdNexzP+DwtQN0zyX2AbYGDJnuNddZ23/wAuBDYMcnVply+ywLvZ7bVfpcu8J153K8ykq4Le79B6/d2e9oqg0dP9vVZBGv1uK+qP9NG+GyRZCfG51jgGkluscDr930sSpLWI4ZLkqTF9nJaQPASpk8T+wFtVNDuSS6depbkirQpWUvpP5Nc2rskyaa01ZigNUNm4vs/AvskWa2RbpKNkuyyjmr6DG3lu8ckucOsy55LW6Xpf6tqnfVbmuWltFEZ962JpdTncGZ3usvkxu7v+vY5bjPTBHu1huRdg+R30D6cvzPJKlNrklw+yYrZt1uortH014GHJXnytOskudXM4zLJii6wmO3KtB4zF9N6Jy2FM7vTXSY3JrkvbTTSVF1T5ANo0zzf121+55SrfpbWNPuZSR4w7b6S3DHJlbr7/TutafdVmdXQuxvZ89jV7mBh7pFkt1nbnkXrt3REVf1sym32p/UFOpjW92fa77cundmd7jK5cQ2P+5nXtnfNDuO614/rTrnNUnlTd/ruaaFukivPei06szvdZdb1bkwb+ShJ2gA4LU6StKiq6vdJXk1bXWra5X9P8hbgP4GTuulzm9B64PyKlc1dl8L3ge91/XP+TpvusQ3wBVauQkdVnZtkD+AQ4Ngkh9OWz/4HLSS5I23K0qaXtaCq+lMXfHwSOCrJJ2kjT24D3IfW2+Vp89zFZf35P2fhjcK/Qxs18rAk3wSOoU1ruj/wQ6b/Lb9FG/Hy3CTXZGWPnf26xtAvA25Pa6L9f0k+T1uR7Ia03/9fgfev/W92qf9H6xfz3iR7A9+mBYc3ALanNV6+I3A2bRrTsUm+Txsp9gtgM2A32jStty4ggFtX3kHrg/XJrrH4L7ta70drXP2oeW77HuC/aL/PqVX1rdlX6J6XDwO+Anyh+3ueTPtb3RC4LS3YvG63DeA/aM3Fn9sFSsd0lz+K1vR79ip1C/E54JDudeHHtFXCHkALXJ8xx20+SQtIrk9bee/TPX4uwNZzNDOf8eZudF+fx/17aKOvngD8KMlnaX2KrkdbMfB9zArplkpVHZ7kRbRg/UdJvgj8lHZwYCvaaKRjaI81aH+jHwPPT3Ir2miyLWnPiy8wJTiWJK1/DJckSUvhrbQPglvPcfk+tA+o/0zrkfIb4OO0D1ezV1tbTI+khVyPpX3I+2VXw2tmr3bXfQDbHnghbVrUXWmjVn5FCyumTRHppao+m+TOtA/v96X1ofoNbUTGK9ZyJbVF0zU/fzDwSloAsDdtH76n27ba37Kq/pDk4bTHwJ60UUDQlhw/r6r+luR+tD46T6D1EgptPx9C+5B7WWo+K8ltaNM2H077229M27+nA/sBp3ZXP7OrcxdgV2BzWsjxQ1r/oo9fllrWsu5TkuzKyn29CfBd4GG0cGzOcKmqftsFBg9h9Ubes3/GDrT+TrvR/j7/oDWRP4m2L343cf3fdY/TV9PCwJ1p++ZfaPuuT7j0adpIq5cAD6SFvp8GXlxV/zdH3X9L8hHayL73d8vb97EV8/cLej/wx56P+wKemOQw2mveI2lNr39NG023kD5Xi6aqXpvkG7Tf5S60oP082u91APDRiev+Ock9aCv17UJ7LTwDeAXwRuYPOiVJ64kszsrQkiRJGqOuyfSPaaNrrltV56/hJstOkiNpzda3raofDVyOJEnrPXsuSZIkbVj2oDXZ/+B6GizdjjZ16ysGS5IkLQ1HLkmSJG0Auj4616RNw9oEuMUcDbGXpST/QuuztCetB9Ydq+q4YauSJGnDYLgkSZK0AUhStJ5FpwP/WlVfHbikdSrJmbRG7GcA+1bVR+e/hSRJWlcMlyRJkiRJktTberda3Oabb15bb7310GVIkiRJkiStN0444YTfVdWKaZetd+HS1ltvzfHHHz90GZIkSZIkSeuNJHP2anS1OEmSJEmSJPVmuCRJkiRJkqTeDJckSZIkSZLUm+GSJEmSJEmSejNckiRJkiRJUm+GS5IkSZIkSerNcEmSJEmSJEm9GS5JkiRJkiSpN8MlSZIkSZIk9Wa4JEmSJEmSpN4MlyRJkiRJktSb4ZIkSZIkSZJ6M1ySJEmSJElSb4ZLkiRJkiRJ6s1wSZIkSZIkSb0ZLkmSJEmSJKk3wyVJkiRJkiT1ZrgkSZIkSZKk3gyXJEmSJEmS1JvhkiRJkiRJknozXJIkSZIkSVJvhkuSJEmSJEnqzXBJkiRJkiRJvRkuSZIkSZIkqbdNhi5A4/Srtz9/6BKW1PWe+cahS5AkSZIkaVly5JIkSZIkSZJ6M1ySJEmSJElSb4ZLkiRJkiRJ6s1wSZIkSZIkSb0ZLkmSJEmSJKk3wyVJkiRJkiT1ZrgkSZIkSZKk3gyXJEmSJEmS1JvhkiRJkiRJknozXJIkSZIkSVJvhkuSJEmSJEnqzXBJkiRJkiRJvRkuSZIkSZIkqTfDJUmSJEmSJPVmuCRJkiRJkqTeDJckSZIkSZLUm+GSJEmSJEmSejNckiRJkiRJUm+GS5IkSZIkSeptk6ELkCSt9NaP3HfoEpbU3o/9ytAlSJIkSbqMHLkkSZIkSZKk3gyXJEmSJEmS1JvhkiRJkiRJknozXJIkSZIkSVJvNvSWJC1Lex5yv6FLWDIHPvTLQ5cgSZIkzcmRS5IkSZIkSerNcEmSJEmSJEm9GS5JkiRJkiSpN8MlSZIkSZIk9bak4VKS9yU5O8lpE9s+keTk7uvMJCd327dO8peJy965lLVKkiRJkiRpzZZ6tbj3A28DPjizoaoeNfN9kjcA501c/ydVteNSFSdJkjZcDzz4PUOXsGS+8PCnDl2CJElajyxpuFRVRyfZetplSQI8ErjHUtYkSZIkSZKk/sbUc+muwG+r6kcT226U5KQkRyW561CFSZIkSZIkabqlnhY3n8cAH5s4/2tgy6o6N8ltgM8kuUVVnT/7hkn2AvYC2HLLLZekWEmSJEmSJI1k5FKSTYCHAZ+Y2VZVF1XVud33JwA/AW467fZVdUBV7VxVO69YsWIpSpYkSZIkSRIjCZeAewE/qKqzZjYkWZFk4+77GwM3Ac4YqD5JkiRJkiRNsaThUpKPAd8Ctk1yVpKndBc9mlWnxAHcDTglyXeBTwFPr6rfL121kiRJkiRJWpOlXi3uMXNsf9KUbQcDBy92TZIkSZIkSepvLNPiJEmSJEmStAwZLkmSJEmSJKk3wyVJkiRJkiT1ZrgkSZIkSZKk3gyXJEmSJEmS1JvhkiRJkiRJknozXJIkSZIkSVJvhkuSJEmSJEnqzXBJkiRJkiRJvRkuSZIkSZIkqTfDJUmSJEmSJPVmuCRJkiRJkqTeDJckSZIkSZLUm+GSJEmSJEmSejNckiRJkiRJUm+GS5IkSZIkSerNcEmSJEmSJEm9GS5JkiRJkiSpN8MlSZIkSZIk9Wa4JEmSJEmSpN4MlyRJkiRJktSb4ZIkSZIkSZJ6M1ySJEmSJElSb4ZLkiRJkiRJ6s1wSZIkSZIkSb1tMnQBkiRJWj4e9KlPD13CkvncHg8bugRJkpYFRy5JkiRJkiSpN8MlSZIkSZIk9Wa4JEmSJEmSpN4MlyRJkiRJktSb4ZIkSZIkSZJ6M1ySJEmSJElSb4ZLkiRJkiRJ6m2ToQuQJEmL5wGHvHLoEpbUFx/60qFLkCRJ2uA4ckmSJEmSJEm9GS5JkiRJkiSpN8MlSZIkSZIk9Wa4JEmSJEmSpN4MlyRJkiRJktSb4ZIkSZIkSZJ6M1ySJEmSJElSb4ZLkiRJkiRJ6s1wSZIkSZIkSb0ZLkmSJEmSJKk3wyVJkiRJkiT1ZrgkSZIkSZKk3gyXJEmSJEmS1JvhkiRJkiRJknozXJIkSZIkSVJvhkuSJEmSJEnqzXBJkiRJkiRJvRkuSZIkSZIkqTfDJUmSJEmSJPVmuCRJkiRJkqTeDJckSZIkSZLUm+GSJEmSJEmSejNckiRJkiRJUm+GS5IkSZIkSerNcEmSJEmSJEm9GS5JkiRJkiSpN8MlSZIkSZIk9bak4VKS9yU5O8lpE9v2TfLLJCd3Xw+YuOzFSX6c5IdJ7ruUtUqSJEmSJGnNlnrk0vuB+03Z/qaq2rH7+iJAku2ARwO36G7zjiQbL1mlkiRJkiRJWqMlDZeq6mjg9wu8+u7Ax6vqoqr6KfBj4HaLVpwkSZIkSZLW2lh6Lj0rySndtLlrdNuuD/xi4jpnddtWk2SvJMcnOf6cc85Z7FolSZIkSZLUGUO4tD+wDbAj8GvgDd32TLluTbuDqjqgqnauqp1XrFixKEVKkiRJkiRpdYOHS1X126q6pKr+AbyblVPfzgJuOHHVGwC/Wur6JEmSJEmSNLfBw6Uk1504+1BgZiW5Q4FHJ7lCkhsBNwGOW+r6JEmSJEmSNLdNlvKHJfkYsAuweZKzgH2AXZLsSJvydibwNICq+l6Sg4DTgYuBZ1bVJUtZryRJkiRJkua3pOFSVT1myub3znP9VwGvWryKJEmSJEmSdFkMPi1OkiRJkiRJy5fhkiRJkiRJknpb0mlxkiRJ0obgoQcfM3QJS+qQh99l6BIkSQNy5JIkSZIkSZJ6M1ySJEmSJElSb4ZLkiRJkiRJ6s1wSZIkSZIkSb0ZLkmSJEmSJKk3wyVJkiRJkiT1ZrgkSZIkSZKk3gyXJEmSJEmS1JvhkiRJkiRJknozXJIkSZIkSVJvhkuSJEmSJEnqzXBJkiRJkiRJvRkuSZIkSZIkqTfDJUmSJEmSJPVmuCRJkiRJkqTeDJckSZIkSZLUm+GSJEmSJEmSejNckiRJkiRJUm+GS5IkSZIkSerNcEmSJEmSJEm9GS5JkiRJkiSpN8MlSZIkSZIk9Wa4JEmSJEmSpN4MlyRJkiRJktSb4ZIkSZIkSZJ6M1ySJEmSJElSb4ZLkiRJkiRJ6s1wSZIkSZIkSb0ZLkmSJEmSJKk3wyVJkiRJkiT1ZrgkSZIkSZKk3gyXJEmSJEmS1JvhkiRJkiRJknozXJIkSZIkSVJvhkuSJEmSJEnqzXBJkiRJkiRJvRkuSZIkSZIkqTfDJUmSJEmSJPVmuCRJkiRJkqTeDJckSZIkSZLUm+GSJEmSJEmSejNckiRJkiRJUm+GS5IkSZIkSerNcEmSJEmSJEm9GS5JkiRJkiSpN8MlSZIkSZIk9Wa4JEmSJEmSpN4MlyRJkiRJktSb4ZIkSZIkSZJ6M1ySJEmSJElSb4ZLkiRJkiRJ6s1wSZIkSZIkSb0ZLkmSJEmSJKk3wyVJkiRJkiT1ZrgkSZIkSZKk3gyXJEmSJEmS1JvhkiRJkiRJknpb0nApyfuSnJ3ktIlt/5PkB0lOSXJIkqt327dO8pckJ3df71zKWiVJkiRJkrRmSz1y6f3A/WZt+ypwy6raHvg/4MUTl/2kqnbsvp6+RDVKkiRJkiRpgZY0XKqqo4Hfz9p2WFVd3J09FrjBUtYkSZIkSZKk/sbWc+nJwJcmzt8oyUlJjkpy17lulGSvJMcnOf6cc85Z/ColSZIkSZIEjChcSvIS4GLgI92mXwNbVtVOwPOBjybZbNptq+qAqtq5qnZesWLF0hQsSZIkSZKkcYRLSZ4I7AY8tqoKoKouqqpzu+9PAH4C3HS4KiVJkiRJkjTb4OFSkvsB/w48uKounNi+IsnG3fc3Bm4CnDFMlZIkSZIkSZpmk6X8YUk+BuwCbJ7kLGAf2upwVwC+mgTg2G5luLsBL09yMXAJ8PSq+v3UO5YkSZIkSdIgljRcqqrHTNn83jmuezBw8OJWJEmSJEmSpMti8GlxkiRJkiRJWr4MlyRJkiRJktSb4ZIkSZIkSZJ6M1ySJEmSJElSb4ZLkiRJkiRJ6s1wSZIkSZIkSb0ZLkmSJEmSJKk3wyVJkiRJkiT1ZrgkSZIkSZKk3gyXJEmSJEmS1JvhkiRJkiRJknozXJIkSZIkSVJvhkuSJEmSJEnqzXBJkiRJkiRJvRkuSZIkSZIkqTfDJUmSJEmSJPVmuCRJkiRJkqTeDJckSZIkSZLUm+GSJEmSJEmSejNckiRJkiRJUm+GS5IkSZIkSerNcEmSJEmSJEm9GS5JkiRJkiSpN8MlSZIkSZIk9Wa4JEmSJEmSpN4MlyRJkiRJktSb4ZIkSZIkSZJ6M1ySJEmSJElSb4ZLkiRJkiRJ6s1wSZIkSZIkSb0ZLkmSJEmSJKk3wyVJkiRJkiT1ZrgkSZIkSZKk3gyXJEmSJEmS1JvhkiRJkiRJknozXJIkSZIkSVJvhkuSJEmSJEnqzXBJkiRJkiRJvRkuSZIkSZIkqTfDJUmSJEmSJPVmuCRJkiRJkqTeNhm6gKV2zv4fHrqEJbPiXx43dAmSJEmSJGk958glSZIkSZIk9Wa4JEmSJEmSpN4MlyRJkiRJktSb4ZIkSZIkSZJ6M1ySJEmSJElSb4ZLkiRJkiRJ6m3B4VKSJyS51hyXXTPJE9ZdWZIkSZIkSVoO1mbk0oHANnNcdqPuckmSJEmSJG1A1iZcyjyXXQs4/zLWIkmSJEmSpGVmk/kuTLI7sPvEpv9Mcs6sq20K3BX4zjquTZIkSZIkSSM3b7gEXBu41cT5bYDrzLrO34DDgFeuw7okSZIkSZK0DMwbLlXVu4F3AyQ5AviXqvrBUhQmSZIkSZKk8VvTyKVLVdWui1mIJEmSJEmSlp8Fh0sASa4H7AbcgNZraVJV1b+vq8IkSZIkSZI0fgsOl5I8FPgYsDFwNq3X0qQCDJckSZIkSZI2IGszcunVtMbdT6qq3y9SPZIkSZIkSVpG1iZcuiHwbIMlSZIkSZIkzdhoLa77TWDbxSpEkiRJkiRJy8/ahEvPB/ZK8sQk10typdlfa7qDJO9LcnaS0ya2XTPJV5P8qDu9xsRlL07y4yQ/THLftfvVJEmSJEmStNjWJlw6BbgVcCDwC+CCKV9r8n7gfrO2vQg4vKpuAhzenSfJdsCjgVt0t3lHko3Xol5JkiRJkiQtsrXpufRk2opwvVXV0Um2nrV5d2CX7vsPAEfSVp3bHfh4VV0E/DTJj4HbAd+6LDVIkiRJkiRp3VlwuFRV71+kGraoql93P+PXSa7dbb8+cOzE9c7qtq0myV7AXgBbbrnlIpUpSZIkSZKk2dZmWtxSy5RtU0dOVdUBVbVzVe28YsWKRS5LkiRJkiRJMxY8cinJOaxhWlxVXXu+y+fw2yTX7UYtXRc4u9t+FnDDievdAPhVj/uXJEmSJEnSIlmbnktvZ/Vw6ZrAPYDNgPf2rOFQ4InAa7rTz05s/2iSNwLXA24CHNfzZ0iSJEmSJGkRrE3PpX2nbU8S4CDg4jXdR5KP0Zp3b57kLGAfWqh0UJKnAD8HHtH9vO8lOQg4vbvvZ1bVJQutV5IkSZIkSYtvbUYuTVVVleQ9wIHAq9dw3cfMcdE957j+q4BXXbYKJUmSJEmStFjWVUPvGwOXX0f3JUmSJEmSpGVibRp6P2PK5ssDNwceC3xyXRUlSZIkSZKk5WFtpsW9bcq2i2irur0DeNk6qUiSJEmSJEnLxto09F5XU+gkSZIkSZK0njAwkiRJkiRJUm9rFS4luXGS/ZOcmuSX3ek7ktx4sQqUJEmSJEnSeK1NQ+/bAEcAfwU+D/wW2AJ4OPDYJLtW1YmLUqUkSZIkSZJGaW0aer8eOAm4f1VdOLMxyZWAL3aX32PdlidJkiRJkqQxW5tpcbcDXjcZLAF0518P3H5dFiZJkiRJkqTxW5tw6S/Atea47Jq06XKSJEmSJEnagKxNuPQF4DVJ7jK5sTv/38Dn1mVhkiRJkiRJGr+16bn0fOCzwFFJzqE19L42ran3N4AXrPvyJEmSJEmSNGYLDpeq6lzgLknuB9wWuC7wa+DbVXXYItUnSZIkSZKkEZt3WlySayU5OMl9Z7ZV1Zer6hVV9YyqekW7Wg5Ocu1Fr1aSJEmSJEmjsqaeS88FbgzMNzLpMOBGOC1OkiRJkiRpg7OmcOmRwDurqua6QnfZu4Dd12VhkiRJkiRJGr81hUtbAacv4H6+D2x9mauRJEmSJEnSsrKmcOkvwGYLuJ+rdNeVJEmSJEnSBmRN4dKJwIMXcD+7d9eVJEmSJEnSBmRN4dLbgackeeJcV0jyBGBP4G3rsjBJkiRJkiSN3ybzXVhVn07yFuDAJM8Cvgz8HChgS+C+wM7Am6rqkMUuVpIkSZIkSeMyb7gEUFUvSHIk8FzghcAVuosuAr4B7F5Vn1+sAiVJkiRJkjReawyXAKrqc8DnkmwCXKvbfG5VXbxolUmSJEmSJGn0FhQuzejCpN8uUi2SJEmSJElaZtbU0FuSJEmSJEmak+GSJEmSJEmSejNckiRJkiRJUm+GS5IkSZIkSerNcEmSJEmSJEm9GS5JkiRJkiSpN8MlSZIkSZIk9Wa4JEmSJEmSpN4MlyRJkiRJktSb4ZIkSZIkSZJ6M1ySJEmSJElSb4ZLkiRJkiRJ6s1wSZIkSZIkSb0ZLkmSJEmSJKk3wyVJkiRJkiT1ZrgkSZIkSZKk3gyXJEmSJEmS1JvhkiRJkiRJknozXJIkSZIkSVJvhkuSJEmSJEnqzXBJkiRJkiRJvRkuSZIkSZIkqTfDJUmSJEmSJPVmuCRJkiRJkqTeDJckSZIkSZLUm+GSJEmSJEmSejNckiRJkiRJUm+GS5IkSZIkSerNcEmSJEmSJEm9GS5JkiRJkiSpN8MlSZIkSZIk9Wa4JEmSJEmSpN4MlyRJkiRJktSb4ZIkSZIkSZJ6M1ySJEmSJElSb4ZLkiRJkiRJ6m2ToQsASLIt8ImJTTcG/gu4OvDPwDnd9v+oqi8ubXWSJEmSJEmayyjCpar6IbAjQJKNgV8ChwB7Am+qqtcPV50kSZIkSZLmMsZpcfcEflJVPxu6EEmSJEmSJM1vFCOXZnk08LGJ889K8gTgeOAFVfWH2TdIshewF8CWW265JEVKkiRJuuz2PuQXQ5ewZN760BsOXYIkLYpRjVxKcnngwcAnu037A9vQpsz9GnjDtNtV1QFVtXNV7bxixYqlKFWSJEmSJEmMLFwC7g+cWFW/Baiq31bVJVX1D+DdwO0GrU6SJEmSJEmrGFu49BgmpsQlue7EZQ8FTlvyiiRJkiRJkjSn0fRcSnIl4N7A0yY2vy7JjkABZ866TJIkSZIkSQMbTbhUVRcC15q17fEDlSNJkiRJkqQFGNu0OEmSJEmSJC0jhkuSJEmSJEnqzXBJkiRJkiRJvRkuSZIkSZIkqTfDJUmSJEmSJPVmuCRJkiRJkqTeDJckSZIkSZLUm+GSJEmSJEmSejNckiRJkiRJUm+GS5IkSZIkSerNcEmSJEmSJEm9GS5JkiRJkiSpN8MlSZIkSZIk9Wa4JEmSJEmSpN4MlyRJkiRJktSb4ZIkSZIkSZJ6M1ySJEmSJElSb4ZLkiRJkiRJ6s1wSZIkSZIkSb0ZLkmSJEmSJKk3wyVJkiRJkiT1ZrgkSZIkSZKk3gyXJEmSJEmS1JvhkiRJkiRJknozXJIkSZIkSVJvhkuSJEmSJEnqzXBJkiRJkiRJvRkuSZIkSZIkqTfDJUmSJEmSJPVmuCRJkiRJkqTeDJckSZIkSZLUm+GSJEmSJEmSejNckiRJkiRJUm+GS5IkSZIkSerNcEmSJEmSJEm9GS5JkiRJkiSpN8MlSZIkSZIk9Wa4JEmSJEmSpN4MlyRJkiRJktSb4ZIkSZIkSZJ6M1ySJEmSJElSb4ZLkiRJkiRJ6s1wSZIkSZIkSb0ZLkmSJEmSJKk3wyVJkiRJkiT1ZrgkSZIkSZKk3gyXJEmSJEmS1JvhkiRJkiRJknozXJIkSZIkSVJvhkuSJEmSJEnqzXBJkiRJkiRJvRkuSZIkSZIkqTfDJUmSJEmSJPVmuCRJkiRJkqTeDJckSZIkSZLUm+GSJEmSJEmSejNckiRJkiRJUm+GS5IkSZIkSerNcEmSJEmSJEm9GS5JkiRJkiSpt02GLmBGkjOBC4BLgIurauck1wQ+AWwNnAk8sqr+MFSNkiRJkiRJWtXYRi7tWlU7VtXO3fkXAYdX1U2Aw7vzkiRJkiRJGomxhUuz7Q58oPv+A8BDhitFkiRJkiRJs40pXCrgsCQnJNmr27ZFVf0aoDu99mDVSZIkSZIkaTWj6bkE3LmqfpXk2sBXk/xgoTfswqi9ALbccsvFqk+SJEmSJEmzjGbkUlX9qjs9GzgEuB3w2yTXBehOz57jtgdU1c5VtfOKFSuWqmRJkiRJkqQN3ijCpSRXTnLVme+B+wCnAYcCT+yu9kTgs8NUKEmSJEmSpGnGMi1uC+CQJNBq+mhVfTnJd4CDkjwF+DnwiAFrlCRJkiRJ0iyjCJeq6gxghynbzwXuufQVSZIkSZIkaSFGMS1OkiRJkiRJy5PhkiRJkiRJknozXJIkSZIkSVJvhkuSJEmSJEnqzXBJkiRJkiRJvRkuSZIkSZIkqbdNhi5AkiRJkqR15aT3nD10CUtmp6dee+gSJMCRS5IkSZIkSboMDJckSZIkSZLUm+GSJEmSJEmSejNckiRJkiRJUm+GS5IkSZIkSerNcEmSJEmSJEm9GS5JkiRJkiSpN8MlSZIkSZIk9Wa4JEmSJEmSpN4MlyRJkiRJktSb4ZIkSZIkSZJ6M1ySJEmSJElSb4ZLkiRJkiRJ6s1wSZIkSZIkSb0ZLkmSJEmSJKk3wyVJkiRJkiT1ZrgkSZIkSZKk3gyXJEmSJEmS1JvhkiRJkiRJknozXJIkSZIkSVJvhkuSJEmSJEnqzXBJkiRJkiRJvRkuSZIkSZIkqTfDJUmSJEmSJPVmuCRJkiRJkqTeDJckSZIkSZLUm+GSJEmSJEmSejNckiRJkiRJUm+GS5IkSZIkSerNcEmSJEmSJEm9GS5JkiRJkiSpN8MlSZIkSZIk9Wa4JEmSJEmSpN4MlyRJkiRJktSb4ZIkSZIkSZJ6M1ySJEmSJElSb4ZLkiRJkiRJ6s1wSZIkSZIkSb0ZLkmSJEmSJKk3wyVJkiRJkiT1ZrgkSZIkSZKk3gyXJEmSJEmS1JvhkiRJkiRJknrbZOgCpOXuWwfsNnQJS+aOe31+6BIkSZIkSSPjyCVJkiRJkiT1ZrgkSZIkSZKk3gyXJEmSJEmS1JvhkiRJkiRJknozXJIkSZIkSVJvhkuSJEmSJEnqzXBJkiRJkiRJvRkuSZIkSZIkqTfDJUmSJEmSJPVmuCRJkiRJkqTeRhEuJblhkiOSfD/J95I8p9u+b5JfJjm5+3rA0LVKkiRJkiRppU2GLqBzMfCCqjoxyVWBE5J8tbvsTVX1+gFrkyRJkiRJ0hxGES5V1a+BX3ffX5Dk+8D1h61KkiRJkiRJazKKaXGTkmwN7AR8u9v0rCSnJHlfkmvMcZu9khyf5PhzzjlnqUqVJEmSJEna4I0qXEpyFeBg4LlVdT6wP7ANsCNtZNMbpt2uqg6oqp2raucVK1YsVbmSJEmSJEkbvNGES0kuRwuWPlJVnwaoqt9W1SVV9Q/g3cDthqxRkiRJkiRJqxpFuJQkwHuB71fVGye2X3fiag8FTlvq2iRJkiRJkjS3UTT0Bu4MPB44NcnJ3bb/AB6TZEeggDOBpw1RnCRJkiRJkqYbRbhUVccAmXLRF5e6FkmSJEmSJC3cKKbFSZIkSZIkaXkyXJIkSZIkSVJvhkuSJEmSJEnqzXBJkiRJkiRJvRkuSZIkSZIkqTfDJUmSJEmSJPVmuCRJkiRJkqTeDJckSZIkSZLUm+GSJEmSJEmSejNckiRJkiRJUm+GS5IkSZIkSerNcEmSJEmSJEm9GS5JkiRJkiSpN8MlSZIkSZIk9Wa4JEmSJEmSpN4MlyRJkiRJktSb4ZIkSZIkSZJ6M1ySJEmSJElSb4ZLkiRJkiRJ6m2ToQuQtGH41IH3G7qEJbPHnl8eugRJkiRJ68Bv33rk0CUsqS323qXX7Ry5JEmSJEmSpN4MlyRJkiRJktSb4ZIkSZIkSZJ6M1ySJEmSJElSbzb0liRJkqSR+/Snfjd0CUvqYXtsPnQJ673fvP7HQ5ewZK7zwn8auoT1niOXJEmSJEmS1JvhkiRJkiRJknozXJIkSZIkSVJvhkuSJEmSJEnqzXBJkiRJkiRJvRkuSZIkSZIkqTfDJUmSJEmSJPVmuCRJkiRJkqTeDJckSZIkSZLUm+GSJEmSJEmSejNckiRJkiRJUm+GS5IkSZIkSerNcEmSJEmSJEm9GS5JkiRJkiSpN8MlSZIkSZIk9Wa4JEmSJEmSpN4MlyRJkiRJktSb4ZIkSZIkSZJ6M1ySJEmSJElSb4ZLkiRJkiRJ6s1wSZIkSZIkSb0ZLkmSJEmSJKk3wyVJkiRJkiT1ZrgkSZIkSZKk3gyXJEmSJEmS1JvhkiRJkiRJknozXJIkSZIkSVJvhkuSJEmSJEnqzXBJkiRJkiRJvRkuSZIkSZIkqTfDJUmSJEmSJPVmuCRJkiRJkqTeDJckSZIkSZLUm+GSJEmSJEmSejNckiRJkiRJUm/LIlxKcr8kP0zy4yQvGroeSZIkSZIkNaMPl5JsDLwduD+wHfCYJNsNW5UkSZIkSZJgGYRLwO2AH1fVGVX1N+DjwO4D1yRJkiRJkiQgVTV0DfNKsgdwv6p6anf+8cDtq+pZE9fZC9irO7st8MMlL3TNNgd+N3QRy4D7aWHcTwvnvloY99PCua8Wxv20MO6nhXNfLYz7aeHcVwvjfloY99PCua8WZoz7aauqWjHtgk2WupIeMmXbKolYVR0AHLA05fST5Piq2nnoOsbO/bQw7qeFc18tjPtp4dxXC+N+Whj308K5rxbG/bRw7quFcT8tjPtp4dxXC7Pc9tNymBZ3FnDDifM3AH41UC2SJEmSJEmasBzCpe8AN0lyoySXBx4NHDpwTZIkSZIkSWIZTIurqouTPAv4CrAx8L6q+t7AZfUx6ml7I+J+Whj308K5rxbG/bRw7quFcT8tjPtp4dxXC+N+Wjj31cK4nxbG/bRw7quFWVb7afQNvSVJkiRJkjRey2FanCRJkiRJkkbKcEmSJEmSJEm9GS5JWq8kucJCtkmSJEnrQpKNkmw2dB3SkAyXNKgkj0hy1e77lyb5dJJbD13X2CR5TpLN0rw3yYlJ7jN0XSP1rQVu2+AluWKSbYeuY+ySXDnJRt33N03y4CSXG7qusfF1amGSbJrk+d3/u4OTPC/JpkPXNUY+9xbG514/Sa6RZPuh6xirJA9M8m9J/mvma+iaxibJR7vn3pWB04EfJvnXoesaoySv6/bV5ZIcnuR3SR43dF1js9xfzw2X1rEkpyY5Za6voesbof+sqguS3AW4L/ABYP+BaxqjJ1fV+cB9gBXAnsBrhi1pXJJcJ8ltgCsm2SnJrbuvXYArDVvd+CR5EHAy8OXu/I5JDh20qPE6Gtg0yfWBw2nPv/cPWtE4+Tq1MB8EbgHsB7wNuDnwoUErGi+fewvjc2+BkhzZfXC7JvBd4MAkbxy6rrFJ8k7gUcCzgQCPALYatKhx2q577j0E+CKwJfD4QSsar/t0+2o34CzgpoBB3OqW9ev5JkMXsB7arTt9Znc684bxscCFS1/O6F3SnT4Q2L+qPptk3wHrGat0pw8ADqyq7ybJfDfYAN0XeBJwA2DyjeIFwH8MUdDI7QvcDjgSoKpOTrL1gPWMWarqwiRPAfarqtclOWnookbI16mF2baqdpg4f0SS7w5Wzbj53FsYn3sLd7WqOj/JU2n7ah8P/k51p6raPskpVfWyJG8APj10USN0uW405UOAt1XV35O4FPt0M6NOHwB8rKp+78vUVMv69dxwaR2rqp8BJLlzVd154qIXJfkG8PJhKhutXyZ5F3Av4LVpvXEcUbe6E5IcBtwIeHHaVMJ/DFzTqFTVB4APJHl4VR08dD3LwMVVdd4y+n81pCS5I+0gwVO6bf7/XJ2vUwtzUpI7VNWxAEluD3xj4JrGyufewvjcW7hNklwXeCTwkqGLGbG/dKcXJrkecC7t8aVVvRM4kzYK7ugkWwHnD1rReH0uyQ9oj61nJFkB/HXgmsZoWb+e+w968Vw5yV2q6hiAJHcCrjxwTWP0SOB+wOur6o/dP3yHSK7uKcCOwBndUdxr0YZJanWfT/L/gK2ZeI2rKoPdVZ3W7aeNk9wE2Bv45sA1jdVzgBcDh1TV95LcGDhi4JrGyNepeSQ5FSja0dsnJPl5d34rWq8Ore65+NxbCJ97C/cy4CvAMVX1ne4x9aOBaxqjzye5OvA/wIm016r3DFrRyKT1g/ttVV1/YtvPgV2Hq2rU9gFeC5xfVZckuRB48MA1jdGyfj1PlSP3FkPX++V9wNW6TX+kzaE8cbCiRirJxsAWrBoE/Hy4isap6zmxFavup6OHq2icknwZOA84gZXTLqmqNwxW1AgluRLtqO1Mk8CvAK+sKo8iTehen15TVYbec8gaFmHw/17THdGe08zIZ2mhfO6tne71fO+qetPQtSwn3ayCTavqvKFrGZskR1fV3YauYzlIcmJV3XpN2zZU68vrueHSIktbkjK+IE+X5Nm0JPu3rBzyV1Xl6h0TkryW1ljxdFYGJlVVJv6zJDmtqm45dB1j1r3B/kpV3WvoWpaDJF+rqnsMXcdYJZlvJEm576ZLcm3g0lXiPKiyuiSfo42YmHQecDzwrg09DPe5t/aSHFFVjiyZQ5KHzXd5Vdl3aUKS/6RN8/oE8OeZ7VX1+8GKGpkk1wGuD3wY+H+s7Cm0GfDOqrrZULWNyfryem64tIiSPJC2Iszkm0en5kxI8mPg9lV17tC1jFmSHwLbV9VFQ9cydkkOoDV+PXXoWsasWxnu8Qbfa9Y1Mr0J8ElWffPom2yttSQPBt4AXA84mzYi9ftVdYtBCxuhJG+hrZbzsW7To4DfAFcENqsqV2XSWknyKtqsgtlhwLIYFbDYkhw4z8VVVU9esmKWgSQ/nbK5qurGS17MSCV5Im3BnZ1pBwZmXAC83/dS6xfDpUXSLeF5Jdq82/cAewDHVdVT5r3hBqZLae9dVRcPXcuYJfkS8Iiq+tPQtYxdktOBfwJ+ClxEO0LiaLhZkhwE3AH4Kqu+wd57sKJGao43277J7iS5R1V9ba4j3r5xXFW3Mtw9gP+tqp2S7Ao8pqr2Gri00Zk25WRmW5LvGcitlOSWwHasekDzg8NVNE5zjA5YNqMCpOXKBXcWbjm/ntvQe/G4hOfCnAEcmeQLtCAAgKp649w32SBdCJyc5HBW3U8GAau7/9AFLBNf6L60BlW1bBopDuTuwNeAB025rPB/32x/r6pzk2yUZKOqOqKb+qzVrUiy5cyUwSRbApt3l/1tuLLGJck+wC60DyNfpP0fPAZYFh9GlpJT4hbOGRhrluRywL8AMyH4kbQpu38frKjxcsGdBVjur+eGS4vHJTwX5ufd1+W7L013aPelNZhpiju7n4lWVVUfSHJ54Kbdph/6Zmi6JDcF9ge2qKpbJtkeeHBVvXLg0kahqvbpvn1qVV0y75UF8MckVwGOBj6S5GzA0bvTvQA4JslPaKNQb0RbwvrKwAcGrWxc9gB2AE6qqj2TbIEre03V7ZtXA9erqvsn2Q64Y1W9d+DSRmWuGRiDFjVO+9NWAH1Hd/7x3banDlbReH2WlQvu2OZjbsv69dxpcYuka/C2H3BP4O20o7fvrqr/GrQwLVsGAQtjP5OFSbIL7cPZmbQPbTcEnugKhKtLchTwr7SjkTt122wcP0u3BPOXab1Mvla+wZiqC0b+SnvePZbW/+Uj9h6crlup6ma0/fWDDb2J9zRJjquq2yU5gRYGXACc5v+91XVtBg4EXlJVOyTZhPYh7lYDlzYq3cyL7SdOrwJ8uqrus8Ybb0CSfLeqdljTNvm+aaGW++u5I5cWSVW9ovv24CSfxyU8p0qyAvg3Vh9269z3CdOCgCQGAdO9gtZLaJV+JgPXNEZvAO5TVT+ES0fnfAy4zaBVjdOVquq4JJPbHGmyum1pU+OeCby3+9/38ao6ZtiyxqWq/jxx1tE3a3YbVk6j2D7Jsuk9sYSOT3J14N20UQF/wlEmc9m8qg5K8mKAqro4iSMuVzcT4joDY36XJNmmqn4CkOTGrFzVWav6ZpJbueDOGi3r13PDpUWSZFPgGcBdaKOWjkmyv0fcVvMR2lHu3YCnA08Ezhm0onEyCFg4+5kszOVmHk8AVfV/Xe8Are53SbahWxI9yR7Ar4ctaXyq6i/AQcBBSa4BvAU4Cth40MJGIskxVXWXJBfQPZZmORf4n6p6x5TLNkhJPgRsA5zMyg9sxTLpPbFUquoZ3bfvTPJl2kp6pwxZ04j9Ocm1WPl6fgfaVB2t6nPdB9z/AU6km4ExaEXj9K/AEUnOoB383QqwT+N0dwGe1K2w54I7c1jur+dOi1sk3UpMFwAf7jY9BrhGVT1iuKrGJ8kJVXWbmWG33bajquruQ9c2JpP7Z75tgiT/CzwE+G9a49ezgdtW1Z2GrGtskryP9mbxQ92mxwKb2Lx6dd2RyAOAOwF/oK1E+LiqOnPIusYoyd1py8XfH/gO8AlXh1mY7gPvN6tq26FrGYsk3we2c4rl/JJ8ijbV60tV9Y+h6xmzJLemta24JXAasALYYzl9eFtsSTYC7lBV3+zOXwFnYMyp2z/bsnLqrv2Epkiy1bTtM71S1SQ5vKruuaZtY2W4tEicg7swSY6tqjsk+QrwVuBXwKeqapuBSxsVg4CFs5/JwnRvhp5JO5IUWnPhd/imaG7dY2ujqrpg6FrGqDsaeTJt9NKhs6Z/aUKSjYEtWHXFnJ8nuW5VOSquk+STwN7uk/kluRdttMQdgE8C76+qHwxb1Xh1fZZmwgB7WE6R5FtVdceh6xirJPeoqq8ledi0y6vKVVLnMHvBnZnVQDd03aynKwFH0FaLm+nFsBntwMHNByptrRguLZIk7wfeWVXHdudvT2uW+4x5b7iBSbIb8HVaM+H9aE+gl1WVK6NNMAiQll6S5893eVW9calqWQ6SbFZV5w9dx9gleTawD/BbYGaUiVMDpkhyBLAjrd/Epf/vqurBQ9U0ZkmuRhsp/xLgF7RpTB82PFlpjjDgPODUqjp7qesZqyQvA06hNfH2w+IsSV5WVfskOXDKxVVVT17yokbOBXfml+Q5wHNp++dXExedT1sU7G1D1LW2DJfWsSSn0kaYXI52VOTn3fmtgNPtki8tjnn6mczM6d5soNJGZeI1aio/4K6UZJ/u222B2wIzofeDgKOryqWGJ3S94PYHtqiqWybZHnhwVb1y4NJGJcmPgds7mnLNummWq6mqo5a6lrHrplU+jrYU+q9oPS3vAtyqqnYZsLRRSfIF4I600QHQRggcS1uN9+VV9aE5brpB6d5LXZnW6+wv+F5qNd30wT2q6qCha1kOknwXuAezFtypqr0GLm1Ukjy7qvYbuo6+DJfWsbnmk85wXmmT5N+q6nVJ9mPKB92q2nuAskYnyUFV9ci5AgGDAK0tX6PWXpLDgIfPTIdLclXgk1V1v2ErG5ckR9Gam76rqnbqtrn08CzdaJx7V5UrDmqdSPJp4Ga0qfPvn5xGmOT4qtp5sOJGJsnngKdW1W+781vQQvGn0g4a+HqlBUtydFXdbeg6loOZ16IuZNqpqv6R5Liqut3QtY3B+jLV0tXi1rHZH8xmzyvVpb7fnR4/aBXj95zudLdBq1hGklxzyuYLnBbQGB71siXwt4nzf6Mtja5VXamqjksyuc0AZXVnAEd2Iygmp3o5zbLjSNS19raq+tq0CwyWVrP1TLDUORu4aVX9PonvEzppL+SPBW5UVa9IckPgulW1bJZEXyJfTfJC2srXl/YZrKrfD1fSaP0xyVVorT0+kuRsfI8w6e7A12ij42crYFmES45cWiTOK9ViS/KNqrrz0HWMTZIzaT28/kD7IHJ12rLxZwP/XFUnDFbciHTLL+8H3By4PG25+D/7oW11SV4CPBI4hPYP/qHAQVX16kELG5kkXwKeRRvVdeskewBPqar7D1zaqExMt1xFVb1sqWtZjpJcwX6Dq0pyOeBfgJkRFEfR+n4alsyS5B20Awaf7DY9HDiLNury81W161C1jUmS/Wk94e5RVTdPcg3gsKq67cCljUq3kMVsVVU3XvJiRs4FdzYMhkuLxHml8+uGJc/X98VmnWuQ5BdVdcOh6xibJO8EDqmqr3Tn7wPcj7aC1Vuq6vZD1jcWSY4HHk17g70z8ATgn6rqJYMWNlLd8tV37c4eXVUnDVnPGCW5MXAAcCdauPtT4HFVdeaQdWn5SfKfVfWKKds3o61EuMvSVzVeSd5D6/X5gW7T44FL7As3XZKHs3KBlGOAg21avaokJ3YHCU6amObsqtcTup5Lj6iqTwxdi9YfXf+8fWivUUV7jXr5cgnhnBa3eP5eVecm2SjJRlV1RJLXDl3UiLy+O30YcB3gw935xwBnDlHQMuQboel2rqqnz5ypqsOSvLqqnt+tuqdOVf04ycZVdQlwYJJvDl3TmMysftZNtTyTidemJNd02PuqquoM4F7d0cmNZnpUaVVdz6VpPfTuMUA5Y3XXJK+aDLuTXAf4CstkasASu+2sD/1f6w5yakIXBpzS9VU6eOh6Ru7vSTame61KsoKVq1sK6HoGPZM2JU5zcJrzWvs4bergw7vzj6U9xu41WEVrwXBp8TivdB4zK70kecWsRnifS3L0QGWNzlxN3WgvyFdcylqWkd8n+XfaizPAo4A/dG+SfGO00oVJLg+cnOR1tKmDVx64prH5KK3f2QlMeUMEOOwdSPL8ObYD9hKa4oUT329KewPp+4NVPRj4VJI3dgcGbgJ8CfifqnrXwLWN0SVJtqmqn8ClowgvGbim0enCgO8m2bKqfj50PSP3VtpU8GsneRWwB/DSYUsaJXsurUFV3aU7verQtSwT15w1cveVSR4yVDFry2lxi6Q7cvsXYCOcVzqnJN8HHtgd8SbJjYAvVtXNh61sHJIcON/lVbXnUtWyXCTZnJXDSaEbTgqcB2xZVT8eqrYx6VaNO5s2leJ5tNeod7h/tLYmeghtC9wWOLQ7/yDaFEKn5qxBkqOq6u5D1zEmXR+hjwN/py0d/9yqOmTYqsYpyT2BA2nN4kPr87lnVR0xaGEjlORrtNep41g1DLAdA5DkBlV1Vvf9zYB70h5Th9Omzn9uyPrGxp5LC+eCOwuT5PW0Ba8O6jbtAdyiqqb2axwbw6VF0I2Q+EpVLYvha0NKcj9aj44zuk1bA0+b6ZcjrY3uufeBqnrc0LVo/ZVkW+CFVfXPQ9cyJkkOAx4+Mx0uyVVpzb3vN2xl4zLrDfZGwG2At1bVtgOVNDoTo+EuB/wb8HXaSHDA0XDTdNO+t6UFAT+gTRH/xrBVjU+SqSHuzIj6DV2SHwL3nd0rL8mTgZdU1TaDFKZlzwV3FqabPnhlVs622IiVQfjopxE6LW4RVNUlSS5McrWqOm/oesasqr7cDXe/WbfpB64Co766596KJJevqr+t+RYbriSnsnrfl/NoR0te6ShLSLI9rT/c9YDP0FbXewdwe9pqoFrVlsDk8+5vtAMGWtXkG+iLaY3PnzJQLWM1OX3irVO2iUsPqDwSuD7wpao6JcluwP60qfM7DVnfGBkirdHzaFO9HlBVPwJI8iLaLAxHV06R5JbAdrRpzgBU1QeHq2i0vszcC+7MvLfa4C336YOOXFokSQ4C7gB8lVWH3e49WFEjleROtA8gl4adviirryTvAm5Nm5oz+dzzSPeErs/SJbS+QtBWjgstYLpLVT1oqNrGIsm3aR/SvkV7A/RvtP31n1X11yFrG6MkL6F90D2EFlw+FDioql49aGHSeirJ+2kjAY6jfTD7Ge2954ur6jPDVTZeSe5AO1Bwc+DywMbAn8c+GmApddMs3wU8BHgqbRrhblX1hyHrGqNuWvgutHDpi8D9gWOqao8h6xqjJMdX1c7TtiU5uap2HKi00UlyDeAmrBpYLouexI5cWjxf6L40jyQfArYBTmZl88kCDJcmJLnC7BFd07YJgF91Xxvhke753Lmq7jxx/tQk36iqOydxWmFzhap6f/f9D7umnS/qVtfTLFX1qiRfAu7abdqzqk4asqYxSXJ72jTwbYBTgSdX1feHrUrL3M7A9l2j6k2B39H64vxm4LrG7G20gymfpO2/J9A+xKlTVYcneRJwJPBN4J4eUJnTHsAOwElVtWeSLYD3DFzTWLngzgIkeSrwHOAGtM/Hd6Ad5FwWK8oaLi2SqvpAkivSGgj/cOh6RmxnYLtyCN2afIs2GmdN2zZ4VfUyaE31q+rPa7r+BuwqSW5fVd8GSHI74CrdZa5c1WyaZCfaiC6APwHbp1sGrapOHKyy8boScH5VHdhNUb1RVU1reLohejttpbijaauhvRm475AFadn7W1X9A6Cq/prk/wyW1qyqfpxk4+5AwYFJvjl0TWMxsVx8gCvQGnqf3f3fG32/lwH8pQt3L06yGa1/kM28p/t/tAV3PtOdP6bbNjO9V81zaKMFj62qXbvG+i8buKYFM1xaJEkeROvVcXngRkl2BF7uahSrOQ24Dq2hm2ZJch1aL4UrzvqQuxntQ5xmSXJH4L20oGTLJDvQmsQ/Y9jKRuepwPuSXIX2uDofeGq30uV/D1rZePwamJxO+ZuJ88UyOYq0VLrpATvTmgofSGvG/GHgzvPdbgOyUVV9tfv+k0lePGg1I5dkI2CPqjpojVfecN0sySnd9wG26c7PBAHbD1faaF2Y5PLAyd308F/TmueK5d/vZQDHJ7k68G5aP70/0aapakI3OunN8yy440rFK/21O1gwM0vlB91CMsuC4dLi2Re4HW1IKVV1cpIbDVnQSG0OnJ7kOODSKV6GcJe6L/Ak2tDIyQ+5FwD/MURBy8CbafvtUICq+m6Suw1a0QhV1XeAWyW5Gq3/3h8nLvbDHFBVuw5dwzLzUFoD4RMBqupX3Ypxaq6e5GFzna+qTw9Q02h1owGeha9H87n50AUsQ4+nTZt/Fq159Q2Bhw9akZadJA8Bvjlx4PKdSb4MbFZVp8x9yw2TC+6slbO6wPIztOb6f6C1+1gWDJcWz8VVdV43e2KGU79Wt+/QBYxZVX0A+ECSh1fVwUPXs1xU1S9mPffskTNLt2z1w+ma6c/sr6p6+YBlaXn7W1VVkoI2NXXogkbmKOBBc5wvwHBpdV/tep19glUXaPj9cCWNR1X9bOgalpuJffZXltFUE43O44C3J7kQ+AatN9U3DJbmdSbwjSQuuDOPqnpo9+2+SY4ArkZbaW9ZMFxaPKcl+X/AxkluAuxNe+HRBJeEXZiqOjjJA4FbsOrKAQYBq/tFtwJhdUPf9wZsmru6z9JWhjuBiVGD0mVwULda49WT/DPwZNpUAQFVtefQNSxDT+5OnzmxrbCniXpKcmfagc2tWHWVYh9TWrCZ1eC6WSl3BO4EPC3JlsB3quoBQ9Y3Ui64M48ktwU2r6ovzWyrqqOSPBi4Fe39+ujFPsqLI8mVgJcA96HNff8K8ApXW2gmGgaudhE2DFxNknfSeiztSluFYg/guKp6yqCFjVCSzYG3APei/QP7CvCcqjp30MJGJslpVXXLoevQ+qFr9noD4GZM/N+b6DEkSYNL8gPadLgTmBjV7HuEVXUjT2eaVd+U9tr+par6+8CljU7XcPnOtIDpDsDZTqufmwvuTJfkSOBJVXXmrO3/BBxQVcuiz6fhkrQMJDmlqrafOL0K8Omqus/QtWl5SnIAsF9VnTp0LWOX5PCquueatm3okpxQVbcZug6tP7oDdc+nrby7VzcSfNuq+vzApWmZSvLtqrr90HWMXZITgLsC1wCOBY4HLqyqxw5a2Egk+Q/aiKUVwA9p++hY4JRuFULNMrngTlW54M4sSU6tqlvNcdl3q2qHpa6pD6fFrWNJPsc8vZVsVK2eZka8XZjkesC5gA3ip0hyY9rIpTvQnovfAp5XVWcMWtj43AV4UpKf0qbFubrQLEk2pY0Y3DzJNVh1tcbrDVbYeB2b5LZds3hpXTiQNsLkTt35s4BPAoZLE6ZM9Zp5PXeqVyfJrbtvj0jyP7QeZ5MLyZw4SGHjlaq6MMlTaAeiXpfkpKGLGpEn0FaG+zyt7cm3q+q8YUsavTfjgjvzueI8ly2bHpaGS+ve67vThwHXoS3DDPAYWiMzqY/PdSsH/A9tJabCXiZz+SjwdtrKVQCPBj4GeKRyVfcfuoBl4GnAc2lB0gmsDJfOpz3GtKpdaT0nfkZr1mlgOWHWSnGrcbW4qbapqkcleQxAVf0ls1ZrENBGA6w21UureMOs8ztPfF/AsphysoTSjTR5LDDTgsHPjZ2qulmSa9KC712AF3WzCr5LW0XuwCHrGysX3JnX/yZ5FfDSmphaluRlwNeGK2vtOC1ukSQ5uqrutqZt0pok2Qi4Q1V9szt/BWBTj5BMN23Ie5Jjq+oOQ9U0ZkmuzapN4n8+YDmjlOTZVbXf0HWMXZKtpm13RasmyXwfNqqqnjzP5RukJN8E7klbhenWSbYBPlZVtxu4tFFxqpfWtW5EyQtpz73XdqPCn1tVew9c2ugk2QS4DXA32kGpG1XVxsNWNT5JPgW8EXgbbXbB3sDOVfXoQQsbia7P2XuA2wEnd5t3oE1JfWpV/Wmg0taK4dIiSfJ94IEzU3G61QS+WFU3H7YyLUdJvlVVdxy6juUgyWuAPwIfpx2NfBRwBbqRJi5h3XSrT7yBNirnbNp0iu9X1S0GLWykuhUIt2bV1YU+OFhBI2ZgqXUlyb2BlwLbAYfRmuY+qaqOHLKusen+722MU73mlOT5wHlV9d5Z258NbFxVbx6ksBFKsjHwmqr616FrGavuPdSdaK9JtwC+R5se903ayKVzBixvlFxwZ2G6IHfmvfj3lltbD8OlRZLkfsABwMwDYmtgr6o6bLCiRiTJMVV1lymrxrla3BTdkMhTaE28fdLOo+shNBd7UHSSfJc2DeB/q2qnJLsCj6mqvQYubXSSfAjYhnYkaWYId3kEd1UGlvNLsh/wH1V1waztNwPeVlX3GqaycUtyLdpR7gDHVtXvBi5pdJIcMWVzLZfVhZZCktOAW1fV32ZtvwJt6Xin705I8jUfP3NL8mlakPQN4ITZjytpQ+Xc2UVSVV/uVjW5WbfpB1V10Xy32ZBU1V2606sOXcsy8XxaM7eLk/wVQ7g5VZWNzhfm71V1bpKNkmxUVUckee3QRY3UzsB2Brtr9ApaCLBKYDlwTWPyG+DkJP9ZVR/tVkLbF3gI8O9DFjZyd6ctQFDA5YBDhi1nfFz2fEFqWgBQVRfZx2uqk5IcSmugf+my8faGa6pq3h56Wp0L7mwYDJcWSZLjgffRegP8Yeh6xs5pFPMzhFu4JE+Ytt0pTKv5Y9d88mjgI0nOBi4euKaxOo22QMOvhy5k5Aws51FVr0ryUeBtSZ5OG+F1ELBjVV04bHXjlOQdwD/RFmWA1jD+XlX1zAHLGqUkD6RNpZh8L/Xy4SoanyRbVNVvZ28bqp6RuyZtZeLJ0UtFm3op9eGCOxsAw6XF82hgT+A7XdB0IHCYR75XNdc0ClbONVWnWwr9Jqz6xvHo4SoardtOfL8prRnsiYDh0qp2B/5CW2HoscDVAD+ITEjyOdqb6asCpyc5jlX7mTx4qNpGaiaw/DoGlnOZeQ+wCa3nxPcNluZ1d+CWM++dknwAOHXYksYnyTuBK9FWbHwPsAdw3KBFjc//AF9I8gLaewJoTZhfx8qVntWpqj2HrkHrnVTVhybOfzjJswarZmSSbFZV53erEK5mufSMtefSIutW+toN2B/4B20001uWywNksdn3ZWGSPBV4DnADWt+XOwDfcj78miW5GvAhg4C5dU0WzzX8XlWSu893eVUdtVS1LAfdSid/oYUmM4HlR2zW2SR5KfAk4CVV9Ykk16dNEVgB/EtVnT5kfWPU9TV53syKg92KhK+pKqdbTkhySlVtP3F6FVqPxvsMXduYJLk/8CLglrSg93u0x9OXBi1shJLclPbZZYuqumWS7YEHV9UrBy5tdJJcEdiyqn44dC1j5oI780vy+araresdW7QWKDOWTc9Yw6VF1L0Q7wk8gNYR/yO0vgGPr6odByxtNJIcX1U7dyHTTlX1jyTHuczwqpKcShuRc2xV7dg1gH1ZVT1q4NJGL8nlgFNcqbFJcgfgNcDvaT1yPgRsTgsEnlBVXx6wPC1jSa5OG10J8H9Vdd6A5YxOkrcAL53S0Pv+wBt9jVpdkqNo//tmRuHcltan40Jw9OCMJN+uqtsnORZ4GG0602lVdZM13FSaqnvu/Svwrqraqdt2WlXdctjKxiXJg2gj3y5fVTdKsiPwcl+bVueCOxsGp8UtkiQn0NLZ9wIvmmjm/e0kdx6ssPFxGsXC/LWq/pqEJFeoqh8k2XboosZoYioTtKWZb07ra6LmbcB/0EaVfA24f1Ud2wWWHwMMl2aZsqolwHnA8cALNvRmlEkuT1sd9SHAT2lH27ZKcgjwdFfRaarqOXNs/1KSry11PcvEfw1dwDLx+S7c/R/alK+iTY+T+rpSVR03q9e5789Xty9wO+BIgKo6OcnWA9YzWi64s3DdyOatmMhqlksrFMOlxfOIuT5wuMLAKnYH/go8F/u+zOes7o3jZ4CvJvkD8KtBKxqvyd4JFwM/q6qzhipmhDapqsMAkry8qo4F6ALLYSsbrzfSnm8fpQUnj6Y1+P4hbarzLoNVNg4vpa3idcOZUTlJrkob6v6f3Zfm4Wqy0zn1dGGq6hXdtwcn+TywqSMHdRn9Lsk2dAdWkuyBi1pMc3FVnef7pzVzwZ2F6RZCeRRwOnBJt7loC/CMntPi1rEkz5/v8qp641LVslwkuQ4t9S/gO1X1m4FLGrWuD8zVgC87ImBuSa4F3A34eVWdMHQ9Y5HkxKq69ezvp51XMzPlZNa2Y6vqDkm+W1U7DFXbGCQ5Dbjd7MbU3ajUY51Gob5mjRq8PC3E/HNVbTZcVeOU5E7A1qx6pNsPbeqlWzb+AOBOwB9oo1IfO9P/TE2S9wKH03p5PRzYG7hcVT190MJGKMl+E2cvXXCnqvYYqKRRSvJDYPvletDJkUvr3uSS8U8D3jVUIctB16j6v2jTcwLs142meN+wlY3DHCsHzKyUc+Ukl1TVJdNuu6Hpjta+qKpOS3Jd2tSA44FtkhxQVW8etMDx2CHJ+bTn2xW77+nObzr3zTZo/0jySOBT3fnJN0IeoYF/TFvxrKr+lMT9o96qavI9FUkeQjsYpQlJPgRsQ1vwY/JIt+HSLEmuQAsBtmbVIM5R86u6RlXdq1uoYaOquqDrL2S4tKpnAy+hrST7MVqP3VfMe4sNVFU9e/L8zII7A5UzZmfQDqQsy3DJkUuLKMlJM03wNF2Xzt5pZjWhbrTJN6vKfkKsceUAgKsA766q/1j66sYlyfeq6hbd9/8B3KyqntBNz/lGVW0/bIVarrojuG8B7kh7Hh4LPA/4JXCbqjpmwPIG1y3IsAurvz4BHLGhj+yaLclzgAOBC2h9cXaiBeOHDVrYMjEzanDoOsYkyfeB7Vzxc82SfJnWM+8EVgZxVNUbBitqhJKcCDyxqk7tzj+atnLj7ee/pbQwLrizqm5kVwHXB3agjYi7NGCqqr0HKm2tOHJpcflPfs3Oor3BnnEB8IuBahmdqtqtO53aBC/JxsBptAbNG7q/T3x/T+DdAN3Rtn8MU5LWB13/vAfNcfEGHSx1rkb7oDYtXPL/4OqeXFVvSXJfYAVtVdkDAcOlWZJM9qjcCNgZH1PTnEbrA2dPnDW7QVXdb+giloE9gE8leSxtpesnAPcZtqTxSXJT4IWsPhLuHkPVNFYuuLNGx3enJwCHDlnIZWG4pEFM9Kb6JW0Fvc/SXnB2Z+WSw+okudu07d3KASb+zS+SPJsWWN6abtWzJFekDS+V1kqSf6uq100cTVrFcjmKtNiqauuha1hmZkK4BwAHVtV3YzfYuUyGuhcDZ9LeJ4hVPqxdFTg9yXGseqTb5dBX980kt5oZkaPpquqMbrTSZ2gHfe9TVX8ZtqpR+iTwTtooVNtUzM8Fd+ZRVR8YuoZ1wXBpHUtyKis/hPxTklNmLgLKqTmXmumj8JPua8ZnB6hlOfjXie83pfWcOAHwyMhKT6GtNHgv4FFV9cdu+x1oowKktfX97vT4ea8lrZ0TkhwG3Ah4cTd119GVU1TVnkPXMHKvX/NVNMtdgCd17QYuwvfnq5j1OQbgmrRRJt9OgvtpNRdX1f5DF7EczKz+ObHgzl9pB4TF1OfeKpbLc8+eS+tYkq3mu9xVFrQuJLkh8LqqeszQtWh56pp0/qWq/tEN674Z8KWq+vsabirpMkiyEbAjcEZV/bF7o339qjpl/ltuOJL8M3BkVf2oG9X1XloT5p8BT6qqEwctcGSSvLaq/n1N2zT3+3Tfnzd+jlk7SfYFzgYOYdVRg78fqqaxmW/BHcAFdzrry3PPcEmDSrIzbZWFrVh1rvKySGeH0r3ZPqWqbjV0LVqekpwA3BW4Bq1B9fHAhVX12EELGyF7KmhdSnLrKZvPo00RuHip6xmjJKcBO1XV35P8P+AFtH4vOwH7VNVdBy1wZJKcWFW3nrXtFN9LzS3JtZlYIbWqfj5gOaOTZBvgrKq6KMkuwPbABydGhQvoRsDNVlV14yUvZqRccGftdUHTTarqf7v2HptU1QVrut0YOC1OQ/sIbcrXqTgtYE6zer7MHPX+7mAFaX2QqrowyVOA/breQicNXdRI2VNhHkk2q6rzk1xz2uUewV3NO2h94U6hTcm5Zff9tZI83VXjgDbVZGYU5W60D7XnAv+b5HUD1jUqSf4FeAawzUQbBmitB74xTFXjluTBwBuA69FGnGxFmwJ9iyHrGqGDgZ2T/BNt5OChwEdpveLUmWvBHa3CBXfWQjdydy/alNRtgBvQ3oPec8i6FspwSUM7p6qWbUf8JTTZ8+Vi4GNV5RtHXRZJckfgsbR+VeD/hLnYU2F+H6UFACfQQvDJ5tQFeAR3VWcCT6mq7wEk2Y52kOUVwKdx1TiAf3TTJ/5Ae0P9qonLrjhMSaP0UeBLwH8DL5rYfoGh7pxeQevF+L9VtVOSXQFbDKzuH1V1cbdi45uraj8PQK0uyROmba+qDy51LSPmgjtr55m03rrfBuimh1972JIWzg8SSyDJNYAb2k9hqn2SvAc4nFXnKn96uJLGZ31ZQWApdFOY9ge2qKpbJtkeeHBVvXLg0sbmOcCLgUOq6ntJbgwcMXBNY/W5JM/AngpTVdVu3alHcBfmZjPBEkBVnZ5kp251piHrGpP/oh1U2Rg4dCKIuztwxpCFjUlVnQecl+SlwG8mpzAlcQrTdH+vqnOTbJRko6o6Islrhy5qhP6e5DHAE1i5aqNBwOpuO/H9prQw/ETAcGklF9xZOxdV1d9m3g8k2YR5Gn2PjT2XFkmSI4EH0wK8k4FzgKOq6vkDljU6ST5MayT8PVZOi6uqevJwVY1Hkt2BG1TV27vz3wZWdBf/e1V9crDiRirJUbRRAO+qqp26badV1S2HrWw8kmwMvKaq/nWNV5Y9FdZCkuuzeg+9o4eraHySfAL4PfDxbtOjgM2BxwPHVNVt57rthqR7Q33VqvrDxLYr0967/mm4ysYnycnAzrS+cF+hTWHatqqcwjRLkv8FHkIb7bU5bWrcbavqTkPWNTbdiMqnA9+qqo8luREtGHjNwKWNWpKrAR+qqgcPXYuWp27q9x9pwe6zaVOfT6+qlwxZ10IZLi2SJCd1w22fShu1tI/NFVeX5FSbUs8tyTeAR1fVL7rzJ9OOilwZOLCqlsX826WU5DtVdduZ52C37eSq2nHg0kYlyddsSD2/JJeba/W8JDeuKkdQTOiO/j8KOJ2VvanKN9mr6qYCPIO2JHqAY2h9mP4KXMngRGtrpqF3kn+jrQK63+T/QK00s1IqrX/lY4GrAR/penpJl0mSy9EW3Ln50LVoeepWlH0KbRGL0A4YvKeWSWjjtLjFs0nXL+CRtNXQNN2xSbarqtOHLmSkLj8TLHWO6d4Andu9QdLqftetclIASfYAfj1sSaN0UpJDac2q/zyz0Smpqzg0ye5V9bfJjd1Uy0NpowS00kNooyUuWtMVN2RV9RdaQ+E3TLnYYEl9OIVp4a4N/Lqq/gp8oAt7twAMlyZ0I3ZX+zDriN1VJfkcqy64sx1w0HAVabmrqn8k+Qzwmao6Z+h61pbh0uJ5GS1pPKaqvtP1M/nRwDWN0V2AJ3b/xC6iJbTlCK9LXWPyTFU9a+LsCjTNM4EDgJsl+SXwU+Bxw5Y0StekvZmeHL1UtIbCak4AvpTkQVV1IUDXz+TDwJ4D1jVWZ9A+0BouzSPJnYF9WX36oB/a1NeetClMr6qqn3ZTmD48cE1j9UlgcgrcJd02p6OuaueJ7zcFHkF736BVvX7i+4uBn1XVWUMVo+UrrcnSPsCzaJ+Hk+QS2orOLx+0uLXgtLhF0PUz2buq3jR0LWOXZKtp26vqZ0tdyxgl+QhwZFW9e9b2pwG7VJUrnMyhG9m1UVVdMHQtWr6SvAS4H3B/4L7Am4CHVdXx895wA5JkP1oweX1gB1ZfoGHvgUobpSQ/AJ5HCy9npg/itJyVktysqn6Q5NbTLq+qE5e6Jq0fpk2TT/LdqtphoJKWjSTHVNVdhq5jDJJsSgt0/wk4FXhvVV08bFXj5oI780vyPOABwF5V9dNu241p++zLyyVXMFxaJEmOqKpdh65j7JJsOW17Vf18qWsZo27pyc/QPqjNvJm+DXAF4CFV9duBShutJFcAHk6bsjQ5KmDZpP5LwX/yC5fk+cDTaEeSHlBVPx64pFFJ8sT5Lne1y1Ul+XZV3X7oOsYsyQFVtVeSaStYlv3iVpXkJrQG1dvRRpkAjoabJslXaSMBDu3O7047IGwPywmzgt2NaCOZ/sUQrukWZvg78HXawaefVdVzhq1q3FxwZ35JTgLuXVW/m7V9BXDYcumhZ7i0SJK8itYk8BOs2s/Eo20TkpxKO+Id2huiGwE/rKpbDFrYyCS5BzCzT75XVV8bsp4xS/Jl4DxWHxUwrb/JBst/8ms20UshwJ2BHwO/mbncRtXqI8lrgI1pU1AnR3j5/kC9JDmGNp3iTbSeS3vS3uPvM2hhI9T1ZPwIcL1u01nAEzxo0CQ5rKruMyvYvRg4E3h9Vf1wmMrGZXJBom5ly+OqaupISzUuuDO/+d6DL6f35/ZcWjwz87knR0sUq/Y32eDNXimuO1LytIHKGa0uTDJQWpgbVNX9hi5iGbhSVR3XpnhfyiHdq3r9HN9rwsRBgqnsobeamVFLkz1NfH8whyS3ZPUROR8crqJRumJVHZ4kXVuBfZN8nRY4aUJV/QS4Q5Kr0AI4p86vagWAsy/W6NKVZKvq4lnvpTSdC+7M7289LxsVw6VF4otyP1V1YhKbKuqy+GaSW1XVqUMXMnL+k1+Dqjpq6BqWid2GLmA58f3BwiXZB9iFFi59kTb95BjAcGlVf+2Wr/5RkmcBv6StiqZZkrwaeF1V/bE7fw3gBVX10kELG4+rJXnYXBe6ouyldkhyfvd9gCt252cWJtpsuNJGywV35jf5mJo0M7tnWXBa3CJJsgXwauB6VXX/JNsBd6yq9w5c2qh0vUxmbATcGrhWVd13oJK0zCU5ndZg0RUI59E1CTyANsryD3T/5KvqzCHr0vLWLdJwk6r6326J700cGdAkeVxVfXjW/71LVdUbl7qmsetGxe0AnFRVO3Tvrd5TVQ8auLRR6Q7KfR+4OvAKWluG11XVsUPWNUaTU3Imtp3olKYmybnAZ2nvnWarqnryEpek9YwL7qzfHLm0eN4PHAi8pDv/f7T+S4ZLq7rqxPcXA18ADh6oFq0f7j90ActBVZ0B3Mt/8lpXkvwzsBdtueptgBsA7wRslNtcuTu96pTLPNI33V+q6h9JLk6yGXA2YJPqWarqO923f6L1W9LcNk5yhaq6CKALwa8wcE1j8jMDJC2G2QvuzEwldMGd9Yvh0uLZvKoOSvJiuHQ+7iVrutGGpqpeNnQNWu/4IW0BZo+e6P7JnwecUFUnD1GTlr1nArcDvg1QVT/qVrxU8wWY/n8viSNxpjs+ydWBd9MWafgTcNygFY1IkjdX1XMnFh+YVMDvaYs2OIJppQ8Dhyc5kLaPngy4ouVKNg/SYvksKxfcuWgN19UyZbi0eP6c5Fqs7GdyB9oTSkCSQ+e73FWYdBl8gSkrELJytT01O3dfn+vOPxD4DvD0JJ+sqtcNVtnIdMvA/jurNxW2AfOqLqqqv80cjexW0DHsXenwJPedPfU0yZ7AS1n5XFSnqp7RffvObiXQzarqlCFrGpkPdadzLTiwOfA+2muXgKp6XZJTgHvR3ie8oqq+MnBZY/L4oQvQessFdzYAhkuL5/nAocA2Sb5BW31hj2FLGpU7Ar8APkY7yu2REq0TrkC4YNcCbl1Vf4JLG+d+Crgb7aiS4dJKH6FNa34g8HTgicA5g1Y0Tkcl+Q9aY9N7A8/AwGTS84CvJnlAVf0IoBvd/P+Auw9a2YgluT6wFd171iR3q6qjh61qHKrqhO50zsUHkiybVYaW0PeBi7vecFdKclWnhjdVddrQNWi95YI7GwAbei+i7qjttrTg5IdV9fc13GSDkWRj4N7AY4DtaaNNPlZV3xu0MK2XbNa5uiTfB3aoqr91568AnFxVN5/W8HRDluSEqrpNklNmGsMnOaqqDAQmdKtVPQW4D+3/3ldozZd9o9FJck/gXcBDgKcCtwV2q6o/DFnXWCV5LfAo4HRgprVAObp5VUluAvw3q4+utD/VLJO94apqm27fvbOq7A0nLSIX3NkwOHJpkSR5BPDlqvpekpcCt07yyqo6cejaxqCqLgG+DHy5+1D7GODIJC+vqv2GrU7L2RwrEDrKZHUfBY5N8tnu/IOAj3UNvk8frqxRmjkw8OskDwR+RWtWrQld4+XPAJ+pKp9zU1TV4UmeBBwJfBO4Z1X9ddCixu0hwLYzzZc1pwOBfYA3AbvSmno7Inw6e8NJw3DBnQ2A4dLi+c+q+mSSuwD3pc2H3x+4/bBljUcXKj2QFixtDbwV+PSQNWm94AqEC1BVr0jyJeDOtA8hT6+q47uLHztcZaP0yiRXA14A7AdsBjx30IpGJK3J0j7As2iPpXQLWOznKjArJbmAlf3grkBbRe/sbv9VVW02ZH0jdQZwOWz+uiZX7ILLVNXPgH2TfJ32vNSq7A03jyQHVdUjk5zKqvvFUSa6rHyebQAMlxbPzPDtBwL7V9Vnk+w7YD2jkuQDwC2BLwEvc4631oUkOwHfA75XVd8fup5l4CTaKJyZXiZbVtXPhy1plP5QVefRFmXYFSDJnYctaVSeSwspb1tVPwVIcmNg/yTPq6o3DVncWFTVVdd8Lc1yIXByksOZCJiqau/hShqlv3bTUn+U5FnALwFH40xnb7j5Pac73W3QKrQ+csGdDYA9lxZJks/T/rnfC7gN8BfguKraYdDCRiLJP4A/d2enHRnxCK7WSpL/Ah5Ha0Z9e+C/q+rdw1Y1XkmeTTuq/VtaGO5RyTlM69llH6+VkpwE3Luqfjdr+wrgMPt3qa8kT5y2vapcOn5CktvSmlRfHXgFcDXgtVX17SHrGiN7w0njMLPgTlW56M56xHBpkSS5EnA/4NRuPvd1gVtV1WEDlyatl5J8jzZy4sIk16L1PLvt0HWNVZIfA7evqnOHrmWsktwRuBNtZM7k6JvNgId6sKBJclpV3XJtL5O0OLqpXo+qqo8MXcsYdcE39oabW5KHAa+ljYALHvzVIvBA3frHaXHrWJLNqup82nC/I7tt16QN5z5+nptKumz+WlUXAlTVud3RSc3tF7RpXprb5YGr0P5XTk5pOh/YY5CKxmm+pc5dBl29ddNP9wW2oj0PZz7gugoa7T0nrUH19YFDga92518IfBcwXOrYG26tvQ54kC0GtK644M6GwZFL61iSz1fVbkl+ysp5pTN8QyQtkiR/BI6eOQvcdeI8Ll29qiTvBbalzYGf7GXyxsGKGqkkW3VNcjVF9wHtz9MuAjatqsstcUlaTyT5AfA82nTnmV6WOOKy6Vb7/APwLVqD+GvQQvHnVNXJA5Y2OkmeBzwA2Gt2bzjaSGd7w01I8o2qsreg1pkkkwsMXAycCRzsiqnrF8OlRdAdHbmhjXGlpZPk7vNdXlVHLVUty8Gsf/KXqqqXLXUtY9dNofg3WtPJTWe2V9U9BitK2gAk+XZVucruHJKcWlW36r7fGPgdsGVVXTBsZeNjb7iF6abDAdwduA7wGVY9AOWqzlpr3YI72+CCO+s9p8UtgqqqJIfQGnlLWgKGR2tnJkRKcuWqmjbqRCt9BPgEbfWcpwNPxKHc0lI4Isn/AJ9m1Q+4Jw5X0qj8feabqrokyU8NluZ0udnBErS+S0kcXbnSgya+v5DW+HxG0Z6L0oLNWnDndUlccGc95silRZLk7cD7q+o7Q9ciSbN1zarfC1ylqrZMsgNt1Y5nDFza6CQ5oapuk+SUmdX0khxVVfOOlpN02SQ5YsrmctRgM2tKaoAr0gIBmy/PMl/jYJsKS4vHBXc2LI5cWjy7Ak9L8jPaP36X+ZY0Jm8G7ktrAktVfTfJ3QataLxmRgf8OskDgV8BNxiwHmmDUFW7Dl3DmFXVxkPXsIzskOT8KdvDxHRnNUk+QOvd9cfu/DWAN1TVkwctTMuRC+5sQAyXFs/9hy5AkuZTVb9oLeIudclc193AvTLJ1YAXAPsBmwHPHbQiaQOQZAvg1cD1qur+SbYD7lhV7x24NC0zBnFrbfuZYAmgqv7Q9c2R1tY2SQ7tvs+s8y64s54xXFokVfWzrrniFrifpSWT5HO0vgCTzgOOB97lqhSX+kWSOwGV5PLA3oBNFqc7rarOoz2OdgVI4pBuafG9HzgQeEl3/v9o/c8Ml6TFtVGSa1TVHwCSXBM/z6if3Wedf/0gVWhJ+CKxSJI8G9gH+C3wj25zAU6LkxbXGcAK4GPd+UfRnoc3Bd4NPH6gusbm6cBbgOsDZwGHAc8ctKLxOjjJg6vqlwDd9MG3A7catixpvbd5VR2U5MUAVXVx12dI0uJ6A/DNJJ/qzj8CeNWA9WiZcsGdDYvh0uJ5DrBtVZ07dCHSBmanqprsHfS5JEdX1d26poICulVzHjt0HcvE04HPJHkQcGvaNJ0HDFuStEH4c9cAtgCS3IE2glDSIqqqDyY5Hphpnv+wqjp9yJokjZ/h0uL5Bb4BkoawIsmWVfVzgCRbApt3l/1tuLLGIcl+rD5t8FJVtfcSlrMsVNV3kuxNG931V+DeVXXOwGVJG4Ln0xYd2CbJN2ijUvcYtiRpg3E5ugWJuu8laV6GS4vnDODIJF8ALprZWFVvHK4kaYPwAuCYJD+hvSm6EfCMJFcGPjBoZeNw/NAFLBdT+nddiXbQ4L35/+3de6xlZXnH8e+P4TIIHMAYqUDlomJLlVIuibRIBSxWLlUqgtZGLgVqI5eaQgOaVMVejEQKFQNiYAQErBZUhDat4VKQTikwnYIarcBIq+AFgWEKwzjA0z/22szhcM4w7tnnrLP3+n6Snb32uy/zO5PMmb2e9b7vk7gJpTTLqmpJkt8GXkvv9/l3q2r1i7xN0npKcipwAnA1vX97n09yUVV9qt1kkuazVM14AVvrIcmHpxuvqo/OdRapa5JsAvwKvS9E33ETbw2iOamdkfsISLOvaTywI5MuiFbVZa0Fkjogyd30OjM+0TzeDFhcVe4dq4HYcKcbLC5JGjuejMxshv/cn+NsHEnzRZLLgVcBS4H+Rt7l8l1pdiW5B9i7f8KfZCFwR1XZyEIDSXIeL2y48yNgU2Ciqmy4MwZcFjdLktzENCdwVXXANC+XNCQznYwAFpd6bAG7jpKs4Pm/x/t7T4TeCe5EK8Gk7tgL2LW8EirNtUXA7Um+3Dx+O3Bxe3E0Bmy40wEWl2bPaZOOFwLvAJ5uKYvUJZ6MrIVLudZdVW3Rdgap474J/BLwUNtBpC5Isn1V/aCqzklyM7AvvQsqxwLbtxpOo86GOx1gcWmWVNVdU4ZuS+JJnTT7PBlZB0leA/wNsCu9AjgAVbVza6HmsSS/DryxeXhLVd3dZh5pnE1avrsF8O0k/8Hzm6O4fFeaHTckeUtVfb+qlgBLAJIcB3wI+Fqr6TTKbLjTARaXZkmSl056uAGwJ70TXkmz62V4MrIuFgEfBv4W2J/eVcm0mmiemtQ155pm6Aq75kizyuW7Ujs+AHw9ycFV9T2AJGcA7wHW2uRCWpuq+sfmwuZ0DXfObS2YhsoNvWdJkmWs2ZvjaWAZcFZVfaPVYNKYm6nDl8vBni/JXVW1Z5J7+ht0Jrm1qt74Yu/tGrvmSHMryauBbarqtinj+wE/rKr72kkmjb8kBwKfobfP0vHA3sChVfVom7k0+my4M/6cuTRLqmqntjNIXWQRaZ09lWQD4HtJTgJ+CLy85UzzVVizOTzNsbO8pNlzLvDBacafbJ47bC7DSF1SVTckOQa4Gfg34EDbxGt92XCnGywuDVmSvYH/raofNY/fS28z7weAj1TVI23mk8ZVkm9U1b4zdfiys9cL/CnwEuAU4GPAAcDRbQaax+yaI82tHafb16yq7kyyYwt5pE6Y9B0qwCbAgcBPkvhdSuvLhjsd4LK4IUuyBHhzVT3STN/+AnAysDvwq1V1RJv5JEnrpt81pznegzVdc24Btq8qNzaVZkGSe6vq1b/oc5Kk+SnJl4BTqsqGO2PMmUvDt2DS7KSjgIuq6mrg6iRL24sldUOSVwE/qKpVSd4E7AZcVlWPtZlrvkmyC3A6sAPPX/t+QGuh5h+75kjtuCPJCVX12cmDSf4ImNqNV5I0/9lwpwOcuTRkSb4J7F5VTyf5DnBiVd3Sf66qXtduQmm8NUXcvehtGPjPwLXAa6vq4BZjzTtJ/gu4kN6J2nP7CVWVJ26NJAcD5wHTdc15a39Wk6ThSrIN8GXg56wpJu0FbAwc3t96QJI0Gmy40w3OXBq+q4B/TfIwsBK4FZ7rfLK8zWBSRzzbFHcPB86tqk8l+c+2Q81DT1fVBW2HmM+atrmrgH9K8nbWdM3Zz6450uypqh8Dv5lkf6B/Ue76qrqxxViSpAFZROoGZy7NgiRvAF4B/Muk1tW7AJs3SyskzZIkt9PrJvQh4LCqWuaswTWSvLQ5PAX4Cb3ZAZOnJ9t0YIok+wJfodc150i75kiSJL04G+50i8UlSWMlya7A+4DFVXVVkp2Ao6rq4y1HmxeSLGNNJ5ipqqp2nuNI89Y0XXNW01tC6BciSZIkaRKLS5IkSZIkaVbYcKcbLC5JGgtJvlhVRya5h+mn3e7WUrR5Jckf0vvdf/mU8ROAJ6rqynaSSZIkaRzZcKcbLC5JGgtJXlFVDyXZYbrnq+qBuc40HzWbm+9XVSumjE8AN1XVnu0kkyRJ0jhKsqSq9khyOvBUv+FOVf1G29k0PHaLkzQWquqh5v55RaQkC4B3ARaXehZMLSwBVNXjSTZqI5AkSZLG2uok7waOBg5rxvzeOWY2aDuAJA1DkokkZyY5P8lB6TkZuB84su1888hGSTabOphkC2DjFvJIkiRpvB0L7AP8VdPJeSfg8y1n0pC5LE7SWEjyVeBRYDFwILA1vWLJqVW1tMVo80qS0+j9/fxJVX2/GdsR+DRwc1Wd3V46SZIkSaPI4pKksZDknqp6fXO8AHgYeOV0S8C6Lsn7gDOBzeltfv4E8PGquqDVYJIkSRobNtzpFotLksZCf6PAmR7rhZJsTu//AQtwkiRJGiob7nSLxSVJYyHJM/Rm4EDvasimwJOsuTIy0VY2SZIkST39hjtVdUXbWTQ8FpckSZIkSdJQJZkA3g9sB1wLfB04CTgNWFpVb2sxnobM4pIkSZIkSRoqG+50i8UlSeqQJL+/tuer6pq5yiJJkqTxZcOdbtmw7QCSpDl12FqeK8DikiRJkoZhdf+gqp5JsszC0vhy5pIkSZIkSRoqG+50i8UlSeqoJIcAvwYs7I9V1VntJZIkSZI0ijZoO4Akae4luRA4CjiZ3tWjdwI7tBpKkiRJ0khy5pIkdVCSu6tqt0n3mwPXVNVBbWeTJEmSNFqcuSRJ3bSyuX8yybb0NlzcqcU8kiRJkkaU3eIkqZuuS7IVcDawhF6nuM+2mkiSJEnSSHJZnCR1XJJNgIVVtbztLJIkSZJGj8viJKmDktyZ5P1Jtq6qVRaWJEmSJA3K4pIkddO7gG2BO5J8IclbkqTtUJIkSZJGj8viJKnDkmwAHApcADwLXAKcV1WPtBpMkiRJ0shw5pIkdVSS3YBP0tvU+2rgCOBx4MY2c0mSJEkaLXaLk6QOSnIX8BhwMXBGVa1qnro9yW+1FkySJEnSyHFZnCR1UJKdq+r+tnNIkiRJGn0ui5OkbvpZknOarnF3Jvlkki3bDiVJkiRp9FhckqRuugRYARzZ3B4HFrWaSJIkSdJIclmcJHVQkqVVtfuLjUmSJEnSi3HmkiR108ok+/YfNJt4r2wxjyRJkqQR5cwlSeqgJLsDlwJbAgEeAY6uqrvbzCVJkiRp9FhckqQOSzLRHD4JHFVVV7SZR5IkSdLocVmcJHVIkokkZyY5P8nv0NvU+73AvfQ29pYkSZKkX4gzlySpQ5J8FXgUWAwcCGwNbAycWlVLW4wmSZIkaURZXJKkDklyT1W9vjleADwMvLKqVrSbTJIkSdKoclmcJHXL6v5BVT0DLLOwJEmSJGl9OHNJkjokyTPAE/2HwKb0NvMOUFU1MdN7JUmSJGk6FpckSZIkSZI0MJfFSZIkSZIkaWAWlyRJkiRJkjQwi0uSJEmSJEkamMUlSZKkGSSpdbi9qe2ckiRJbdqw7QCSJEnz2D6TjjcFbgT+Erh+0vi35zSRJEnSPGNxSZIkaQZV9e/94ySbN4f3TR6XJEnqOpfFSZIkrYckxyf5VpJVSR5I8udTnt8nybVJHkzyRJKlSd4z5TXHNEvs9khyc5Inm9ftkWSzJIuSLE9yf5J3T3nvvkluTfJ4c1ua5J1z8bNLkiSBxSVJkqSBJTkduAD4CnBoc/yxJCdNetkOwG3A8cBhwNXAoqlFosalwFXAO4AA/wBcDDwIHAHcDlyWZPvmz58ArgPub95zBHA5sNUQf0xJkqS1SlW1nUGSJGnea5bFrQCOrarPNYWdB4Gzq+qjk153FnAisF1VPTPlMwIsAD4NvKaqDmjGjwEWAcdU1aXN2MH09nZaVFXHNWNbAg8Dp1TVBUn2Au4AJqpqxez99JIkSTNz5pIkSdJg9gE2A76UZMP+jd6m39sA/dlFWyf5uyQPAKub24nALtN85g2Tju9t7m/sD1TVcuCnwHbN0H3A/wFXJnlbkq2G9cNJkiStK4tLkiRJg3lZc/8t1hSNVgM3NeO/3Nx/DjgKOBs4CNgbuARYOM1nPjbp+OfTjPXHFwJU1aPNZ24EfBH4aZLrk+w8wM8jSZI0ELvFSZIkDeaR5v5Q4MfTPP/dJAuBQ4CTqurC/hNJhnaBr6oWA7+bZFPgzcA5wJXAG4b1Z0iSJK2NxSVJkqTBLAZWAttW1fXTvaDZI2kBsGrS2BbA7wFD3fiyqlYCX0vyOuDMYX62JEnS2lhckiRJGkBVPZbkI8B5SXYAbqG35cAuwP5VdXhVLU9yB/AXSR4HngXOAJYDE+ubIckhwHH0utX9D729mP6YSfs0SZIkzTaLS5IkSQOqqk8keRD4APBnwFPAfwN/P+llfwBcBFwG/Aw4H3gJcNIQItxLbwbUXwMvp7fZ93XAB4fw2ZIkSeskVUOdkS1JkiRJkqQOsVucJEmSJEmSBmZxSZIkSZIkSQOzuCRJkiRJkqSBWVySJEmSJEnSwCwuSZIkSZIkaWAWlyRJkiRJkjQwi0uSJEmSJEkamMUlSZIkSZIkDez/Ac9oK7ETp7F/AAAAAElFTkSuQmCC\n",
      "text/plain": [
       "<Figure size 1440x720 with 1 Axes>"
      ]
     },
     "metadata": {
      "needs_background": "light"
     },
     "output_type": "display_data"
    }
   ],
   "source": [
    "temp_df = pd.melt(df1, id_vars=['id','season'], value_vars=['team1', 'team2'])\n",
    "plt.figure(figsize=(20,10))\n",
    "sns.countplot(x='value', data=temp_df)\n",
    "plt.title(\"Number of Matches Played by Each Team\", fontsize='20')\n",
    "plt.xlabel('Teams', fontsize='15')\n",
    "plt.ylabel('Count', fontsize='15')\n",
    "plt.xticks(rotation='vertical')\n",
    "plt.show()\n"
   ]
  },
  {
   "cell_type": "markdown",
   "metadata": {},
   "source": [
    "## Observation:"
   ]
  },
  {
   "cell_type": "markdown",
   "metadata": {},
   "source": [
    "Mumbai Indians lead in the most number of matches played."
   ]
  },
  {
   "cell_type": "code",
   "execution_count": 27,
   "metadata": {},
   "outputs": [
    {
     "data": {
      "text/html": [
       "<div>\n",
       "<style scoped>\n",
       "    .dataframe tbody tr th:only-of-type {\n",
       "        vertical-align: middle;\n",
       "    }\n",
       "\n",
       "    .dataframe tbody tr th {\n",
       "        vertical-align: top;\n",
       "    }\n",
       "\n",
       "    .dataframe thead th {\n",
       "        text-align: right;\n",
       "    }\n",
       "</style>\n",
       "<table border=\"1\" class=\"dataframe\">\n",
       "  <thead>\n",
       "    <tr style=\"text-align: right;\">\n",
       "      <th></th>\n",
       "      <th>season</th>\n",
       "      <th>winner</th>\n",
       "    </tr>\n",
       "  </thead>\n",
       "  <tbody>\n",
       "    <tr>\n",
       "      <th>1</th>\n",
       "      <td>2008</td>\n",
       "      <td>Rajasthan Royals</td>\n",
       "    </tr>\n",
       "    <tr>\n",
       "      <th>2</th>\n",
       "      <td>2009</td>\n",
       "      <td>Deccan Chargers</td>\n",
       "    </tr>\n",
       "    <tr>\n",
       "      <th>3</th>\n",
       "      <td>2010</td>\n",
       "      <td>Chennai Super Kings</td>\n",
       "    </tr>\n",
       "    <tr>\n",
       "      <th>4</th>\n",
       "      <td>2011</td>\n",
       "      <td>Chennai Super Kings</td>\n",
       "    </tr>\n",
       "    <tr>\n",
       "      <th>5</th>\n",
       "      <td>2012</td>\n",
       "      <td>Kolkata Knight Riders</td>\n",
       "    </tr>\n",
       "    <tr>\n",
       "      <th>6</th>\n",
       "      <td>2013</td>\n",
       "      <td>Mumbai Indians</td>\n",
       "    </tr>\n",
       "    <tr>\n",
       "      <th>7</th>\n",
       "      <td>2014</td>\n",
       "      <td>Kolkata Knight Riders</td>\n",
       "    </tr>\n",
       "    <tr>\n",
       "      <th>8</th>\n",
       "      <td>2015</td>\n",
       "      <td>Mumbai Indians</td>\n",
       "    </tr>\n",
       "    <tr>\n",
       "      <th>9</th>\n",
       "      <td>2016</td>\n",
       "      <td>Sunrisers Hyderabad</td>\n",
       "    </tr>\n",
       "    <tr>\n",
       "      <th>0</th>\n",
       "      <td>2017</td>\n",
       "      <td>Mumbai Indians</td>\n",
       "    </tr>\n",
       "    <tr>\n",
       "      <th>10</th>\n",
       "      <td>2018</td>\n",
       "      <td>Chennai Super Kings</td>\n",
       "    </tr>\n",
       "    <tr>\n",
       "      <th>11</th>\n",
       "      <td>2019</td>\n",
       "      <td>Mumbai Indians</td>\n",
       "    </tr>\n",
       "  </tbody>\n",
       "</table>\n",
       "</div>"
      ],
      "text/plain": [
       "    season                 winner\n",
       "1     2008       Rajasthan Royals\n",
       "2     2009        Deccan Chargers\n",
       "3     2010    Chennai Super Kings\n",
       "4     2011    Chennai Super Kings\n",
       "5     2012  Kolkata Knight Riders\n",
       "6     2013         Mumbai Indians\n",
       "7     2014  Kolkata Knight Riders\n",
       "8     2015         Mumbai Indians\n",
       "9     2016    Sunrisers Hyderabad\n",
       "0     2017         Mumbai Indians\n",
       "10    2018    Chennai Super Kings\n",
       "11    2019         Mumbai Indians"
      ]
     },
     "execution_count": 27,
     "metadata": {},
     "output_type": "execute_result"
    }
   ],
   "source": [
    "#Printing winning team of each season:\n",
    "temp_df1 = df1.drop_duplicates(subset=['season'], keep='last')\n",
    "temp_df1[['season','winner']].reset_index(drop=True).sort_values('season')"
   ]
  },
  {
   "cell_type": "code",
   "execution_count": 28,
   "metadata": {},
   "outputs": [
    {
     "data": {
      "image/png": "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\n",
      "text/plain": [
       "<Figure size 720x720 with 1 Axes>"
      ]
     },
     "metadata": {},
     "output_type": "display_data"
    }
   ],
   "source": [
    "toss_win = df1.toss_decision.value_counts()\n",
    "labels = np.array(toss_win.index)\n",
    "sizes = toss_win.values\n",
    "colors = ['orange', 'lightskyblue']\n",
    "plt.figure(figsize = (10,10))\n",
    "plt.pie(sizes, labels=labels, colors=colors, autopct='%1.1f%%', startangle=90)\n",
    "plt.title('Toss Decision Percentage')\n",
    "plt.show()"
   ]
  },
  {
   "cell_type": "markdown",
   "metadata": {},
   "source": [
    "## Observation:"
   ]
  },
  {
   "cell_type": "markdown",
   "metadata": {},
   "source": [
    "More than 60% of the toss decisions are to field first."
   ]
  },
  {
   "cell_type": "code",
   "execution_count": 29,
   "metadata": {},
   "outputs": [
    {
     "data": {
      "image/png": "iVBORw0KGgoAAAANSUhEUgAABJEAAAJnCAYAAAAnVcKMAAAAOXRFWHRTb2Z0d2FyZQBNYXRwbG90bGliIHZlcnNpb24zLjMuMiwgaHR0cHM6Ly9tYXRwbG90bGliLm9yZy8vihELAAAACXBIWXMAAAsTAAALEwEAmpwYAABAv0lEQVR4nO3debhkVXkv/u8rjQIREBBwANKQYAJhUrodggNKBPVGMaJGowgoIipeTAwRrz8R0atGTRxBNCpCLk4BcY4TgigSZbAVFAyKiCARBFEUUYb1+2Pv0xxOn9O7D1196nT35/M89VTV2rv2fmvVrupT3157VbXWAgAAAADLc7dxFwAAAADA/CdEAgAAAGCQEAkAAACAQUIkAAAAAAYJkQAAAAAYJEQCAAAAYJAQCYC1WlWdWVVt3HWMQ1WtW1WvqapLq+r3VdWq6snjrmuuVNXlVXX5uOtYk1XVnv1xdfS4a2HVqqqj+9d6z3HXAsCqI0QCYKX1XxxaVf2kqtabYZ3L+3UWzHV9zOhlSY5K8rMkb0nymiSXjLWiAWtz6MeKqaqFkz6TVvSy57jrXlP1/XvmuOsAYDT8IQ/AKG2T5KVJ3jjmOlgxf53kN0ke21r7w7iLgRG5IV0gOtWr++vpll2+qooBgDWJEAmAUfllkpbkFVX1vtbaL8ZdEIPul+Q6ARJrktbaDUmOntpeVa/uly+zDABYMU5nA2BUbkry2iQb5Y7/8V+uoflSppuzpqoO7B9zYFU9tqq+VlW/qaprq+qEqrpXv94Dq+ozVfXLfvmnqmrhcmq5R1W9rqp+3M8P9KOqenVV3X2G9f+8qj5YVT/t1/95VX2oqv5smnU/2Ne8XVW9pKq+W1W/mzjFozoHVNU3+udxc7/dL1TV365IX/bb2biq3lBVP+i38ct+G381XT1Jtk3yx5NO6bl82g3f+bFn9uuuW1VH9f10c1VdUlXPn7TeoVV1Yf88r+znXlrm747+dTy1qi7r1/11VZ1dVc+est7CvuZH9fcnn4p05pR1t6qqd1Q319PNVXV9VX2rql41w3PaoKreXFVX9K/lD6vq5VVVM6z/kKo6par+p6r+0L9W76mq+02z7nZV9d5+m7/ra7mwqo6vqs1WoL9/VlVXTtP+k/65v2pK+xP69mOmtN+3qo6t7j31h/44+3hV7T7Ntie/xx7dv+Y39q/NZ6tqh6G6Z3guD6uqL1fVr/rtfaGqFk1Z5439vp8zwzZ275d/+q7UMMM279Yfr+dW91nx2/72C2c4Zh9RVZ/uj+vf98fBf1UfUk1ab8uqekv/fvxtVd3Q3/5gVW23grVd3l82qqp/7W/fUpM+M2t2n0UrVNPkY2CGugZPUZvYRn/3UVPes0cv77EAzF9GIgEwSscmOSzJC6rqna21/16F+3pSutOxPpPk+CR/meTAJNtW1ZFJTk/ytSTvT7Jzkicm+ZOq2rm1dvs02/tYksVJTklyS5J9041mWFRVT2qtLZ2Hp6oel+TjSdZN8ukkP0yyVZKnJPlfVfXo1toF0+zj7UkekeSzST6X5La+/f8meUWSH/d1/CrJfft6npbko0OdUV14dnaSHZOcm+RtSe6d5OlJvlhVL2ytvadf/RPpTt95aX//bf31DUP7meQjSR7SP49bkjw1yXur6pYkuyQ5IN1rc3q61+qodEHjP0/ZzruTfD/JWUmuTrJZkick+feq+rPW2kRIckO605AOTPLHufMpSZdP3OhDiS8k2bTf5seTbJCuX45OF3ROtm6SL6YblfWfSW5N8uR0p2SuN2U/qaqDkvxbkt8n+VSSnybZPsnBSZ5YVQ9trV3Rr3vfdK/FRn0/ndpvc9sk+yd5V5LrsnxfSfKsqvrz1tol/Xb/NN2po0my15Tn9Jj++vRJNW+b5Ov9c/xKkg8n2TrdsfW/qmq/1tpnptn3X6d7H/xnuvfYjulem8VVteMsRxs+JN0x/uV0nxN/mu798siq2ru19rV+veOTHJHkBUlOmmY7L+iv3zPNsrvq35P8XbrX8n3pRlT+TZLjkjw8ybMmVuzf+59N8ut0r/9V6Y61HZK8KP3xUlUbpHs//kmSL6X7nKh0x+6+6T5nLlvB+u6e7nXbNN2x+ut0nxWz+iwacU0rYkm6/nh1kp8k+eCkZWeOcD8AzKXWmouLi4uLy0pd0n3purK//dT+/senrHN5375gUtuefdvRM2z38iSXT2k7sH/MrUkeNan9bum+GLUk1yd51pTHvb9ftu+U9jP79v9Ossmk9vWSnNMv239S+ybpTt37RZIdp2zrL9LNMXTBlPYP9tu5Ksm20zzP65JcmWSDaZbdewVfg/f0+3hPkprUvn26UOr3SRYO9e8K7Geiv85Ncq9J7dsl+UPfNz9Ocv9Jy+7V99e1k1//ftmfTLOPu6cLQW6ZvJ3J+5+htrv3+25J/m6a5VvPcEx+Lsn6k9q3SBda3ZBk3UntD+if4w+nqesx6ULB0ya1vaTf/uHT1PJHk/e5nP5+br+NF09qe0Hf9sX+dd1g0rJvpwvr7j6p7Qv9+q+csu2/TPc+ui7JPWd4j+015TFv6Jf90woeL3v267ckh01Ztm/ffmmSu01q/0zfvvOU9e+Z5MYkVyRZZzbHbf/4NvXYSfLMvv2CKX3wR0nOm3ospQsCW5Jdp9n+vSfdfmK/3ltnOE43XMGaJ47RLyf5oynLZvVZNJuaJh0DBy6nL8+c0nZ0377n0LouLi4uLqvvxelsAIxUa+2UdOHL31TVw1fhrj7cWvvqpP3enm5EQZJc1Fo7ecr6E6Madpthe69trf1y0vZuTjdyIum+yE94TrpQ5NWtte9P3kBr7XvpRqk8sKp2nGYfb2qt/XiG/d+SO0YmTd7m4GiPqlo3ybPTfWl8RWtt6aip1tqlSd6R7kvitKcI3UVHtm7umYn9XJZutMu90vXlVZOW3ZBu1MO9k9x/8kZaaz+auuHWzdF0bLoR03vNoqYnJlmY5FOttQ9Ns92fzvC4/91a+92k9a5J8skkGyeZfErQC9ON+Dh88vPrH/OVdCNTnlhVG07Z/u+m3E9r7beT97kcEyOKJvfDXkmuyR2v68OTpD89btckX+/7MFW1VZK90wUvb5pSwzfSjUraNN3Ilak+0lo7fUrbe/vrB69A7ZP9MN3Insn7/2SSr6YblfSISYve3V8fMmUbz0oXJL2vtbbMe+UumnhvH9la+82k2n6b5OX93YOnedx0r+l079Xp1vtDa+3GWdb5sr6mye7qZ9GoagJgLeR0NgBWhZcl+UaSf+lP72lDD7gLzpum7Wf99fnTLJv40r/VDNv76jRtX0s3GuOBk9oe1l/vOsO8Hg/or3dId5rWZN+aYd8npxu18r2q+o++lnNaa7+aYf2p/jzdKVtnt9aun2b5V5L8f7nz81hZK9P/P5lorKpt0n1Z3yvdKVrrT3nc/bPiHtpf/+csHvOr1toPp2mfCJw2mdQ28do/qqoWT/OYLZKsk+4YOD9dqPT6JMdW1T7pRgSdneT7K/qeaK39pKouS/Lofn6elm50z5fTHSe3puu7LyZ5dLrTk74yaRMTr/nXWmu3TLOLr6QLIB+YZU8fm+41nq5fVsTX2vSnkZ6Zbp6rB+aO9+B/phtRtn9Vvby1dlPffki6oPV9s9z38jwoye2Z/vSqr/b7m/y+OTld4PbNqvpokjPSve+mzlv11XTH/JFV9aB0o93OTrLkLgRgNyf57jTts/0sGmVNAKylhEgAjFxr7ZyqOiXdqW1PzwrM6XMXTBew3LoCy9adYXs/n9rQWrutqq5LFw5MmJgM+flT15/intO0/c8M6/59kh+lGxVxZH+5tao+l24EwnQhx2Qb99dXz7B8ov1eA9tZYTMEXLPq/34i32+lCyS+li4I+VW6L+4L082rdI9ZlHWv/vqq5a00xQ0ztE/Uu86ktonX/oiBbd4zWRoAPTjdaT6Pyx2jfX5aVW9prb1jBWs8Pd3x9qB0I9Y2T3J6a+3Gqjo3d4xS2mvS+hNW5ti4YWpDa+3W6uYbX2eZtZdvmfdXb+I9MVFnWmu3V9V70s1L9bdJTqhuAvAHJflEa+1ny27mLts4yfVtml8o7J/rLzLp/d9a+3hV/XW6oPy56edoqqrz040C/FK/3q+r6qHp5gR6UpJ9+k38oqqOS/K6GUK96VwzQ+g4q8+iEdcEwFrK6WwArCpHpvvC+4aa4RfO0o0ASGb+T42NZ2hfFbac2lBV66T7ovbrSc0TAcmurbVazuXEafYx7eiT1tptrbW3t9Z27evYL8lp6b7ofb6qhoKUiZruM8Py+05Zb774h3T9+7zW2p6ttf/dWntV636C/Qt3YXs39NezGb00GxP9t/HAaz/5NMuLW2t/m+55Lkr3vrhbkrdX1fNWcL8TI4v+KncERV+ZdP3Aqtq0X/ardPP7TK153MfGMu+v3kRdU/f/gXTzPU1MpL0qJtSe2O+m/Smhd1JVC9Kdgjn5/Z/W2mdba49JF37uleSt6eYg+szkU8daa1e21p6XLoTaKcn/Tjf/1FH9ZUXNNGpt1p9Fs6hpxs/mfhJ/ANZSQiQAVol+rpvj0v0S1UtmWG1iDqKtpy7of4HqXqukuOk9apq2R6T7EvXtSW3/NWnZyLXWrmmtfby19vR0AcGfpPuytzw/SDeZ8m5VNd1pRo/ur6f7xbhx+tP++tRplk33eiT9vFF9wDfVxGvz+JWsayZ3+bVvrd3aWju/tfbP6SZzTrpfgVsRX0kXJOyVbgLvyybNrXV6ur/n9k83ifqZU05Nmjh2H96HIlPN1bHx8P50vKn27K8nv8fSWrs23a+FPaSq9kjXZ5enG602St9O13+PnGbZI9ONuJq2b/p5rb7SWvuHdKct3j3THHut873W2juTPLZvfvIIal+Z43Gophk/m9OFobNxe2Y/cg2AeUqIBMCqdEy60SGvzPSnd12S7n/5962qpaeMVNX66SYNnkuvmhzAVNV66X6JKklOmLTeCeme06v7U5XupKruVlV7ruhOq+oeVbVX9ecITWpfN92Ex0kXEM2oPxXn5HR9fMyU7fxJutEGt+SOicfni8v76z0nN/bzB003mXHSjZpI7viJ+8k+3W/zSVX1zKkLq2plRyi9K10/vrWqHjB1YVXdvaoeMen+g6tquhE4E23LfV0n9BN9fy/JHumCjcmnq30j3Zw5/6e//5Upj70y3a8WLkzy0in1PiTdT9v/Mt3It1Vp+yQvmrL/fdOFhT9MdzrjVBMTbH803bH93hnmVVoZH+iv31BVG0yqbYN0p9Ml3S87TrTv1X8+TXWn17SqdqqqhUPrraRZfRbNsqbz0oU/fzelXzbNlAnaV8B1mT6MAmA1ZE4kAFaZ1tr1VfX6zPClo7V2S1W9Pcmrkny7qk5L92/TY9NN0jzKuU+GXJxuYutT0gUF+6YbBfTZTApfWmvXVdVT033p/q+qOj3dF/zb0wUbD0t36tJ6K7jf9dNNknx5VX0z3aTT66Xrgx3S/dLYxSuwnSPTjUg4rJ/0+Yx0p+I8PcmG6X5efaZfhhuX45IclOQ/qurUdHMZ7ZRu/qCPpZsPZ6rTkzwtycf7OaN+l+QnrbV/b639oaqelm60yoeq6gXpRmusl64v98pK/O3TWrukqp6bLnj4XlV9Psl/p5vnaZt0/X9tuonOky6geXFVfTVdUPLLdMfUE9OdqvW2Wez+9NwxIm1piNRa+31VnZ3p50OacGi6CZTfXFV7pwsItk7Xj7cnOWgOfpnr8+km2n98ku+kG4X2lHQB2POmC4daa2dX1XfS/eLcLbkj8BmZ1tqH+jDr6ele00+kG/X15HSjKD/W7vxLj/+SZGFVnZkusPxDkt3TjRD7SZKP9Ov9VZJ/rapvpAvLr0k3qfy+6fr8zSOofbafRStcU2vt6qo6Od0ItyVV9dkkGyV5QpKzMrtJ+k9P8oyq+nS6CedvTXJWa+2su/TEARgrIRIAq9o70o1AWDjD8len+x/w56f79aX/SfdF7Ogs++tmq9LT04VZz0pyv3SBxtFJ3jh1UtvW2ulVtUuSf0w3Oe0j0n2Z/Fm6kSDTnZ41k4mfEn90kr9M9+X1xnQTbb8wK/jFuQ/sHpbkFem+nP9DuoDlW0ne3Fob9WlAK6219t2qenSS16X7crogXcDwlHQjLKYLkd6X5I+TPCPJP/WP+Wr6oK+1dl5V7ZYuVHt8uj69MV2I8+oR1Pz/+mDjZeles73TvYY/S3f61eRJ5D+cbmLwv0w3KfT66Y6rjyT5l9baRbPY9elJDk8XcJwxzbK9kvy8dT/tPrXmy6pqUbpf6HtCupFfv04X7Pzf1tq5s6jjrvpmulFyr01yWO74FblXDuz/hHRh2ydbazNNzr2ynpnuGFo6UXa6UPlfcsdoqAmvT/I36U7p+qt04csVffvbWmsTp4F9oa/7kelCmo3STWL+pST/2lr7xigKn+Vn0Wxren66CdGfmeTF/fN8R7qw6emzKHPiuN0r3fF3t3STewuRAFZDNf2PPQAAwHhV1QfT/UrfX7XWphtlBQDMISESAADzTlVtneTSJJcl+YsZfuYeAJhDTmcDAGDeqKq/S/KAdKcs3iPJqwRIADA/GIkEAMC80U9a/cgkP03y1tba28ZaEACwlBAJAAAAgEF3G3cBAAAAAMx/q+2cSPe+973bwoULx10GAAAAwBrj/PPP/0VrbfPplq22IdLChQtz3nnnjbsMAAAAgDVGVf1kpmVOZwMAAABgkBAJAAAAgEFCJAAAAAAGrbZzIk3nlltuyZVXXpmbb7553KXMa+utt1622mqrrLvuuuMuBQAAAFhNrFEh0pVXXpkNN9wwCxcuTFWNu5x5qbWW6667LldeeWW23XbbcZcDAAAArCbWqNPZbr755my22WYCpOWoqmy22WZGawEAAACzskaFSEkESCtAHwEAAACztcaFSAAAAACM3hodIt1www057rjj5mx/l19+eXbaaae79NijjjoqX/7yl2dcfvzxx+ekk066q6UBAAAArJQ1amLtqSZCpBe96EXjLmXQMcccs9zlhx566BxVAgAAALCsNXok0pFHHpkf/ehH2W233XLEEUfkiCOOyE477ZSdd945H/3oR5MkV199dR75yEdmt912y0477ZSvfe1rue2223LggQcuXfetb33rjPs4//zzs+uuu+ZhD3tYjj322KXtt912W4444ogsXrw4u+yyS97znvcsXfamN70pO++8c3bdddcceeSRSZIDDzwwp5xyytK6d9xxx+yyyy75x3/8xyTJ0Ucfnbe85S1JkiVLluShD31odtlll/zN3/xNfvnLXyZJ9txzz7z85S/Pgx/84DzgAQ/I1772tRH2JgAAALA2W6NHIr3xjW/MRRddlCVLluTUU0/N8ccfn+985zv5xS9+kcWLF+eRj3xkPvShD2WfffbJK1/5ytx222256aabsmTJklx11VW56KKLknQjmmZy0EEH5Z3vfGce9ahH5Ygjjlja/v73vz8bb7xxzj333Pz+97/PHnvskb333juXXHJJPvGJT+Sb3/xmNthgg1x//fV32t7111+f0047LZdcckmqatp9P+c5z1m6z6OOOiqvec1r8ra3vS1Jcuutt+Zb3/pWPve5z+U1r3nNck+RAwAAAFhRa/RIpMm+/vWv55nPfGbWWWedbLnllnnUox6Vc889N4sXL84JJ5yQo48+OhdeeGE23HDDbLfddrnsssvykpe8JJ///Oez0UYbTbvNX/3qV7nhhhvyqEc9Kkmy//77L132xS9+MSeddFJ22223POQhD8l1112XSy+9NF/+8pdz0EEHZYMNNkiSbLrppnfa5kYbbZT11lsvBx98cD7+8Y8vXW+mfR5wwAE566yzli5/ylOekiTZfffdc/nll69cpwEAAAD01poQqbU2bfsjH/nInHXWWbn//e+f/fffPyeddFI22WSTfOc738mee+6ZY489NgcffPCM26yqGZe9853vzJIlS7JkyZL8+Mc/zt57773cxyTJggUL8q1vfSv77bdfPvGJT+Rxj3vcrJ7nPe5xjyTJOuusk1tvvXVWjwUAAACYyRodIm244Ya58cYbk3Rh0Uc/+tHcdtttufbaa3PWWWflwQ9+cH7yk59kiy22yPOf//w873nPywUXXJBf/OIXuf3227Pffvvlta99bS644IJpt3+ve90rG2+8cb7+9a8nSU4++eSly/bZZ5+8+93vzi233JIk+e///u/89re/zd57750PfOADuemmm5JkmdPZfvOb3+RXv/pVnvCEJ+Rtb3tblixZcqflG2+8cTbZZJOl8x39+7//+9JRSQAAAACryho9J9Jmm22WPfbYIzvttFMe//jHZ5dddsmuu+6aqsqb3vSm3Oc+98mJJ56YN7/5zVl33XVzz3veMyeddFKuuuqqHHTQQbn99tuTJG94wxtm3McJJ5yQ5z73udlggw2yzz77LG0/+OCDc/nll+dBD3pQWmvZfPPNl44sWrJkSRYtWpS73/3uecITnpDXv/71Sx934403Zt99983NN9+c1tq0k3qfeOKJOfTQQ3PTTTdlu+22ywknnDDCXgMAAABYVs10mtd8t2jRonbeeefdqe3iiy/ODjvsMKaKVi/6CgAAAJiqqs5vrS2abtkafTobAAAAAKOxRp/ONkovfvGLc/bZZ9+p7fDDD89BBx00pooAAAAA5o4QaQUde+yx4y4BAAAAYGzmPESqqsuT3JjktiS3ttYWVdWmST6aZGGSy5M8vbX2y7muDQAAAIDpjWtOpEe31nabNFHTkUlOb61tn+T0/j4AAAAA88R8mVh73yQn9rdPTPLk8ZUCAAAAwFTjCJFaki9W1flVdUjftmVr7eok6a+3GENdc+Yd73hHdthhh2yyySZ54xvfuNx1P/jBD+awww6bdtk973nPVVEeAAAAwDLGMbH2Hq21n1XVFkm+VFWXrOgD+9DpkCTZZpttVrqQ3Y84aaW3Mdn5b37OCq133HHH5T//8z+z7bbbjnT/AAAAjNeov2eOwop+V11d6fO5M+cjkVprP+uvr0lyWpIHJ/l5Vd03Sfrra2Z47Htba4taa4s233zzuSp5pA499NBcdtlledKTnpS3vvWtS0cZXXvttdlvv/2yePHiLF68OGefffYyj/3xj3+chz3sYVm8eHFe9apXzXXpAAAAwFpsTkOkqvqjqtpw4naSvZNclORTSQ7oVzsgySfnsq65dPzxx+d+97tfzjjjjGyyySZL2w8//PD8/d//fc4999yceuqpOfjgg5d57OGHH54XvvCFOffcc3Of+9xnLssGAAAA1nJzfTrblklOq6qJfX+otfb5qjo3yceq6nlJrkjytDmua+y+/OUv5/vf//7S+7/+9a9z44033mmds88+O6eeemqSZP/998/LX/7yOa0RAAAAWHvNaYjUWrssya7TtF+XZK+5rGW+uf3223POOedk/fXXX+56fQAHAAAAMKfG8etsTGPvvffOu971rqX3lyxZssw6e+yxRz7ykY8kSU4++eS5Kg0AAABAiDRfvOMd78h5552XXXbZJTvuuGOOP/74ZdZ5+9vfnmOPPTaLFy/Or371qzFUCQAAAKytqrU27hrukkWLFrXzzjvvTm0XX3xxdthhhzFVtHrRVwAAAKPn5+bnnj4frao6v7W2aLplRiIBAAAAMEiIBAAAAMCgOf11NgAAYO3llBOA1ZuRSAAAAAAMEiIBAAAAMEiIBAAAAMAgIdIcu/zyy7PTTjut8Pof/OAH87Of/WwVVgQAAAAwbK2eWPuKY3Ye6fa2OerCkW4v6UKknXbaKfe73/1Gvm0AAACAFWUk0hjceuutOeCAA7LLLrvkqU99am666aYcc8wxWbx4cXbaaacccsghaa3llFNOyXnnnZdnPetZ2W233fK73/1u3KUDAAAAaykh0hj84Ac/yCGHHJLvfve72WijjXLcccflsMMOy7nnnpuLLroov/vd7/KZz3wmT33qU7No0aKcfPLJWbJkSdZff/1xlw4AAACspYRIY7D11ltnjz32SJI8+9nPzte//vWcccYZechDHpKdd945X/nKV/K9731vzFUCAAAA3GGtnhNpXKpqmfsvetGLct5552XrrbfO0UcfnZtvvnlM1QEAAAAsy0ikMbjiiityzjnnJEk+/OEP5+EPf3iS5N73vnd+85vf5JRTTlm67oYbbpgbb7xxLHUCAAAATDASaQx22GGHnHjiiXnBC16Q7bffPi984Qvzy1/+MjvvvHMWLlyYxYsXL133wAMPzKGHHpr1118/55xzjnmRYB7Y/YiTxl3CMs5/83PGXQIAMA/5uwUYpbU6RNrmqAvnfJ8LFy7M97///WXaX/e61+V1r3vdMu377bdf9ttvv7koDQAAAGBGTmcDAAAAYJAQCQAAAIBBQiQAAAAABq1xIVJrbdwlzHv6CAAAAJitNSpEWm+99XLdddcJSZajtZbrrrsu66233rhLAQAAAFYja9Svs2211Va58sorc+211467lHltvfXWy1ZbbTXuMgAAAIDVyBoVIq277rrZdtttx10GAAAAwBpnjTqdDQAAAIBVQ4gEAAAAwCAhEgAAAACDhEgAAAAADBIiAQAAADBIiAQAAADAICESAAAAAIOESAAAAAAMEiIBAAAAMEiIBAAAAMAgIRIAAAAAg4RIAAAAAAwSIgEAAAAwSIgEAAAAwCAhEgAAAACDhEgAAAAADBIiAQAAADBIiAQAAADAICESAAAAAIOESAAAAAAMEiIBAAAAMEiIBAAAAMCgBeMuAABgRVxxzM7jLmFa2xx14bhLAACYE0YiAQAAADBIiAQAAADAICESAAAAAIOESAAAAAAMEiIBAAAAMEiIBAAAAMAgIRIAAAAAg4RIAAAAAAwSIgEAAAAwSIgEAAAAwCAhEgAAAACDhEgAAAAADBIiAQAAADBIiAQAAADAICESAAAAAIOESAAAAAAMEiIBAAAAMEiIBAAAAMAgIRIAAAAAg4RIAAAAAAwSIgEAAAAwSIgEAAAAwCAhEgAAAACDhEgAAAAADBIiAQAAADBIiAQAAADAICESAAAAAIOESAAAAAAMEiIBAAAAMEiIBAAAAMAgIRIAAAAAg4RIAAAAAAwSIgEAAAAwSIgEAAAAwCAhEgAAAACDhEgAAAAADBIiAQAAADBIiAQAAADAICESAAAAAIOESAAAAAAMWjDuAgAASHY/4qRxl7CM89/8nHGXAADMI0YiAQAAADBIiAQAAADAICESAAAAAIOESAAAAAAMEiIBAAAAMEiIBAAAAMCgsYRIVbVOVX27qj7T39+0qr5UVZf215uMoy4AAAAApjeukUiHJ7l40v0jk5zeWts+yen9fQAAAADmiTkPkapqqyT/K8n7JjXvm+TE/vaJSZ48x2UBAAAAsBzjGIn0tiT/lOT2SW1bttauTpL+eosx1AUAAADADOY0RKqqv05yTWvt/Lv4+EOq6ryqOu/aa68dcXUAAAAAzGSuRyLtkeRJVXV5ko8keUxV/b8kP6+q+yZJf33NdA9urb23tbaotbZo8803n6uaAQAAANZ6cxoitdZe0VrbqrW2MMkzknyltfbsJJ9KckC/2gFJPjmXdQEAAACwfOP6dbap3pjksVV1aZLH9vcBAAAAmCcWjGvHrbUzk5zZ374uyV7jqgUAAACA5ZsvI5EAAAAAmMeESAAAAAAMEiIBAAAAMEiIBAAAAMAgIRIAAAAAg8b262zAmuuKY3YedwnT2uaoC8ddAgAAwGrLSCQAAAAABgmRAAAAABgkRAIAAABgkBAJAAAAgEFCJAAAAAAGCZEAAAAAGCREAgAAAGCQEAkAAACAQUIkAAAAAAYJkQAAAAAYJEQCAAAAYJAQCQAAAIBBQiQAAAAABgmRAAAAABgkRAIAAABgkBAJAAAAgEFCJAAAAAAGCZEAAAAAGCREAgAAAGCQEAkAAACAQQvGXQAADNn9iJPGXcIyTtvwzeMuYVrbHHXhuEsAAGANZSQSAAAAAIOESAAAAAAMEiIBAAAAMEiIBAAAAMAgIRIAAAAAg4RIAAAAAAwSIgEAAAAwSIgEAAAAwCAhEgAAAACDhEgAAAAADBIiAQAAADBIiAQAAADAICESAAAAAIOESAAAAAAMEiIBAAAAMEiIBAAAAMAgIRIAAAAAg4RIAAAAAAwSIgEAAAAwaMG4C4BV7Ypjdh53CdPa5qgLx10CAAAArDAjkQAAAAAYJEQCAAAAYJAQCQAAAIBBQiQAAAAABgmRAAAAABgkRAIAAABgkBAJAAAAgEFCJAAAAAAGCZEAAAAAGCREAgAAAGDQgnEXAAAA47D7ESeNu4RlnP/m54y7BACYkZFIAAAAAAwSIgEAAAAwSIgEAAAAwCAhEgAAAACDhEgAAAAADBIiAQAAADBIiAQAAADAICESAAAAAIOESAAAAAAMEiIBAAAAMEiIBAAAAMAgIRIAAAAAg4RIAAAAAAwSIgEAAAAwSIgEAAAAwCAhEgAAAACDhEgAAAAADBIiAQAAADBIiAQAAADAoAXjLmBV2v2Ik8ZdwjLOf/Nzxl0CAAAAwKwZiQQAAADAICESAAAAAIOESAAAAAAMEiIBAAAAMEiIBAAAAMAgIRIAAAAAg4RIAAAAAAwSIgEAAAAwSIgEAAAAwCAhEgAAAACDFoy7AABg/tn9iJPGXcIyTttw3BUAAKzdjEQCAAAAYJAQCQAAAIBBQiQAAAAABgmRAAAAABgkRAIAAABg0JyGSFW1XlV9q6q+U1Xfq6rX9O2bVtWXqurS/nqTuawLAAAAgOWb65FIv0/ymNbarkl2S/K4qnpokiOTnN5a2z7J6f19AAAAAOaJOQ2RWuc3/d11+0tLsm+SE/v2E5M8eS7rAgAAAGD55nxOpKpap6qWJLkmyZdaa99MsmVr7eok6a+3mOu6AAAAAJjZnIdIrbXbWmu7JdkqyYOraqcVfWxVHVJV51XVeddee+0qqxEAAACAOxvbr7O11m5IcmaSxyX5eVXdN0n662tmeMx7W2uLWmuLNt9887kqFQAAAGCtN9e/zrZ5Vd2rv71+kr9KckmSTyU5oF/tgCSfnMu6AAAAAFi+BXO8v/smObGq1kkXYH2stfaZqjonyceq6nlJrkjytDmuCwAAAIDlmNMQqbX23SQPnKb9uiR7zWUtAAAAAKy4sc2JBAAAAMDqQ4gEAAAAwCAhEgAAAACDhEgAAAAADBIiAQAAADBIiAQAAADAICESAAAAAIOESAAAAAAMEiIBAAAAMEiIBAAAAMAgIRIAAAAAg4RIAAAAAAwSIgEAAAAwaIVDpKp6TlVtNsOyTavqOaMrCwAAAID5ZDYjkU5I8iczLNu2Xw4AAADAGmg2IVItZ9lmSX69krUAAAAAME8tWN7Cqto3yb6Tml5VVddOWW29JI9Icu6IawMAAABgnlhuiJRkiyQ7T7r/J0nuM2WdPyT5YpLXjbAuAAAAAOaR5YZIrbV/S/JvSVJVZyR5YWvtkrkoDAAAAID5Y2gk0lKttUevykIAAAAAmL9WOERKkqq6X5K/TrJVurmQJmuttZePqjAAAAAA5o8VDpGq6m+SfDjJOkmuSTcX0mQtiRAJAAAAYA00m5FIr083gfaBrbXrV1E9AAAAAMxDswmRtk7yEgESAAAAwNrnbrNY9xtJ/mxVFQIAAADA/DWbkUj/kOTkqvpNki8luWHqCq21m0ZUFwAAAADzyGxCpO/21yekm0R7OuusXDkAAAAAzEezCZGem5nDIwAAAADWYCscIrXWPrgK6wAAAABgHpvNxNoAAAAArKVWeCRSVV2bgdPZWmtbrHRFAAAAAMw7s5kT6dgsGyJtmuQxSTZK8v5RFQUAAADA/DKbOZGOnq69qirJx5LcOqKaAAAAAJhnVnpOpNZaS/K+JIetfDkAAAAAzEejmlh7uyR3H9G2AAAAAJhnZjOx9oumab57kh2SPCvJf4yqKAAAAADml9lMrP2uadp+n+TKJMclec1IKgIAAABg3pnNxNqjOvVtrXbFMTuPu4RpbXPUheMuAQAAAJjHBEMAAAAADJpViFRV21XVu6vqwqq6qr8+rqq2W1UFAgAAADB+s5lYe/ckZyS5Oclnkvw8yZZJ9kvyrKp6dGvtglVSJQAAAABjNZuJtd+S5NtJHt9au2misao2SPK5fvljRlseAAAAAPPBbE5ne3CSN00OkJKkv/+WJA8ZZWEAAAAAzB+zCZF+l2SzGZZtmu40NwAAAADWQLMJkT6b5I1V9fDJjf39NyT59CgLAwAAAGD+mM2cSP+Q5JNJvlpV16abWHuLdJNrn53kZaMvDwAAAID5YIVDpNbadUkeXlWPS7I4yX2TXJ3km621L66i+gAAAACYB5YbIlXVZknem+S9rbUvJElr7fNJPj9pnX2q6tQkL2ytXbMqiwVgelccs/O4S5jWNkddOO4SAFYrPs8BmM+G5kR6aZLtkixvpNEXk2wbp7MBAAAArLGGQqSnJzm+tdZmWqFf9p4k+46yMAAAAADmj6EQ6Y+TfH8FtnNxkoUrXQ0AAAAA89JQiPS7JButwHbu2a8LAAAAwBpoKES6IMmTVmA7+/brAgAAALAGGgqRjk3yvKo6YKYVquo5SQ5K8q5RFgYAAADA/LFgeQtbax+vqrcnOaGqDkvy+SRXJGlJtkmyT5JFSd7aWjttVRcLAAAAwHgsN0RKktbay6rqzCQvTfKPSe7RL/p9krOT7Nta+8yqKhAAAACA8RsMkZKktfbpJJ+uqgVJNuubr2ut3brKKgMAAABg3lihEGlCHxr9fBXVAgAAAMA8NTSxNgAAAAAIkQAAAAAYJkQCAAAAYJAQCQAAAIBBQiQAAAAABgmRAAAAABgkRAIAAABgkBAJAAAAgEFCJAAAAAAGCZEAAAAAGCREAgAAAGCQEAkAAACAQUIkAAAAAAYJkQAAAAAYJEQCAAAAYJAQCQAAAIBBQiQAAAAABgmRAAAAABgkRAIAAABgkBAJAAAAgEELxl0Aa5bdjzhp3CUs47QNx10BAAAArP6MRAIAAABgkBAJAAAAgEFCJAAAAAAGCZEAAAAAGCREAgAAAGCQEAkAAACAQUIkAAAAAAYJkQAAAAAYJEQCAAAAYNCCcRcArJzdjzhp3CUs47QNx10BAAAAo2YkEgAAAACDhEgAAAAADBIiAQAAADBIiAQAAADAICESAAAAAIOESAAAAAAMmtMQqaq2rqozquriqvpeVR3et29aVV+qqkv7603msi4AAAAAlm+uRyLdmuRlrbUdkjw0yYurasckRyY5vbW2fZLT+/sAAAAAzBNzGiK11q5urV3Q374xycVJ7p9k3yQn9qudmOTJc1kXAAAAAMs3tjmRqmphkgcm+WaSLVtrVydd0JRki3HVBQAAAMCyxhIiVdU9k5ya5KWttV/P4nGHVNV5VXXetddeu+oKBAAAAOBO5jxEqqp10wVIJ7fWPt43/7yq7tsvv2+Sa6Z7bGvtva21Ra21RZtvvvncFAwAAADAnP86WyV5f5KLW2v/OmnRp5Ic0N8+IMkn57IuAAAAAJZvwRzvb48k+ye5sKqW9G3/J8kbk3ysqp6X5IokT5vjugAAAABYjjkNkVprX09SMyzeay5rAQAAAGDFje3X2QAAAABYfQiRAAAAABgkRAIAAABgkBAJAAAAgEFCJAAAAAAGzemvswEAsPq44pidx13CtLY56sJxlwAAayUjkQAAAAAYJEQCAAAAYJAQCQAAAIBBQiQAAAAABgmRAAAAABgkRAIAAABgkBAJAAAAgEFCJAAAAAAGCZEAAAAAGCREAgAAAGCQEAkAAACAQUIkAAAAAAYJkQAAAAAYJEQCAAAAYJAQCQAAAIBBQiQAAAAABgmRAAAAABgkRAIAAABgkBAJAAAAgEFCJAAAAAAGCZEAAAAAGCREAgAAAGCQEAkAAACAQUIkAAAAAAYJkQAAAAAYJEQCAAAAYJAQCQAAAIBBQiQAAAAABgmRAAAAABgkRAIAAABgkBAJAAAAgEFCJAAAAAAGCZEAAAAAGCREAgAAAGCQEAkAAACAQUIkAAAAAAYJkQAAAAAYJEQCAAAAYJAQCQAAAIBBQiQAAAAABgmRAAAAABgkRAIAAABgkBAJAAAAgEFCJAAAAAAGCZEAAAAAGCREAgAAAGCQEAkAAACAQUIkAAAAAAYJkQAAAAAYJEQCAAAAYJAQCQAAAIBBQiQAAAAABgmRAAAAABgkRAIAAABgkBAJAAAAgEFCJAAAAAAGCZEAAAAAGCREAgAAAGCQEAkAAACAQUIkAAAAAAYJkQAAAAAYJEQCAAAAYJAQCQAAAIBBQiQAAAAABgmRAAAAABgkRAIAAABgkBAJAAAAgEFCJAAAAAAGCZEAAAAAGCREAgAAAGCQEAkAAACAQUIkAAAAAAYJkQAAAAAYJEQCAAAAYJAQCQAAAIBBQiQAAAAABgmRAAAAABgkRAIAAABgkBAJAAAAgEFCJAAAAAAGCZEAAAAAGCREAgAAAGDQgnEXAAAAMC5XHLPzuEuY1jZHXTjuElYZfQ6rLyORAAAAABgkRAIAAABgkBAJAAAAgEFCJAAAAAAGCZEAAAAAGDSnIVJVfaCqrqmqiya1bVpVX6qqS/vrTeayJgAAAACGzfVIpA8medyUtiOTnN5a2z7J6f19AAAAAOaROQ2RWmtnJbl+SvO+SU7sb5+Y5MlzWRMAAAAAw+bDnEhbttauTpL+eosx1wMAAADAFAvGXcBsVNUhSQ5Jkm222WbM1QAAAMD8d8UxO4+7hGltc9SF4y5hlVlT+3w+jET6eVXdN0n662tmWrG19t7W2qLW2qLNN998zgoEAAAAWNvNhxDpU0kO6G8fkOSTY6wFAAAAgGnMaYhUVR9Ock6SP6uqK6vqeUnemOSxVXVpksf29wEAAACYR+Z0TqTW2jNnWLTXXNYBAAAAwOzMh9PZAAAAAJjnhEgAAAAADBIiAQAAADBIiAQAAADAICESAAAAAIOESAAAAAAMEiIBAAAAMEiIBAAAAMAgIRIAAAAAg4RIAAAAAAwSIgEAAAAwSIgEAAAAwCAhEgAAAACDhEgAAAAADBIiAQAAADBIiAQAAADAICESAAAAAIOESAAAAAAMEiIBAAAAMEiIBAAAAMAgIRIAAAAAg4RIAAAAAAwSIgEAAAAwSIgEAAAAwCAhEgAAAACDhEgAAAAADBIiAQAAADBIiAQAAADAICESAAAAAIOESAAAAAAMEiIBAAAAMEiIBAAAAMAgIRIAAAAAg4RIAAAAAAwSIgEAAAAwSIgEAAAAwCAhEgAAAACDhEgAAAAADBIiAQAAADBIiAQAAADAICESAAAAAIOESAAAAAAMEiIBAAAAMEiIBAAAAMAgIRIAAAAAg4RIAAAAAAwSIgEAAAAwSIgEAAAAwCAhEgAAAACDhEgAAAAADBIiAQAAADBIiAQAAADAICESAAAAAIOESAAAAAAMEiIBAAAAMEiIBAAAAMAgIRIAAAAAg4RIAAAAAAwSIgEAAAAwSIgEAAAAwCAhEgAAAACDhEgAAAAADBIiAQAAADBIiAQAAADAICESAAAAAIOESAAAAAAMEiIBAAAAMEiIBAAAAMAgIRIAAAAAg4RIAAAAAAwSIgEAAAAwSIgEAAAAwCAhEgAAAACDhEgAAAAADBIiAQAAADBIiAQAAADAICESAAAAAIOESAAAAAAMEiIBAAAAMEiIBAAAAMAgIRIAAAAAg4RIAAAAAAwSIgEAAAAwSIgEAAAAwCAhEgAAAACDhEgAAAAADBIiAQAAADBIiAQAAADAICESAAAAAIOESAAAAAAMEiIBAAAAMEiIBAAAAMAgIRIAAAAAg4RIAAAAAAwSIgEAAAAwaN6ESFX1uKr6QVX9sKqOHHc9AAAAANxhXoRIVbVOkmOTPD7JjkmeWVU7jrcqAAAAACbMixApyYOT/LC1dllr7Q9JPpJk3zHXBAAAAEBvvoRI90/y00n3r+zbAAAAAJgHqrU27hpSVU9Lsk9r7eD+/v5JHtxae8mU9Q5Jckh/98+S/GBOCx2Neyf5xbiLWMvo87mnz+eePp97+nzu6fO5p8/nnj6fe/p87unzuafP597q3Od/3FrbfLoFC+a6khlcmWTrSfe3SvKzqSu11t6b5L1zVdSqUFXntdYWjbuOtYk+n3v6fO7p87mnz+eePp97+nzu6fO5p8/nnj6fe/p87q2pfT5fTmc7N8n2VbVtVd09yTOSfGrMNQEAAADQmxcjkVprt1bVYUm+kGSdJB9orX1vzGUBAAAA0JsXIVKStNY+l+Rz465jDqzWp+OtpvT53NPnc0+fzz19Pvf0+dzT53NPn889fT739Pnc0+dzb43s83kxsTYAAAAA89t8mRMJAAAAgHlMiLSSqmrrqjqjqi6uqu9V1eF9+6ZV9aWqurS/3mTSY15RVT+sqh9U1T6T2p9ZVRdW1Xer6vNVde9xPKf5bsR9/rd9f3+vqt40juezOphtn1fVZv36v6mqd03Z1u79cf7DqnpHVdU4ntN8N+I+/79V9dOq+s04nsvqYlR9XlUbVNVnq+qSfjtvHNdzmu9GfJx/vqq+02/n+KpaZxzPab4bZZ9P2uanquqiuXweq5MRH+dn9n/LLOkvW4zjOc13I+7zu1fVe6vqv/vP9f3G8ZzmuxH+G7rhpON7SVX9oqreNqanNa+N+Dj3PXQFjLjPV9vvoUKklXdrkpe11nZI8tAkL66qHZMcmeT01tr2SU7v76df9owkf5HkcUmOq6p1qmpBkrcneXRrbZck301y2Jw/m9XDqPp8syRvTrJXa+0vkmxZVXvN/dNZLcyqz5PcnORVSf5xmm29O8khSbbvL49bxbWvrkbZ559O8uBVX/Jqb5R9/pbW2p8neWCSParq8au8+tXTKPv86a21XZPslGTzJE9b1cWvpkbZ56mqpyQRUC/fSPs8ybNaa7v1l2tWce2rq1H2+SuTXNNae0CSHZN8dVUXv5oaSZ+31m6cdHzvluQnST4+R89hdTOSPvc9dFZG1eer9fdQIdJKaq1d3Vq7oL99Y5KLk9w/yb5JTuxXOzHJk/vb+yb5SGvt9621Hyf5Ybovd9Vf/qiqKslGSX42V89jdTLCPt8uyX+31q7t1/tyEv+7NI3Z9nlr7betta+n++Bcqqrum2Sj1to5rZuQ7aTc8Toxyaj6vF/2X621q+ei7tXZqPq8tXZTa+2M/vYfklyQZKu5eA6rmxEf57/uby5IcvckJn2cxij7vKrumeQfkrxu1Ve++hpln7NiRtznz03yhn6921trv1i11a+eVsVxXlXbJ9kiyddWXeWrrxH2ue+hK2iEfb5afw8VIo1QVS1M97/O30yy5cSXtv56Yrjx/ZP8dNLDrkxy/9baLUlemOTCdG/aHZO8f24qX32tTJ+nC5P+vKoW9gn8k5NsPTeVr75WsM9ncv90/T9h4rVgOVayz7kLRtXnVXWvJE9M979SLMco+ryqvpDkmiQ3Jjll1VS65hhBn782yb8kuWlV1bimGdFnywn9aT6v6r/wsRwr0+f9Z3iSvLaqLqiq/6iqLVdhuWuEEf7d8swkH+3/45HlWJk+9z30rlnJ43y1/h4qRBqR/n/jTk3y0kn/GzrtqtO0tapaN92b94FJ7pduGOErRl7oGmRl+7y19st0ff7RdP/DcXm6IYrMYBZ9PuMmpmnzh8FyjKDPmaVR9Xn/R8GHk7yjtXbZqOpbE42qz1tr+yS5b5J7JHnMiMpbI61sn1fVbkn+tLV22qhrW1ON6Dh/Vmtt5ySP6C/7j6q+NdEI+nxBupGkZ7fWHpTknCRvGWGJa5wR/93yjHT/jrIcI/g89z10lla2z1f376FCpBHo33inJjm5tTZxzu7P+1N3Jk7hmThn/crcOWXcKl3iu1uStNZ+1KftH0vyl6u++tXTiPo8rbVPt9Ye0lp7WJIfJLl0LupfHc2yz2dyZe58Ws/S14JljajPmYUR9/l7k1zaWnvbyAtdg4z6OG+t3ZzkU+mGljONEfX5w5LsXlWXJ/l6kgdU1ZmrpuLV36iO89baVf31jUk+FPPdzWhEfX5dupF2E2HpfyR50Cood40wys/zqto1yYLW2vmrpNg1xIj6fLfE99AVNcLP89X2e6gQaSX1w4jfn+Ti1tq/Tlr0qSQH9LcPSPLJSe3PqKp7VNW26SYW/laSq5LsWFWb9+s9Nt05lkwxwj5P9b9qUt0M+i9K8r5V/wxWP3ehz6fVD++8saoe2m/zOUOPWVuNqs9ZcaPs86p6XZKNk7x0xGWuUUbV51V1z0l/vC1I8oQkl4y+4tXfCD/P391au19rbWGSh6eb22HP0Ve8+hvhcb6g+l9M6r/E/HUSv4o3jREe5y3dj1Ps2TftleT7Iy12DbEK/m55ZoxCWq4R9rnvoStoxH8rrr7fQ1trLitxSfeHU0s37G9Jf3lCks3SzYFxaX+96aTHvDLJj9Iljo+f1H5oujfsd9P9g7XZuJ/ffLyMuM8/nO6Pge8neca4n9t8vdzFPr88yfXpfrXnyiQ79u2L0v3R+6Mk70pS435+8/Ey4j5/U3//9v766HE/v/l4GVWfpxth1/rP84ntHDzu5zcfLyPs8y2TnNtv53tJ3pnuf7DH/hzn22WUny2Tli9MctG4n9t8vYzwOP+jJOdPOs7fnmSdcT+/+XgZ5XGe5I+TnNVv6/Qk24z7+c3Hy6g/W5JcluTPx/285vNlxMe576Fz3+er7ffQ6p8AAAAAAMzI6WwAAAAADBIiAQAAADBIiAQAAADAICESAAAAAIOESAAAAAAMEiIBAGu1qjqwqs6vqhur6pdV9e2q+tdx1wUAMN9Ua23cNQAAjEVVvSLJa5O8KckZSdZLsnuSZ7fW/nSctQEAzDdCJABgrVVVVyX5RGvtxVPaq/kjCQDgTpzOBgCsze6V5H+mNk4NkKpqvap6U1X9tKp+X1XfqaonTFnnOVX19aq6vj8t7oyqWjRlnb+oqs/36/y2qi6uqqkB1mFVdWm/nx9W1d9PWX50Vf2iqh5YVf9VVTf1p+A9YmU7AwBgeYRIAMDa7IIkL6mqA6pqs+Wsd0qSA5O8PskTk5yb5FNVtdukdRYmOSnJ05L8XZIrk5xVVdtNWudTSW5L8uwkT0ryziQbTiysquf3bZ/q9/MfSf6lqo6cUs8GSU5M8p4k+yX5fZLTqmqDFXzeAACz5nQ2AGCtVVW7JPlEkm2TtCQXJzk1yVtaa7/u19kryZeT7Nla++qkx56V5OettadNs927pfvPuouSfKi1dkxV3TvJtUl2aa1dOMNjfprki621gya1H5fkWUm2bK3dXFVHJ3l1kr1aa1/p19ktybeTPL619vmV6hQAgBkYiQQArLVaa99NskO6UUHHJakkr0pyXlXds1/tr9Kd8nZ2VS2YuCQ5PcnS09WqaoeqOq2qfp5utNEtSf4syQP6Va5PFxIdX1V/W1VbTClnqyT3Szf6aLKPJtkoyc6T2m5Jcuak+9+ftA0AgFVCiAQArNVaa79vrX26tXZYa23HJAcn2T7J8/pV7p3kPumCm8mXo5NsnSRVtWGSL/b3/yHJI5IsTvKddL/4ltba7Un2ThdIfSDJ/1TV16rqgf1+7ttf/3xKiRP3N53U9ut+exPP4Q/9zfXuQhcAAKyQBeMuAABgPmmtvb+q3pTkz/um65NcleTJy3nYw9KNAnpsa+2Sicaq2njKti9Jsl9VrZsuaPrnJJ+tqq2SXN2vNnWE0paT6gAAGBsjkQCAtdY0p5SlqjZPsnHuGAF0erqRSL9prZ039dKvs35//ftJ2/nLdJNtL6O1dks/n9G/phuBdK90E3H/LN3E3JM9PcmvkywzjxIAwFwyEgkAWJtdWFWfTHcq2jVJ/jjJPya5Kd2vnyXJl5J8IcmXquqfk3wv3RxFuyVZr7X2iiT/leQ3Sf6tH8W0VbrT3a6a2FE/ifdb0s1xdFmSTZK8PMl3WmvX9+scneQ9VXVdv99HJXlhkv/TWrt5lfQAAMAKEiIBAGuzY5Lsm+Qd6eYc+p8k30jyt621HydJa61V1VOS/J8kL02yTbpTy5YkeWe/zs+r6mnpQqJPJrk0yaFJ/mnSvv4n3eimV6abQPuGJGekC5LSb+ffquoe/X4OTzc66WWttbeO+okDAMxWtdbGXQMAAAAA85w5kQAAAAAYJEQCAAAAYJAQCQAAAIBBQiQAAAAABgmRAAAAABgkRAIAAABgkBAJAAAAgEFCJAAAAAAGCZEAAAAAGPT/Ay9DGRY4G/5aAAAAAElFTkSuQmCC\n",
      "text/plain": [
       "<Figure size 1440x720 with 1 Axes>"
      ]
     },
     "metadata": {
      "needs_background": "light"
     },
     "output_type": "display_data"
    }
   ],
   "source": [
    "plt.figure(figsize=(20,10))\n",
    "sns.countplot(x='season', hue='toss_decision', data=df1)\n",
    "plt.title(\"Numbers of matches won by Toss result \",fontsize=20)\n",
    "plt.xlabel(\"Season\",fontsize=15)\n",
    "plt.ylabel(\"Count\",fontsize=15)\n",
    "plt.show()"
   ]
  },
  {
   "cell_type": "markdown",
   "metadata": {},
   "source": [
    "### From the above plot, it seems that during the initial years, teams wanted to bat first. From 2016 season, most of the toss decisions are to field first."
   ]
  },
  {
   "cell_type": "code",
   "execution_count": 30,
   "metadata": {},
   "outputs": [
    {
     "data": {
      "image/png": "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\n",
      "text/plain": [
       "<Figure size 720x720 with 1 Axes>"
      ]
     },
     "metadata": {},
     "output_type": "display_data"
    }
   ],
   "source": [
    "df1['win_by']=np.where(df1['win_by_runs']>0,'Bat first','Bowl first')\n",
    "Win = df1.win_by.value_counts()\n",
    "labels = np.array(Win.index)\n",
    "sizes = Win.values\n",
    "colors = ['orange', 'lightskyblue']\n",
    "plt.figure(figsize=(10,10))\n",
    "plt.pie(sizes, labels=labels, colors=colors, autopct='%1.1f%%', shadow=True, startangle=90)\n",
    "plt.title('Match Result',fontsize=20)\n",
    "plt.show()"
   ]
  },
  {
   "cell_type": "markdown",
   "metadata": {},
   "source": [
    "## Observation:"
   ]
  },
  {
   "cell_type": "markdown",
   "metadata": {},
   "source": [
    "Bowling first teams have proved to have won more than the batting first teams."
   ]
  },
  {
   "cell_type": "code",
   "execution_count": 31,
   "metadata": {},
   "outputs": [
    {
     "data": {
      "image/png": "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\n",
      "text/plain": [
       "<Figure size 1296x720 with 1 Axes>"
      ]
     },
     "metadata": {
      "needs_background": "light"
     },
     "output_type": "display_data"
    }
   ],
   "source": [
    "#Plotting the number of matches won by batting and bowling first teams:\n",
    "plt.figure(figsize = (18,10))\n",
    "sns.countplot('season',hue='win_by',data=df1,palette='hsv')\n",
    "plt.title(\"Numbers of matches won by batting and bowling first \",fontsize=20)\n",
    "plt.xlabel(\"Season\",fontsize=15)\n",
    "plt.ylabel(\"Count\",fontsize=15)\n",
    "plt.show()"
   ]
  },
  {
   "cell_type": "code",
   "execution_count": 32,
   "metadata": {},
   "outputs": [
    {
     "data": {
      "text/plain": [
       "city          winner               \n",
       "Bangalore     Kolkata Knight Riders    1\n",
       "              Sunrisers Hyderabad      1\n",
       "Chennai       Chennai Super Kings      1\n",
       "              Kolkata Knight Riders    1\n",
       "Hyderabad     Mumbai Indians           2\n",
       "Johannesburg  Deccan Chargers          1\n",
       "Kolkata       Mumbai Indians           2\n",
       "Mumbai        Chennai Super Kings      2\n",
       "              Rajasthan Royals         1\n",
       "dtype: int64"
      ]
     },
     "execution_count": 32,
     "metadata": {},
     "output_type": "execute_result"
    }
   ],
   "source": [
    "temp_df1.groupby(['city','winner']).size()"
   ]
  },
  {
   "cell_type": "code",
   "execution_count": 33,
   "metadata": {},
   "outputs": [
    {
     "data": {
      "text/plain": [
       "Mumbai Indians           4\n",
       "Chennai Super Kings      3\n",
       "Kolkata Knight Riders    2\n",
       "Rajasthan Royals         1\n",
       "Sunrisers Hyderabad      1\n",
       "Deccan Chargers          1\n",
       "Name: winner, dtype: int64"
      ]
     },
     "execution_count": 33,
     "metadata": {},
     "output_type": "execute_result"
    }
   ],
   "source": [
    "#Number of IPL titles won by each team:\n",
    "temp_df1[\"winner\"].value_counts()"
   ]
  },
  {
   "cell_type": "code",
   "execution_count": 34,
   "metadata": {},
   "outputs": [
    {
     "data": {
      "text/html": [
       "<div>\n",
       "<style scoped>\n",
       "    .dataframe tbody tr th:only-of-type {\n",
       "        vertical-align: middle;\n",
       "    }\n",
       "\n",
       "    .dataframe tbody tr th {\n",
       "        vertical-align: top;\n",
       "    }\n",
       "\n",
       "    .dataframe thead th {\n",
       "        text-align: right;\n",
       "    }\n",
       "</style>\n",
       "<table border=\"1\" class=\"dataframe\">\n",
       "  <thead>\n",
       "    <tr style=\"text-align: right;\">\n",
       "      <th></th>\n",
       "      <th>toss_winner</th>\n",
       "      <th>toss_decision</th>\n",
       "      <th>winner</th>\n",
       "    </tr>\n",
       "  </thead>\n",
       "  <tbody>\n",
       "    <tr>\n",
       "      <th>0</th>\n",
       "      <td>Mumbai Indians</td>\n",
       "      <td>bat</td>\n",
       "      <td>Mumbai Indians</td>\n",
       "    </tr>\n",
       "    <tr>\n",
       "      <th>1</th>\n",
       "      <td>Rajasthan Royals</td>\n",
       "      <td>field</td>\n",
       "      <td>Rajasthan Royals</td>\n",
       "    </tr>\n",
       "    <tr>\n",
       "      <th>2</th>\n",
       "      <td>Royal Challengers Bangalore</td>\n",
       "      <td>field</td>\n",
       "      <td>Deccan Chargers</td>\n",
       "    </tr>\n",
       "    <tr>\n",
       "      <th>3</th>\n",
       "      <td>Chennai Super Kings</td>\n",
       "      <td>bat</td>\n",
       "      <td>Chennai Super Kings</td>\n",
       "    </tr>\n",
       "    <tr>\n",
       "      <th>4</th>\n",
       "      <td>Chennai Super Kings</td>\n",
       "      <td>bat</td>\n",
       "      <td>Chennai Super Kings</td>\n",
       "    </tr>\n",
       "    <tr>\n",
       "      <th>5</th>\n",
       "      <td>Chennai Super Kings</td>\n",
       "      <td>bat</td>\n",
       "      <td>Kolkata Knight Riders</td>\n",
       "    </tr>\n",
       "    <tr>\n",
       "      <th>6</th>\n",
       "      <td>Mumbai Indians</td>\n",
       "      <td>bat</td>\n",
       "      <td>Mumbai Indians</td>\n",
       "    </tr>\n",
       "    <tr>\n",
       "      <th>7</th>\n",
       "      <td>Kolkata Knight Riders</td>\n",
       "      <td>field</td>\n",
       "      <td>Kolkata Knight Riders</td>\n",
       "    </tr>\n",
       "    <tr>\n",
       "      <th>8</th>\n",
       "      <td>Chennai Super Kings</td>\n",
       "      <td>field</td>\n",
       "      <td>Mumbai Indians</td>\n",
       "    </tr>\n",
       "    <tr>\n",
       "      <th>9</th>\n",
       "      <td>Sunrisers Hyderabad</td>\n",
       "      <td>bat</td>\n",
       "      <td>Sunrisers Hyderabad</td>\n",
       "    </tr>\n",
       "    <tr>\n",
       "      <th>10</th>\n",
       "      <td>Chennai Super Kings</td>\n",
       "      <td>field</td>\n",
       "      <td>Chennai Super Kings</td>\n",
       "    </tr>\n",
       "    <tr>\n",
       "      <th>11</th>\n",
       "      <td>Mumbai Indians</td>\n",
       "      <td>bat</td>\n",
       "      <td>Mumbai Indians</td>\n",
       "    </tr>\n",
       "  </tbody>\n",
       "</table>\n",
       "</div>"
      ],
      "text/plain": [
       "                    toss_winner toss_decision                 winner\n",
       "0                Mumbai Indians           bat         Mumbai Indians\n",
       "1              Rajasthan Royals         field       Rajasthan Royals\n",
       "2   Royal Challengers Bangalore         field        Deccan Chargers\n",
       "3           Chennai Super Kings           bat    Chennai Super Kings\n",
       "4           Chennai Super Kings           bat    Chennai Super Kings\n",
       "5           Chennai Super Kings           bat  Kolkata Knight Riders\n",
       "6                Mumbai Indians           bat         Mumbai Indians\n",
       "7         Kolkata Knight Riders         field  Kolkata Knight Riders\n",
       "8           Chennai Super Kings         field         Mumbai Indians\n",
       "9           Sunrisers Hyderabad           bat    Sunrisers Hyderabad\n",
       "10          Chennai Super Kings         field    Chennai Super Kings\n",
       "11               Mumbai Indians           bat         Mumbai Indians"
      ]
     },
     "execution_count": 34,
     "metadata": {},
     "output_type": "execute_result"
    }
   ],
   "source": [
    "#Details of the final match of each season:\n",
    "temp_df1[['toss_winner','toss_decision','winner']].reset_index(drop=True)"
   ]
  },
  {
   "cell_type": "code",
   "execution_count": 35,
   "metadata": {},
   "outputs": [
    {
     "data": {
      "text/html": [
       "<div>\n",
       "<style scoped>\n",
       "    .dataframe tbody tr th:only-of-type {\n",
       "        vertical-align: middle;\n",
       "    }\n",
       "\n",
       "    .dataframe tbody tr th {\n",
       "        vertical-align: top;\n",
       "    }\n",
       "\n",
       "    .dataframe thead th {\n",
       "        text-align: right;\n",
       "    }\n",
       "</style>\n",
       "<table border=\"1\" class=\"dataframe\">\n",
       "  <thead>\n",
       "    <tr style=\"text-align: right;\">\n",
       "      <th></th>\n",
       "      <th>winner</th>\n",
       "      <th>player_of_match</th>\n",
       "    </tr>\n",
       "  </thead>\n",
       "  <tbody>\n",
       "    <tr>\n",
       "      <th>0</th>\n",
       "      <td>Mumbai Indians</td>\n",
       "      <td>KH Pandya</td>\n",
       "    </tr>\n",
       "    <tr>\n",
       "      <th>1</th>\n",
       "      <td>Rajasthan Royals</td>\n",
       "      <td>YK Pathan</td>\n",
       "    </tr>\n",
       "    <tr>\n",
       "      <th>2</th>\n",
       "      <td>Deccan Chargers</td>\n",
       "      <td>A Kumble</td>\n",
       "    </tr>\n",
       "    <tr>\n",
       "      <th>3</th>\n",
       "      <td>Chennai Super Kings</td>\n",
       "      <td>SK Raina</td>\n",
       "    </tr>\n",
       "    <tr>\n",
       "      <th>4</th>\n",
       "      <td>Chennai Super Kings</td>\n",
       "      <td>M Vijay</td>\n",
       "    </tr>\n",
       "    <tr>\n",
       "      <th>5</th>\n",
       "      <td>Kolkata Knight Riders</td>\n",
       "      <td>MS Bisla</td>\n",
       "    </tr>\n",
       "    <tr>\n",
       "      <th>6</th>\n",
       "      <td>Mumbai Indians</td>\n",
       "      <td>KA Pollard</td>\n",
       "    </tr>\n",
       "    <tr>\n",
       "      <th>7</th>\n",
       "      <td>Kolkata Knight Riders</td>\n",
       "      <td>MK Pandey</td>\n",
       "    </tr>\n",
       "    <tr>\n",
       "      <th>8</th>\n",
       "      <td>Mumbai Indians</td>\n",
       "      <td>RG Sharma</td>\n",
       "    </tr>\n",
       "    <tr>\n",
       "      <th>9</th>\n",
       "      <td>Sunrisers Hyderabad</td>\n",
       "      <td>BCJ Cutting</td>\n",
       "    </tr>\n",
       "    <tr>\n",
       "      <th>10</th>\n",
       "      <td>Chennai Super Kings</td>\n",
       "      <td>SR Watson</td>\n",
       "    </tr>\n",
       "    <tr>\n",
       "      <th>11</th>\n",
       "      <td>Mumbai Indians</td>\n",
       "      <td>JJ Bumrah</td>\n",
       "    </tr>\n",
       "  </tbody>\n",
       "</table>\n",
       "</div>"
      ],
      "text/plain": [
       "                   winner player_of_match\n",
       "0          Mumbai Indians       KH Pandya\n",
       "1        Rajasthan Royals       YK Pathan\n",
       "2         Deccan Chargers        A Kumble\n",
       "3     Chennai Super Kings        SK Raina\n",
       "4     Chennai Super Kings         M Vijay\n",
       "5   Kolkata Knight Riders        MS Bisla\n",
       "6          Mumbai Indians      KA Pollard\n",
       "7   Kolkata Knight Riders       MK Pandey\n",
       "8          Mumbai Indians       RG Sharma\n",
       "9     Sunrisers Hyderabad     BCJ Cutting\n",
       "10    Chennai Super Kings       SR Watson\n",
       "11         Mumbai Indians       JJ Bumrah"
      ]
     },
     "execution_count": 35,
     "metadata": {},
     "output_type": "execute_result"
    }
   ],
   "source": [
    "#Player of the match in each season final:\n",
    "temp_df1[['winner','player_of_match']].reset_index(drop=True)"
   ]
  },
  {
   "cell_type": "code",
   "execution_count": 36,
   "metadata": {},
   "outputs": [
    {
     "data": {
      "text/html": [
       "<div>\n",
       "<style scoped>\n",
       "    .dataframe tbody tr th:only-of-type {\n",
       "        vertical-align: middle;\n",
       "    }\n",
       "\n",
       "    .dataframe tbody tr th {\n",
       "        vertical-align: top;\n",
       "    }\n",
       "\n",
       "    .dataframe thead th {\n",
       "        text-align: right;\n",
       "    }\n",
       "</style>\n",
       "<table border=\"1\" class=\"dataframe\">\n",
       "  <thead>\n",
       "    <tr style=\"text-align: right;\">\n",
       "      <th></th>\n",
       "      <th>runs by fours</th>\n",
       "      <th>fours</th>\n",
       "    </tr>\n",
       "    <tr>\n",
       "      <th>batting_team</th>\n",
       "      <th></th>\n",
       "      <th></th>\n",
       "    </tr>\n",
       "  </thead>\n",
       "  <tbody>\n",
       "    <tr>\n",
       "      <th>Chennai Super Kings</th>\n",
       "      <td>8772</td>\n",
       "      <td>2193</td>\n",
       "    </tr>\n",
       "    <tr>\n",
       "      <th>Deccan Chargers</th>\n",
       "      <td>3828</td>\n",
       "      <td>957</td>\n",
       "    </tr>\n",
       "    <tr>\n",
       "      <th>Delhi Capitals</th>\n",
       "      <td>968</td>\n",
       "      <td>242</td>\n",
       "    </tr>\n",
       "    <tr>\n",
       "      <th>Delhi Daredevils</th>\n",
       "      <td>8632</td>\n",
       "      <td>2158</td>\n",
       "    </tr>\n",
       "    <tr>\n",
       "      <th>Gujarat Lions</th>\n",
       "      <td>1840</td>\n",
       "      <td>460</td>\n",
       "    </tr>\n",
       "    <tr>\n",
       "      <th>Kings XI Punjab</th>\n",
       "      <td>9832</td>\n",
       "      <td>2458</td>\n",
       "    </tr>\n",
       "    <tr>\n",
       "      <th>Kochi Tuskers Kerala</th>\n",
       "      <td>680</td>\n",
       "      <td>170</td>\n",
       "    </tr>\n",
       "    <tr>\n",
       "      <th>Kolkata Knight Riders</th>\n",
       "      <td>9736</td>\n",
       "      <td>2434</td>\n",
       "    </tr>\n",
       "    <tr>\n",
       "      <th>Mumbai Indians</th>\n",
       "      <td>10352</td>\n",
       "      <td>2588</td>\n",
       "    </tr>\n",
       "    <tr>\n",
       "      <th>Pune Warriors</th>\n",
       "      <td>2100</td>\n",
       "      <td>525</td>\n",
       "    </tr>\n",
       "    <tr>\n",
       "      <th>Rajasthan Royals</th>\n",
       "      <td>8140</td>\n",
       "      <td>2035</td>\n",
       "    </tr>\n",
       "    <tr>\n",
       "      <th>Rising Pune Supergiant</th>\n",
       "      <td>788</td>\n",
       "      <td>197</td>\n",
       "    </tr>\n",
       "    <tr>\n",
       "      <th>Rising Pune Supergiants</th>\n",
       "      <td>684</td>\n",
       "      <td>171</td>\n",
       "    </tr>\n",
       "    <tr>\n",
       "      <th>Royal Challengers Bangalore</th>\n",
       "      <td>9440</td>\n",
       "      <td>2360</td>\n",
       "    </tr>\n",
       "    <tr>\n",
       "      <th>Sunrisers Hyderabad</th>\n",
       "      <td>5776</td>\n",
       "      <td>1444</td>\n",
       "    </tr>\n",
       "  </tbody>\n",
       "</table>\n",
       "</div>"
      ],
      "text/plain": [
       "                             runs by fours  fours\n",
       "batting_team                                     \n",
       "Chennai Super Kings                   8772   2193\n",
       "Deccan Chargers                       3828    957\n",
       "Delhi Capitals                         968    242\n",
       "Delhi Daredevils                      8632   2158\n",
       "Gujarat Lions                         1840    460\n",
       "Kings XI Punjab                       9832   2458\n",
       "Kochi Tuskers Kerala                   680    170\n",
       "Kolkata Knight Riders                 9736   2434\n",
       "Mumbai Indians                       10352   2588\n",
       "Pune Warriors                         2100    525\n",
       "Rajasthan Royals                      8140   2035\n",
       "Rising Pune Supergiant                 788    197\n",
       "Rising Pune Supergiants                684    171\n",
       "Royal Challengers Bangalore           9440   2360\n",
       "Sunrisers Hyderabad                   5776   1444"
      ]
     },
     "execution_count": 36,
     "metadata": {},
     "output_type": "execute_result"
    }
   ],
   "source": [
    "#Runs by fours for each team over the seasons:\n",
    "four_data=complete_data[complete_data['batsman_runs']==4]\n",
    "four_data.groupby('batting_team')['batsman_runs'].agg([('runs by fours','sum'),('fours','count')])"
   ]
  },
  {
   "cell_type": "code",
   "execution_count": 37,
   "metadata": {},
   "outputs": [
    {
     "data": {
      "image/png": "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\n",
      "text/plain": [
       "<Figure size 432x288 with 1 Axes>"
      ]
     },
     "metadata": {
      "needs_background": "light"
     },
     "output_type": "display_data"
    }
   ],
   "source": [
    "#Maximum number of fours hit by players:\n",
    "batsman_four=four_data.groupby('batsman')['batsman_runs'].agg([('four','count')]).reset_index().sort_values('four',ascending=0)\n",
    "batsman_four.iloc[:10,:].plot('batsman','four',kind='bar',color='black')\n",
    "plt.title(\"Numbers of Fours Hit By Players \",fontsize=20)\n",
    "plt.xticks(rotation=50)\n",
    "plt.xlabel(\"Player Name\",fontsize=15)\n",
    "plt.ylabel(\"No of Fours\",fontsize=15)\n",
    "plt.show()"
   ]
  },
  {
   "cell_type": "markdown",
   "metadata": {},
   "source": [
    "## Observation:"
   ]
  },
  {
   "cell_type": "markdown",
   "metadata": {},
   "source": [
    "S Dhawan has the highest number of fours hit in all seasons."
   ]
  },
  {
   "cell_type": "code",
   "execution_count": 38,
   "metadata": {},
   "outputs": [
    {
     "data": {
      "image/png": "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\n",
      "text/plain": [
       "<Figure size 432x288 with 1 Axes>"
      ]
     },
     "metadata": {
      "needs_background": "light"
     },
     "output_type": "display_data"
    }
   ],
   "source": [
    "#Number of fours hit in each season:\n",
    "ax=four_data.groupby('season')['batsman_runs'].agg([('four','count')]).reset_index().plot('season','four',kind='bar',color = 'red')\n",
    "plt.title(\"Numbers of fours hit in each season\",fontsize=20)\n",
    "plt.xticks(rotation=50)\n",
    "plt.xlabel(\"Season\",fontsize=15)\n",
    "plt.ylabel(\"No of Fours\",fontsize=15)\n",
    "plt.show()"
   ]
  },
  {
   "cell_type": "markdown",
   "metadata": {},
   "source": [
    "## Observation:"
   ]
  },
  {
   "cell_type": "markdown",
   "metadata": {},
   "source": [
    "The year 2013 has the highest number of fours hit."
   ]
  },
  {
   "cell_type": "code",
   "execution_count": 39,
   "metadata": {},
   "outputs": [
    {
     "data": {
      "text/html": [
       "<div>\n",
       "<style scoped>\n",
       "    .dataframe tbody tr th:only-of-type {\n",
       "        vertical-align: middle;\n",
       "    }\n",
       "\n",
       "    .dataframe tbody tr th {\n",
       "        vertical-align: top;\n",
       "    }\n",
       "\n",
       "    .dataframe thead th {\n",
       "        text-align: right;\n",
       "    }\n",
       "</style>\n",
       "<table border=\"1\" class=\"dataframe\">\n",
       "  <thead>\n",
       "    <tr style=\"text-align: right;\">\n",
       "      <th></th>\n",
       "      <th>runs by six</th>\n",
       "      <th>sixes</th>\n",
       "    </tr>\n",
       "    <tr>\n",
       "      <th>batting_team</th>\n",
       "      <th></th>\n",
       "      <th></th>\n",
       "    </tr>\n",
       "  </thead>\n",
       "  <tbody>\n",
       "    <tr>\n",
       "      <th>Chennai Super Kings</th>\n",
       "      <td>5838</td>\n",
       "      <td>973</td>\n",
       "    </tr>\n",
       "    <tr>\n",
       "      <th>Deccan Chargers</th>\n",
       "      <td>2400</td>\n",
       "      <td>400</td>\n",
       "    </tr>\n",
       "    <tr>\n",
       "      <th>Delhi Capitals</th>\n",
       "      <td>522</td>\n",
       "      <td>87</td>\n",
       "    </tr>\n",
       "    <tr>\n",
       "      <th>Delhi Daredevils</th>\n",
       "      <td>4806</td>\n",
       "      <td>801</td>\n",
       "    </tr>\n",
       "    <tr>\n",
       "      <th>Gujarat Lions</th>\n",
       "      <td>930</td>\n",
       "      <td>155</td>\n",
       "    </tr>\n",
       "    <tr>\n",
       "      <th>Kings XI Punjab</th>\n",
       "      <td>5856</td>\n",
       "      <td>976</td>\n",
       "    </tr>\n",
       "    <tr>\n",
       "      <th>Kochi Tuskers Kerala</th>\n",
       "      <td>318</td>\n",
       "      <td>53</td>\n",
       "    </tr>\n",
       "    <tr>\n",
       "      <th>Kolkata Knight Riders</th>\n",
       "      <td>5580</td>\n",
       "      <td>930</td>\n",
       "    </tr>\n",
       "    <tr>\n",
       "      <th>Mumbai Indians</th>\n",
       "      <td>6576</td>\n",
       "      <td>1096</td>\n",
       "    </tr>\n",
       "    <tr>\n",
       "      <th>Pune Warriors</th>\n",
       "      <td>1176</td>\n",
       "      <td>196</td>\n",
       "    </tr>\n",
       "    <tr>\n",
       "      <th>Rajasthan Royals</th>\n",
       "      <td>4086</td>\n",
       "      <td>681</td>\n",
       "    </tr>\n",
       "    <tr>\n",
       "      <th>Rising Pune Supergiant</th>\n",
       "      <td>534</td>\n",
       "      <td>89</td>\n",
       "    </tr>\n",
       "    <tr>\n",
       "      <th>Rising Pune Supergiants</th>\n",
       "      <td>408</td>\n",
       "      <td>68</td>\n",
       "    </tr>\n",
       "    <tr>\n",
       "      <th>Royal Challengers Bangalore</th>\n",
       "      <td>6792</td>\n",
       "      <td>1132</td>\n",
       "    </tr>\n",
       "    <tr>\n",
       "      <th>Sunrisers Hyderabad</th>\n",
       "      <td>3198</td>\n",
       "      <td>533</td>\n",
       "    </tr>\n",
       "  </tbody>\n",
       "</table>\n",
       "</div>"
      ],
      "text/plain": [
       "                             runs by six  sixes\n",
       "batting_team                                   \n",
       "Chennai Super Kings                 5838    973\n",
       "Deccan Chargers                     2400    400\n",
       "Delhi Capitals                       522     87\n",
       "Delhi Daredevils                    4806    801\n",
       "Gujarat Lions                        930    155\n",
       "Kings XI Punjab                     5856    976\n",
       "Kochi Tuskers Kerala                 318     53\n",
       "Kolkata Knight Riders               5580    930\n",
       "Mumbai Indians                      6576   1096\n",
       "Pune Warriors                       1176    196\n",
       "Rajasthan Royals                    4086    681\n",
       "Rising Pune Supergiant               534     89\n",
       "Rising Pune Supergiants              408     68\n",
       "Royal Challengers Bangalore         6792   1132\n",
       "Sunrisers Hyderabad                 3198    533"
      ]
     },
     "execution_count": 39,
     "metadata": {},
     "output_type": "execute_result"
    }
   ],
   "source": [
    "##Runs by sixes for each team over the seasons:\n",
    "six_data=complete_data[complete_data['batsman_runs']==6]\n",
    "six_data.groupby('batting_team')['batsman_runs'].agg([('runs by six','sum'),('sixes','count')])"
   ]
  },
  {
   "cell_type": "code",
   "execution_count": 40,
   "metadata": {},
   "outputs": [
    {
     "data": {
      "image/png": "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\n",
      "text/plain": [
       "<Figure size 432x288 with 1 Axes>"
      ]
     },
     "metadata": {
      "needs_background": "light"
     },
     "output_type": "display_data"
    }
   ],
   "source": [
    "#Count of sixes hit by individual batsmen in all of IPL:\n",
    "batsman_six=six_data.groupby('batsman')['batsman_runs'].agg([('six','count')]).reset_index().sort_values('six',ascending=0)\n",
    "batsman_six.iloc[:10,:].plot('batsman','six',kind='bar',color='green')\n",
    "plt.title(\"Numbers of Sixes Hit By Players \",fontsize=20)\n",
    "plt.xticks(rotation=50)\n",
    "plt.xlabel(\"Player name\",fontsize=15)\n",
    "plt.ylabel(\"No of Sixes\",fontsize=15)\n",
    "plt.show()"
   ]
  },
  {
   "cell_type": "markdown",
   "metadata": {},
   "source": [
    "## Observation:"
   ]
  },
  {
   "cell_type": "markdown",
   "metadata": {},
   "source": [
    "CH Gayle has the highest number of sixes hit in all seasons"
   ]
  },
  {
   "cell_type": "code",
   "execution_count": 41,
   "metadata": {},
   "outputs": [
    {
     "data": {
      "image/png": "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\n",
      "text/plain": [
       "<Figure size 432x288 with 1 Axes>"
      ]
     },
     "metadata": {
      "needs_background": "light"
     },
     "output_type": "display_data"
    }
   ],
   "source": [
    "#Count of sixes hit in each season:\n",
    "six_data.groupby('season')['batsman_runs'].agg([('six','count')]).reset_index().plot('season','six',kind='bar',color = 'blue')\n",
    "plt.title(\"Numbers of Sixes Hit in Each Season\",fontsize=20)\n",
    "plt.xticks(rotation=50)\n",
    "plt.xlabel(\"Season\",fontsize=15)\n",
    "plt.ylabel(\"No of Sixes\",fontsize=15)\n",
    "plt.show()"
   ]
  },
  {
   "cell_type": "markdown",
   "metadata": {},
   "source": [
    "## Observation: "
   ]
  },
  {
   "cell_type": "markdown",
   "metadata": {},
   "source": [
    "The year 2018 has the highest number of sixes hit."
   ]
  },
  {
   "cell_type": "code",
   "execution_count": 42,
   "metadata": {},
   "outputs": [
    {
     "name": "stdout",
     "output_type": "stream",
     "text": [
      "Top 10 Leading Run Scorers in IPL: \n"
     ]
    },
    {
     "data": {
      "text/html": [
       "<div>\n",
       "<style scoped>\n",
       "    .dataframe tbody tr th:only-of-type {\n",
       "        vertical-align: middle;\n",
       "    }\n",
       "\n",
       "    .dataframe tbody tr th {\n",
       "        vertical-align: top;\n",
       "    }\n",
       "\n",
       "    .dataframe thead th {\n",
       "        text-align: right;\n",
       "    }\n",
       "</style>\n",
       "<table border=\"1\" class=\"dataframe\">\n",
       "  <thead>\n",
       "    <tr style=\"text-align: right;\">\n",
       "      <th></th>\n",
       "      <th>batsman</th>\n",
       "      <th>batsman_runs</th>\n",
       "    </tr>\n",
       "  </thead>\n",
       "  <tbody>\n",
       "    <tr>\n",
       "      <th>0</th>\n",
       "      <td>V Kohli</td>\n",
       "      <td>5434</td>\n",
       "    </tr>\n",
       "    <tr>\n",
       "      <th>1</th>\n",
       "      <td>SK Raina</td>\n",
       "      <td>5415</td>\n",
       "    </tr>\n",
       "    <tr>\n",
       "      <th>2</th>\n",
       "      <td>RG Sharma</td>\n",
       "      <td>4914</td>\n",
       "    </tr>\n",
       "    <tr>\n",
       "      <th>3</th>\n",
       "      <td>DA Warner</td>\n",
       "      <td>4741</td>\n",
       "    </tr>\n",
       "    <tr>\n",
       "      <th>4</th>\n",
       "      <td>S Dhawan</td>\n",
       "      <td>4632</td>\n",
       "    </tr>\n",
       "    <tr>\n",
       "      <th>5</th>\n",
       "      <td>CH Gayle</td>\n",
       "      <td>4560</td>\n",
       "    </tr>\n",
       "    <tr>\n",
       "      <th>6</th>\n",
       "      <td>MS Dhoni</td>\n",
       "      <td>4477</td>\n",
       "    </tr>\n",
       "    <tr>\n",
       "      <th>7</th>\n",
       "      <td>RV Uthappa</td>\n",
       "      <td>4446</td>\n",
       "    </tr>\n",
       "    <tr>\n",
       "      <th>8</th>\n",
       "      <td>AB de Villiers</td>\n",
       "      <td>4428</td>\n",
       "    </tr>\n",
       "    <tr>\n",
       "      <th>9</th>\n",
       "      <td>G Gambhir</td>\n",
       "      <td>4223</td>\n",
       "    </tr>\n",
       "  </tbody>\n",
       "</table>\n",
       "</div>"
      ],
      "text/plain": [
       "          batsman  batsman_runs\n",
       "0         V Kohli          5434\n",
       "1        SK Raina          5415\n",
       "2       RG Sharma          4914\n",
       "3       DA Warner          4741\n",
       "4        S Dhawan          4632\n",
       "5        CH Gayle          4560\n",
       "6        MS Dhoni          4477\n",
       "7      RV Uthappa          4446\n",
       "8  AB de Villiers          4428\n",
       "9       G Gambhir          4223"
      ]
     },
     "execution_count": 42,
     "metadata": {},
     "output_type": "execute_result"
    }
   ],
   "source": [
    "batsman_score=df2.groupby('batsman')['batsman_runs'].agg(['sum']).reset_index().sort_values('sum',ascending=False).reset_index(drop=True)\n",
    "batsman_score=batsman_score.rename(columns={'sum':'batsman_runs'})\n",
    "print(\"Top 10 Leading Run Scorers in IPL: \")\n",
    "batsman_score.iloc[:10,:]"
   ]
  },
  {
   "cell_type": "code",
   "execution_count": 43,
   "metadata": {},
   "outputs": [],
   "source": [
    "def autolabel(rects):\n",
    "    for rect in rects:\n",
    "        height = rect.get_height()\n",
    "        ax.text(rect.get_x() + rect.get_width()/2., 1.02*height,\n",
    "                '%d' % int(height),\n",
    "                ha='center', va='bottom')"
   ]
  },
  {
   "cell_type": "code",
   "execution_count": 44,
   "metadata": {},
   "outputs": [
    {
     "data": {
      "image/png": "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\n",
      "text/plain": [
       "<Figure size 1080x576 with 1 Axes>"
      ]
     },
     "metadata": {
      "needs_background": "light"
     },
     "output_type": "display_data"
    }
   ],
   "source": [
    "#Top run scoring batsmen in IPL (all seasons):\n",
    "temp_df2 = df2.groupby('batsman')['batsman_runs'].agg('sum').reset_index().sort_values(by='batsman_runs', ascending=False).reset_index(drop=True)\n",
    "temp_df2 = temp_df2.iloc[:10,:]\n",
    "labels = np.array(temp_df2['batsman'])\n",
    "ind = np.arange(len(labels))\n",
    "width = 0.9\n",
    "fig, ax = plt.subplots(figsize=(15,8))\n",
    "rects = ax.bar(ind, np.array(temp_df2['batsman_runs']), width=width, color='blue')\n",
    "ax.set_xticks(ind+((width)/2.))\n",
    "ax.set_xticklabels(labels, rotation='vertical')\n",
    "ax.set_title(\"Top run scorers in IPL\", fontsize='20')\n",
    "ax.set_xlabel('Batsman Name', fontsize='15')\n",
    "ax.set_ylabel(\"Count\", fontsize='15')\n",
    "#autolabel(rects)\n",
    "plt.show()"
   ]
  },
  {
   "cell_type": "markdown",
   "metadata": {},
   "source": [
    "## Observation:"
   ]
  },
  {
   "cell_type": "markdown",
   "metadata": {},
   "source": [
    "V Kohli is the highest run scoring batsman in all of IPL."
   ]
  },
  {
   "cell_type": "code",
   "execution_count": 45,
   "metadata": {},
   "outputs": [
    {
     "data": {
      "image/png": "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\n",
      "text/plain": [
       "<Figure size 1080x576 with 1 Axes>"
      ]
     },
     "metadata": {
      "needs_background": "light"
     },
     "output_type": "display_data"
    }
   ],
   "source": [
    "# Batsmen with most number of dot balls:\n",
    "temp_df2 = df2.groupby('batsman')['batsman_runs'].agg(lambda x: (x==0).sum()).reset_index().sort_values(by='batsman_runs', ascending=False).reset_index(drop=True)\n",
    "temp_df2 = temp_df2.iloc[:10,:]\n",
    "labels = np.array(temp_df2['batsman'])\n",
    "ind = np.arange(len(labels))\n",
    "width = 0.9\n",
    "fig, ax = plt.subplots(figsize=(15,8))\n",
    "rects = ax.bar(ind, np.array(temp_df2['batsman_runs']), width=width, color='c')\n",
    "ax.set_xticks(ind+((width)/2.))\n",
    "ax.set_xticklabels(labels, rotation='vertical')\n",
    "ax.set_title(\"Batsman with most number of dot balls\", fontsize='20')\n",
    "ax.set_xlabel('Batsman Name', fontsize='15')\n",
    "ax.set_ylabel(\"Count\", fontsize='15')\n",
    "autolabel(rects)\n",
    "plt.show()"
   ]
  },
  {
   "cell_type": "code",
   "execution_count": 46,
   "metadata": {},
   "outputs": [
    {
     "data": {
      "text/html": [
       "<div>\n",
       "<style scoped>\n",
       "    .dataframe tbody tr th:only-of-type {\n",
       "        vertical-align: middle;\n",
       "    }\n",
       "\n",
       "    .dataframe tbody tr th {\n",
       "        vertical-align: top;\n",
       "    }\n",
       "\n",
       "    .dataframe thead th {\n",
       "        text-align: right;\n",
       "    }\n",
       "</style>\n",
       "<table border=\"1\" class=\"dataframe\">\n",
       "  <thead>\n",
       "    <tr style=\"text-align: right;\">\n",
       "      <th></th>\n",
       "      <th>batsman</th>\n",
       "      <th>No_of Matches</th>\n",
       "    </tr>\n",
       "  </thead>\n",
       "  <tbody>\n",
       "    <tr>\n",
       "      <th>0</th>\n",
       "      <td>SK Raina</td>\n",
       "      <td>162</td>\n",
       "    </tr>\n",
       "    <tr>\n",
       "      <th>1</th>\n",
       "      <td>RG Sharma</td>\n",
       "      <td>155</td>\n",
       "    </tr>\n",
       "    <tr>\n",
       "      <th>2</th>\n",
       "      <td>RV Uthappa</td>\n",
       "      <td>153</td>\n",
       "    </tr>\n",
       "    <tr>\n",
       "      <th>3</th>\n",
       "      <td>V Kohli</td>\n",
       "      <td>143</td>\n",
       "    </tr>\n",
       "    <tr>\n",
       "      <th>4</th>\n",
       "      <td>S Dhawan</td>\n",
       "      <td>137</td>\n",
       "    </tr>\n",
       "  </tbody>\n",
       "</table>\n",
       "</div>"
      ],
      "text/plain": [
       "      batsman  No_of Matches\n",
       "0    SK Raina            162\n",
       "1   RG Sharma            155\n",
       "2  RV Uthappa            153\n",
       "3     V Kohli            143\n",
       "4    S Dhawan            137"
      ]
     },
     "execution_count": 46,
     "metadata": {},
     "output_type": "execute_result"
    }
   ],
   "source": [
    "#Highest number of matches played by IPL batsmen:\n",
    "No_Matches_player = df2[[\"match_id\",\"player_dismissed\"]]\n",
    "No_Matches_player = No_Matches_player.groupby(\"player_dismissed\")[\"match_id\"].count().reset_index().sort_values(by=\"match_id\",ascending=False).reset_index(drop=True)\n",
    "No_Matches_player.columns=[\"batsman\",\"No_of Matches\"]\n",
    "No_Matches_player .head(5)"
   ]
  },
  {
   "cell_type": "code",
   "execution_count": 47,
   "metadata": {},
   "outputs": [
    {
     "data": {
      "image/png": "iVBORw0KGgoAAAANSUhEUgAABC4AAALCCAYAAAAReZJlAAAAOXRFWHRTb2Z0d2FyZQBNYXRwbG90bGliIHZlcnNpb24zLjMuMiwgaHR0cHM6Ly9tYXRwbG90bGliLm9yZy8vihELAAAACXBIWXMAAAsTAAALEwEAmpwYAABHHElEQVR4nO3debhkZ1kv7N9DAiQgQYYwBgh4kFEQEkIUkPFIQCCggHhQgqLhADKIA6DfkUGDIyqgoChDEFCDgICKApF5TpjCKGEKmAhhjgyBhOf7Y60mO53d3buT7r3e6n3f11VX1XrXUE91Xcmu+tU7VHcHAAAAYEQXW7oAAAAAgB0RXAAAAADDElwAAAAAwxJcAAAAAMMSXAAAAADDElwAAAAAwxJcAMCKqarXV9UQ65lX1e2qqqvqCUvXsr2qet5c26F7+LoPnK/7wD15XQBgfYILAFjA/MV37e3sqjqzqt5dVX9TVXepqv2WrpNlrAldHriD9rW3r1fVB6rq96vqchu5DgCskv2XLgAAtrgnzvf7Jfn+JDdK8nNJHpTkpKq6f3f/53bnPCDJpTatwp17Z5IbJPnC0oVsopcleXuSMxas4eVJ3js/vkqSuyd5TJJ7V9UR3f2lpQoDgD1NcAEAC+ruJ2zfVlVXTvL0JPdJ8tqqOry7P7/mnNM2r8Kd6+5vJPnI0nVspu7+apKvLlzGP3X387ZtVNWvJXlHkhsmeXjOC8QAYOUZKgIAg+nuzyW5X5LXJ7lGkt9cu3+9OS5qckxVvXUecvKtqvpMVf17Vf30dsd+ar59X1X96XzcN6vqvVV1z/mY/avqN6vqY/O1Pl5Vv7x9rTua46KqrlNVz6qqU+drf6mqTqmqv6yqK6w57hJV9Yh5iMyXq+obc20vr6o7bXfNe1bVC6rqP+fhEf9TVSfP52/4M01V3aOqTqyqM+YhOqdX1Ruq6qEbPH/dOS7W/Lteqqr+qKpOm69/alU9pqpqozXuru7+nyTHz5tH7K3nAYAl6HEBAAPq7u9W1e8muV2Sn6mqX+nunU3IeVySxyX5ZJITMvUIuGqSW2TqufEP2x1/8SSvSXL5TMMOLpHkZ5K8pKp+PMlDk9wyyauSnD1f4+lVdWZ3b3+t86mqqyZ5V5KDkvxrkpckOSDJtTMNg/nzJF+cD3/e/LwfSPL8JN9McrUkt05yVJLXrrn07yf5bqaeBf+V5LJJ7pDkqfPr/Lmd1TXXdmySv0ry30lemWmIy5WS3CTJzyd5xq6usQsXT/Lq+TW8Ksk5Se45135A9m5PiG3ByBATtwLAniK4AIBxvTnTF98rJTk0UyixIw/O9GX+xvPwje+pqiuuc/zVkrw7ye26++z5uL9N8sYkL07y8flaX5n3/UmmISGPzQVDkO3dO1Mg8qjufup2tVw6U/iQqrpspp4lJye5ZXefu92xV8j5/UR3f3y7Yy6W5LlJHlBVf97d79hFbQ9O8u0kN107/Ga+1nr/Trvraknel+R/d/c35+s+Mcl/JvmVqnpyd39nDzzP+VTV9yU5Zt7c1b8BAKwUQ0UAYFBzoLCtZ8LBGzjlO0nO3b6xu3c0ceajtoUW83FvyhSOXC7JY7aFFvO+TyR5S5If2o3VTr65Ti1f3/aFPlPPgMrUo+O76xz7xe22P77OMd/N1OMiSe68wbrOyfRvtf219tQEo49Y8xozByQvz9RD5Hp76DnuWVVPmG/PTPLRTJOkfjxTjxYA2GcILgBgbBvt/v/CTL0yPlhVv1dVR809GnbkK+sFAUlOn+9PXmfff2Va/eQqu6jlFUn+J8lfVNVLqurYqrrR9nM8dPfXMg3X+NEk762q366q21fVuiumVNUV5iU/3z/Pb9HzXB/bar36LupKpn+nS2X6d/rTed6MjYRCG/XV7j51nfbPzPeXW2ffhXF0ksfPt2MyDQ36oyRHdPeX99BzAMAQBBcAMKiqOiDTkIskOXMXh/9Kkkcl+Xqm4RyvSvKFeZLL/7XO8TtaFeOc5HsrZ6y7L9M8DjvU3Z/ONEHkS5PcKdOcEh9I8umqesR2h/90pnkfDpzv/yPJF6vqb2taXSVJUlXfn2nejMdk6snx/Ezzejwx5/W4uOTO6ppr+5NMX/RPS/KITEubfq6qXldVh+/q/A34yg7at/3bbbS3yq78fHfXfLtUd9+wu3/DMqgA7IsEFwAwrltnmo/qc939qZ0d2N3ndvdTu/umSa6c5KcyfSm/R5J/q6pdfqnfk7r7w93900mukOTwTGHKxZI8taoetOa4b3b3E7r7B5NcM8nPZprb42eT/OOaS/5ipsk9n9jdt+zuh3b3/zcvJ7urOTe2r+353X3kXNtPJHl2kh9L8u9VdaUL94oBgL1FcAEAA5onnfytefNFu3Nud3++u1/a3ffN1IPhB5LceA+XuNFazunuk7v7DzKtHpJMq2ysd+xnuvuFmeaq+FiSW6+ZoHNbr5GXrHPqbS9kbV/p7n/t7l/KtLrJ5ZPc5sJcCwDYewQXADCY+Vf/v8+0FOppSZ68i+MvWVV33H4Oiaq6eM4bavKNC565d1TVEWuHeayxre0b83EHV9Ut1znu0kkuk2l4xbfntk/N97fb7rlulmkZ2I3WdlRVrbeq2raeFpv27wQAbIzlUAFgQVX1hPnhxZJ8f5IbZRoicokk70xy/w2sdnFgktcm+VRVvSPJp5MckOR/Z1pp4hXd/eE9XvyO/Z8kD6uqNyQ5NcmXM/X6uHumFUT+bD7u6kneXlUfzrQ062eSHJTkbpkmAH1ad581H/v8JL+e5M+q6vaZemRcdz72pZnmytiIv0/yrap6c6YwpDL1srhFpkk+X3uhXvH4frGqbreDfS/q7ldvYi0AsFsEFwCwrMfP999Oclam0OH5mYZEvHpe7nNXvp5p0srbZ1qh457ztT6e5CFJnrNnS96lv8s0UeaPJrl5pmDlvzKFBk/p7g/Mx30q0+u/Xabar5jkS5mW9nzsfHySpLtPr6rbJPn9TMHOnZN8JMlDM4UNGw0uHjufe/Mkd03yrUz/5o9J8szuvsAyqfuIW8239bw3ieACgGFV965WVwMAAABYhjkuAAAAgGEJLgAAAIBhCS4AAACAYQkuAAAAgGEJLgAAAIBhbanlUK94xSv2oYceunQZAAAAwBonn3zyF7r74PX2bang4tBDD81JJ520dBkAAADAGlX16R3tM1QEAAAAGJbgAgAAABiW4AIAAAAYluACAAAAGJbgAgAAABiW4AIAAAAYluACAAAAGJbgAgAAABiW4AIAAAAYluACAAAAGJbgAgAAABiW4AIAAAAYluACAAAAGJbgAgAAABiW4AIAAAAYluACAAAAGJbgAgAAABiW4AIAAAAYluACAAAAGJbgAgAAABiW4AIAAAAYluACAAAAGJbgAgAAABiW4AIAAAAY1v5LFzCqw379+UuXsM87+Y8esHQJAAAADE6PCwAAAGBYggsAAABgWIILAAAAYFiCCwAAAGBYggsAAABgWIILAAAAYFiCCwAAAGBYggsAAABgWIILAAAAYFiCCwAAAGBYggsAAABgWIILAAAAYFiCCwAAAGBYggsAAABgWIILAAAAYFiCCwAAAGBYggsAAABgWIILAAAAYFiCCwAAAGBYggsAAABgWIILAAAAYFiCCwAAAGBYggsAAABgWIILAAAAYFiCCwAAAGBYggsAAABgWIILAAAAYFiCCwAAAGBYggsAAABgWJseXFTVp6rqlKp6b1WdNLddvqpeU1Ufm+8vt+b4x1XVqVX10aq685r2w+brnFpVT6uq2uzXAgAAAOxdS/W4uH13/3B3Hz5vPzbJid193SQnztupqhsmuV+SGyU5Kskzqmq/+ZxnJjk2yXXn21GbWD8AAACwCUYZKnJ0kuPnx8cnueea9r/v7rO7+5NJTk1yRFVdNclB3f227u4kz19zDgAAALCPWCK46CSvrqqTq+rYue3K3X1Gksz3V5rbr57kM2vO/ezcdvX58fbtF1BVx1bVSVV10plnnrkHXwYAAACwt+2/wHPeqrtPr6orJXlNVX1kJ8euN29F76T9go3dz0ryrCQ5/PDD1z0GAAAAGNOm97jo7tPn+88neVmSI5J8bh7+kfn+8/Phn01yjTWnH5Lk9Ln9kHXaAQAAgH3IpgYXVXXpqrrMtsdJfjzJB5K8Iskx82HHJHn5/PgVSe5XVZesqmtnmoTznfNwkrOq6sh5NZEHrDkHAAAA2Eds9lCRKyd52bxy6f5JXtTd/1ZV70pyQlU9KMlpSe6TJN39wao6IcmHkpyT5GHdfe58rYckeV6SA5O8ar4BAAAA+5BNDS66+xNJbrpO+xeT3HEH5xyX5Lh12k9KcuM9XSMAAAAwjlGWQwUAAAC4AMEFAAAAMCzBBQAAADAswQUAAAAwLMEFAAAAMCzBBQAAADAswQUAAAAwLMEFAAAAMCzBBQAAADAswQUAAAAwLMEFAAAAMCzBBQAAADAswQUAAAAwLMEFAAAAMCzBBQAAADAswQUAAAAwLMEFAAAAMCzBBQAAADAswQUAAAAwLMEFAAAAMCzBBQAAADAswQUAAAAwLMEFAAAAMCzBBQAAADAswQUAAAAwLMEFAAAAMCzBBQAAADAswQUAAAAwLMEFAAAAMCzBBQAAADAswQUAAAAwLMEFAAAAMCzBBQAAADAswQUAAAAwLMEFAAAAMCzBBQAAADAswQUAAAAwLMEFAAAAMCzBBQAAADAswQUAAAAwLMEFAAAAMCzBBQAAADAswQUAAAAwLMEFAAAAMCzBBQAAADAswQUAAAAwLMEFAAAAMCzBBQAAADAswQUAAAAwLMEFAAAAMCzBBQAAADAswQUAAAAwLMEFAAAAMCzBBQAAADAswQUAAAAwLMEFAAAAMCzBBQAAADAswQUAAAAwLMEFAAAAMCzBBQAAADAswQUAAAAwLMEFAAAAMCzBBQAAADAswQUAAAAwLMEFAAAAMCzBBQAAADAswQUAAAAwLMEFAAAAMCzBBQAAADAswQUAAAAwLMEFAAAAMCzBBQAAADAswQUAAAAwLMEFAAAAMCzBBQAAADAswQUAAAAwLMEFAAAAMCzBBQAAADAswQUAAAAwLMEFAAAAMCzBBQAAADAswQUAAAAwLMEFAAAAMCzBBQAAADAswQUAAAAwLMEFAAAAMCzBBQAAADAswQUAAAAwrEWCi6rar6reU1X/PG9fvqpeU1Ufm+8vt+bYx1XVqVX10aq685r2w6rqlHnf06qqlngtAAAAwN6zVI+LRyb58JrtxyY5sbuvm+TEeTtVdcMk90tyoyRHJXlGVe03n/PMJMcmue58O2pzSgcAAAA2y6YHF1V1SJKfSPI3a5qPTnL8/Pj4JPdc0/733X12d38yyalJjqiqqyY5qLvf1t2d5PlrzgEAAAD2EUv0uPizJL+R5Ltr2q7c3WckyXx/pbn96kk+s+a4z85tV58fb99+AVV1bFWdVFUnnXnmmXvkBQAAAACbY1ODi6q6W5LPd/fJGz1lnbbeSfsFG7uf1d2Hd/fhBx988AafFgAAABjB/pv8fLdKco+qumuSA5IcVFUvSPK5qrpqd58xDwP5/Hz8Z5NcY835hyQ5fW4/ZJ12AAAAYB+yqT0uuvtx3X1Idx+aadLN/+jun03yiiTHzIcdk+Tl8+NXJLlfVV2yqq6daRLOd87DSc6qqiPn1UQesOYcAAAAYB+x2T0uduT3k5xQVQ9KclqS+yRJd3+wqk5I8qEk5yR5WHefO5/zkCTPS3JgklfNNwAAAGAfslhw0d2vT/L6+fEXk9xxB8cdl+S4ddpPSnLjvVchAAAAsLQlVhUBAAAA2BDBBQAAADAswQUAAAAwLMEFAAAAMCzBBQAAADAswQUAAAAwLMEFAAAAMCzBBQAAADAswQUAAAAwLMEFAAAAMCzBBQAAADAswQUAAAAwLMEFAAAAMCzBBQAAADAswQUAAAAwLMEFAAAAMCzBBQAAADAswQUAAAAwLMEFAAAAMCzBBQAAADAswQUAAAAwLMEFAAAAMCzBBQAAADAswQUAAAAwLMEFAAAAMCzBBQAAADAswQUAAAAwLMEFAAAAMCzBBQAAADAswQUAAAAwLMEFAAAAMCzBBQAAADAswQUAAAAwLMEFAAAAMCzBBQAAADAswQUAAAAwLMEFAAAAMCzBBQAAADAswQUAAAAwLMEFAAAAMCzBBQAAADAswQUAAAAwLMEFAAAAMCzBBQAAADAswQUAAAAwLMEFAAAAMCzBBQAAADAswQUAAAAwLMEFAAAAMCzBBQAAADAswQUAAAAwLMEFAAAAMCzBBQAAADAswQUAAAAwLMEFAAAAMCzBBQAAADAswQUAAAAwLMEFAAAAMCzBBQAAADAswQUAAAAwLMEFAAAAMCzBBQAAADAswQUAAAAwLMEFAAAAMCzBBQAAADAswQUAAAAwLMEFAAAAMCzBBQAAADAswQUAAAAwLMEFAAAAMCzBBQAAADAswQUAAAAwLMEFAAAAMCzBBQAAADAswQUAAAAwLMEFAAAAMCzBBQAAADAswQUAAAAwLMEFAAAAMCzBBQAAADAswQUAAAAwLMEFAAAAMCzBBQAAADAswQUAAAAwLMEFAAAAMCzBBQAAADAswQUAAAAwrE0NLqrqgKp6Z1W9r6o+WFVPnNsvX1WvqaqPzfeXW3PO46rq1Kr6aFXdeU37YVV1yrzvaVVVm/laAAAAgL1vs3tcnJ3kDt190yQ/nOSoqjoyyWOTnNjd101y4rydqrphkvsluVGSo5I8o6r2m6/1zCTHJrnufDtqE18HAAAAsAk2HFxU1QOq6go72Hf5qnrArq7Rk/+ZNy8+3zrJ0UmOn9uPT3LP+fHRSf6+u8/u7k8mOTXJEVV11SQHdffburuTPH/NOQAAAMA+Ynd6XDw3yQ/sYN+15/27VFX7VdV7k3w+yWu6+x1JrtzdZyTJfH+l+fCrJ/nMmtM/O7ddfX68fTsAAACwD9md4GJnc0hcIcnXNnKR7j63u384ySGZek/ceDefs3fSfsELVB1bVSdV1UlnnnnmRkoEAAAABrH/znZW1dGZhmts8/+qavtv/wckuU2Sd+3OE3f3V6rq9ZnmpvhcVV21u8+Yh4F8fj7ss0musea0Q5KcPrcfsk77es/zrCTPSpLDDz983XADAAAAGNOuelxcKckPzbdkGiryQ9vdrpXk1UkevKsnq6qDq+r758cHJrlTko8keUWSY+bDjkny8vnxK5Lcr6ouWVXXzjQJ5zvn4SRnVdWR82oiD1hzDgAAALCP2GmPi+7+6yR/nSRV9bokD+nuj1yE57tqkuPnlUEuluSE7v7nqnpbkhOq6kFJTktyn/n5P1hVJyT5UJJzkjysu8+dr/WQJM9LcmCSV803AAAAYB+y0+Bire6+/UV9su5+f5KbrdP+xSR33ME5xyU5bp32k5LsbH4MAAAAYMVtOLhIkqq6WpK7ZZpT4oDtdnd3P2ZPFQYAAACw4eCiqu6V5O+S7Jdp8sxvb3dIJxFcAAAAAHvM7vS4eHKmSTgf2N1f2kv1AAAAAHzP7gQX10jycKEFAAAAsFl2tRzqWm9Ncr29VQgAAADA9nanx8Wjk7ywqv4nyWuSfGX7A7r7G3uoLgAAAIDdCi7eP98/N9NEnOvZ76KVAwAAAHCe3QkufiE7DiwAAAAA9rgNBxfd/by9WAcAAADABezO5JwAAAAAm2rDPS6q6szsYqhId1/pIlcEAAAAMNudOS7+IhcMLi6f5A5JDkry7D1VFAAAAECye3NcPGG99qqqJCckOWcP1QQAAACQZA/McdHdneRvkvzyRS8HAAAA4Dx7anLO6yS5xB66FgAAAECS3Zuc86HrNF8iyQ2S3D/Ji/dUUQAAAADJ7k3O+efrtJ2d5LNJnpHkiXukIgAAAIDZ7kzOuaeGlQAAAABsiDACAAAAGNZuBRdVdZ2qemZVnVJV/zXfP6OqrrO3CgQAAAC2rt2ZnPOwJK9L8q0k/5zkc0munOSnkty/qm7f3e/eK1UCAAAAW9LuTM75x0nek+Qu3f2NbY1Vdakk/zrvv8OeLQ8AAADYynZnqMgRSf5wbWiRJPP2Hye55Z4sDAAAAGB3gotvJrnCDvZdPtMQEgAAAIA9ZneCi39J8vtVdeu1jfP27yV55Z4sDAAAAGB35rh4dJKXJ3lDVZ2ZaXLOK2WaoPMtSX51z5cHAAAAbGUbDi66+4tJbl1VRyW5RZKrJjkjyTu6+9V7qT4AAABgC9vpUJGqukJVvaSq7rytrbv/rbt/p7sf2t2/Mx1WL6mqK+31agEAAIAtZVdzXDwqyXWS7KxHxauTXDuGigAAAAB72K6Ci/sm+cvu7h0dMO/7qyRH78nCAAAAAHYVXFwryYc2cJ0PJzn0IlcDAAAAsMaugotvJjloA9f5vvlYAAAAgD1mV8HFu5PcYwPXOXo+FgAAAGCP2VVw8RdJHlRVx+zogKp6QJKfT/Lne7IwAAAAgP13trO7X1pVT03y3Kr65ST/luS0JJ3kmknunOTwJH/a3S/b28UCAAAAW8tOg4sk6e5frarXZ1oa9deSXHLedXaStyQ5urv/eW8VCAAAAGxduwwukqS7X5nklVW1f5IrzM1f7O5z9lplAAAAwJa3oeBimzmo+NxeqgUAAADgfHY1OScAAADAYgQXAAAAwLAEFwAAAMCwBBcAAADAsAQXAAAAwLAEFwAAAMCwBBcAAADAsAQXAAAAwLAEFwAAAMCwBBcAAADAsAQXAAAAwLAEFwAAAMCwBBcAAADAsAQXAAAAwLAEFwAAAMCwBBcAAADAsAQXAAAAwLAEFwAAAMCwBBcAAADAsAQXAAAAwLAEFwAAAMCwBBcAAADAsAQXAAAAwLAEFwAAAMCwBBcAAADAsAQXAAAAwLAEFwAAAMCwBBcAAADAsAQXAAAAwLAEFwAAAMCwBBcAAADAsAQXAAAAwLAEFwAAAMCwBBcAAADAsAQXAAAAwLAEFwAAAMCwBBcAAADAsAQXAAAAwLAEFwAAAMCwBBcAAADAsAQXAAAAwLAEFwAAAMCwBBcAAADAsAQXAAAAwLAEFwAAAMCwBBcAAADAsAQXAAAAwLAEFwAAAMCwBBcAAADAsAQXAAAAwLA2NbioqmtU1euq6sNV9cGqeuTcfvmqek1VfWy+v9yacx5XVadW1Uer6s5r2g+rqlPmfU+rqtrM1wIAAADsfZvd4+KcJL/a3TdIcmSSh1XVDZM8NsmJ3X3dJCfO25n33S/JjZIcleQZVbXffK1nJjk2yXXn21Gb+UIAAACAvW9Tg4vuPqO73z0/PivJh5NcPcnRSY6fDzs+yT3nx0cn+fvuPru7P5nk1CRHVNVVkxzU3W/r7k7y/DXnAAAAAPuIxea4qKpDk9wsyTuSXLm7z0imcCPJlebDrp7kM2tO++zcdvX58fbtAAAAwD5kkeCiqr4vyUuSPKq7v7azQ9dp6520r/dcx1bVSVV10plnnrn7xQIAAACL2fTgoqounim0eGF3v3Ru/tw8/CPz/efn9s8mucaa0w9Jcvrcfsg67RfQ3c/q7sO7+/CDDz54z70QAAAAYK/b7FVFKsmzk3y4u/9kza5XJDlmfnxMkpevab9fVV2yqq6daRLOd87DSc6qqiPnaz5gzTkAAADAPmL/TX6+WyX5uSSnVNV757bfTPL7SU6oqgclOS3JfZKkuz9YVSck+VCmFUke1t3nzuc9JMnzkhyY5FXzDQAAANiHbGpw0d1vzvrzUyTJHXdwznFJjlun/aQkN95z1QEAAACjWWxVEQAAAIBdEVwAAAAAwxJcAAAAAMMSXAAAAADDElwAAAAAwxJcAAAAAMMSXAAAAADDElwAAAAAwxJcAAAAAMMSXAAAAADDElwAAAAAwxJcAAAAAMMSXAAAAADDElwAAAAAwxJcAAAAAMMSXAAAAADDElwAAAAAwxJcAAAAAMMSXAAAAADDElwAAAAAwxJcAAAAAMMSXAAAAADDElwAAAAAwxJcAAAAAMMSXAAAAADDElwAAAAAwxJcAAAAAMMSXAAAAADDElwAAAAAwxJcAAAAAMMSXAAAAADDElwAAAAAwxJcAAAAAMMSXAAAAADDElwAAAAAw9p/6QJgTzvtST+0dAlbwjV/+5SlSwAAALYAPS4AAACAYQkuAAAAgGEJLgAAAIBhCS4AAACAYQkuAAAAgGEJLgAAAIBhCS4AAACAYQkuAAAAgGEJLgAAAIBhCS4AAACAYQkuAAAAgGEJLgAAAIBhCS4AAACAYQkuAAAAgGEJLgAAAIBhCS4AAACAYQkuAAAAgGEJLgAAAIBhCS4AAACAYQkuAAAAgGEJLgAAAIBhCS4AAACAYQkuAAAAgGEJLgAAAIBhCS4AAACAYQkuAAAAgGEJLgAAAIBhCS4AAACAYQkuAAAAgGEJLgAAAIBhCS4AAACAYQkuAAAAgGEJLgAAAIBhCS4AAACAYQkuAAAAgGEJLgAAAIBhCS4AAACAYQkuAAAAgGEJLgAAAIBhCS4AAACAYQkuAAAAgGEJLgAAAIBhCS4AAACAYQkuAAAAgGEJLgAAAIBhCS4AAACAYQkuAAAAgGEJLgAAAIBhCS4AAACAYQkuAAAAgGEJLgAAAIBhCS4AAACAYW1qcFFVz6mqz1fVB9a0Xb6qXlNVH5vvL7dm3+Oq6tSq+mhV3XlN+2FVdcq872lVVZv5OgAAAIDNsdk9Lp6X5Kjt2h6b5MTuvm6SE+ftVNUNk9wvyY3mc55RVfvN5zwzybFJrjvftr8mAAAAsA/Y1OCiu9+Y5EvbNR+d5Pj58fFJ7rmm/e+7++zu/mSSU5McUVVXTXJQd7+tuzvJ89ecAwAAAOxDRpjj4srdfUaSzPdXmtuvnuQza4777Nx29fnx9u0AAADAPmaE4GJH1pu3onfSvv5Fqo6tqpOq6qQzzzxzjxUHAAAA7H0jBBefm4d/ZL7//Nz+2STXWHPcIUlOn9sPWad9Xd39rO4+vLsPP/jgg/do4QAAAMDeNUJw8Yokx8yPj0ny8jXt96uqS1bVtTNNwvnOeTjJWVV15LyayAPWnAMAAADsQ/bfzCerqr9LcrskV6yqzyZ5fJLfT3JCVT0oyWlJ7pMk3f3BqjohyYeSnJPkYd197nyph2RaoeTAJK+abwAAAMA+ZlODi+7+mR3suuMOjj8uyXHrtJ+U5MZ7sDQAAABgQCMMFQEAAABYl+ACAAAAGJbgAgAAABiW4AIAAAAYluACAAAAGJbgAgAAABiW4AIAAAAYluACAAAAGJbgAgAAABjW/ksXALDWrZ5+q6VL2Oe95eFvWboEAADYMD0uAAAAgGEJLgAAAIBhCS4AAACAYQkuAAAAgGEJLgAAAIBhCS4AAACAYQkuAAAAgGEJLgAAAIBhCS4AAACAYQkuAAAAgGEJLgAAAIBhCS4AAACAYQkuAAAAgGEJLgAAAIBhCS4AAACAYQkuAAAAgGEJLgAAAIBhCS4AAACAYQkuAAAAgGEJLgAAAIBhCS4AAACAYQkuAAAAgGEJLgAAAIBhCS4AAACAYQkuAAAAgGEJLgAAAIBhCS4AAACAYQkuAAAAgGEJLgAAAIBh7b90AQDsO97wY7dduoR93m3f+IalSwAA2FR6XAAAAADDElwAAAAAwxJcAAAAAMMSXAAAAADDElwAAAAAwxJcAAAAAMMSXAAAAADDElwAAAAAwxJcAAAAAMMSXAAAAADDElwAAAAAwxJcAAAAAMMSXAAAAADDElwAAAAAwxJcAAAAAMMSXAAAAADDElwAAAAAwxJcAAAAAMMSXAAAAADDElwAAAAAwxJcAAAAAMMSXAAAAADDElwAAAAAwxJcAAAAAMMSXAAAAADD2n/pAgAAuGiO+9l7L13CPu+3XvCPS5cAsGXpcQEAAAAMS3ABAAAADEtwAQAAAAxLcAEAAAAMS3ABAAAADMuqIgBA/vxXX7l0CVvCLz/l7kuXAAArR48LAAAAYFiCCwAAAGBYggsAAABgWIILAAAAYFiCCwAAAGBYggsAAABgWIILAAAAYFiCCwAAAGBYggsAAABgWIILAAAAYFiCCwAAAGBYggsAAABgWIILAAAAYFiCCwAAAGBYggsAAABgWIILAAAAYFgrHVxU1VFV9dGqOrWqHrt0PQAAAMCetbLBRVXtl+QvktwlyQ2T/ExV3XDZqgAAAIA9af+lC7gIjkhyand/Ikmq6u+THJ3kQ4tWBQAAG/Th4/5j6RK2hBv81h32ynWf8IQn7JXrch7/xiRJdffSNVwoVXXvJEd19y/O2z+X5Jbd/cvbHXdskmPnzesl+eimFrq5rpjkC0sXwYXivVtt3r/V5b1bbd6/1eb9W13eu9Xm/Vtd+/p7d63uPni9Havc46LWabtACtPdz0ryrL1fzvKq6qTuPnzpOth93rvV5v1bXd671eb9W23ev9XlvVtt3r/VtZXfu5Wd4yLJZ5NcY832IUlOX6gWAAAAYC9Y5eDiXUmuW1XXrqpLJLlfklcsXBMAAACwB63sUJHuPqeqfjnJvyfZL8lzuvuDC5e1tC0xJGYf5b1bbd6/1eW9W23ev9Xm/Vtd3rvV5v1bXVv2vVvZyTkBAACAfd8qDxUBAAAA9nGCCwAAAGBYgguA3VRVl9xIGwAAcNGt7OScJFV1n+5+8a7agD3ubUluvoE2YA+oqqcn2eGkXN39iE0sB7acqvrb7v65XbUxpqo6sbvvuKs2xlFVj97Z/u7+k82qZRSCi9X2uCTbhxTrtQF7QFVdJcnVkxxYVTdLUvOug5JcarHC2C1V9aYkb0zypiRv6e6zFi6JXTtpvr9Vkhsm+Yd5+z5JTl6kIthabrR2o6r2S3LYQrWwQVV1QKbPJ1esqsvl/J9brrZYYWzEZeb76yW5RZJXzNt3z/QZZsuxqsgKqqq7JLlrkvvmvA9vyfQ/oRt29xGLFMaGVNUp2fkvhzfZxHLYDVV1TJIHJjk8532RSpKzkjyvu1+6RF3snqq6TpJbJ7lNkiOTnJ3kTd39K4sWxi5V1euS/Hh3f2fevniSV3f37ZetjJ2pqrOy8797B21iOeyGqnpckt9McmCSb2xrTvLtJM/q7sctVRu7VlWPTPKoTCHF6Wt2fS3JX3f3ny9RFxtXVa9O8lPbfmSpqsskeXF3H7VsZZtPj4vVdHqmL033yPl/aToriQ/e47vbfP+w+f5v5/v757wPBQyou49PcnxV/VR3v2TperhwuvsTVfXNTB+8v53k9klusGxVbNDVMv0K9aV5+/viV8PhdfdlkqSqnpTkvzP93atMf/cus5NTWVh3/15V/UGSv+nuX1i6HnZPdz81yVOr6uHd/fSl6+FCuWamzyrbfDvJocuUsiw9LlZYVV18269OrJ6qekt332pXbYynqh6fdX497O4nLVAOu6mqPp7kC0lelGm4yHu7+7vLVsVGVNXPJ3lCktfNTbdN8oQ5VGRwVfWO7r7lrtoYT1Wd3N2Ghqyoqrp0ph83r9ndx1bVdZNcr7v/eeHS2IWq+q1Mvexflumz572SnNDdT160sAVYVWS1HVFVr6mq/6yqT1TVJ6vqE0sXxYZduqpuvW2jqn40yaUXrIeN+58kX59v5ya5S7Zo+r2inpbktCQ/k+QRSY6pqh9YtiQ2orufm+SWmT7AvSzJjwgtVsq5VXX/qtqvqi5WVffP9P9Qxvf2qrrF0kVwoT0n0y/1PzpvfzbJ7y5XDhvV3ccl+fkkX07ylSQ/vxVDi0SPi5VWVR/JlJ6enDV/+Lv7i4sVxYZV1WGZ/pBcNlOC+tUkv9Dd7160MHbbvBTqK7r7zkvXwsZV1fdl+jDwa0kO6e79Fi6JXaiqbcMLrtPdT6qqaya5Sne/c+HS2ICqOjTJUzNNstpJ3pLkUd39qQXLYgOq6kNJfjDJpzOF9pWkzcu1GqrqpO4+vKre0903m9ve1903Xbo21ldVl9/Z/u7+0s7274vMcbHavtrdr1q6CC6c7j45yU2r6qBMIeJXl66JC+1SSa6zdBFsTFU9JdPknN+X5O1JfjvTkBHG94wk301yhyRPyjS300syzbjO4OaA4uil6+BCucvSBXCRfLuqDsw8zHXuZXj2siWxCydner9qTdu27c4W/NwpuFhBVXXz+eHrquqPkrw0a/7n4xf71VBVV07y5CRX6+67VNUNM3V7fvbCpbEL260Ms1+SgzN9iWI1vD3JH3b355YuhN12y+6+eVW9J0m6+8tVdYmli2JjquoHkzwzyZW7+8ZVdZMk9+huXdbHp4v2ant8kn9Lco2qemGmXk8PXLQidqq7r710DaMxVGQFzcvB7Uh39x02rRgutKp6VZLnJvmt7r5pVe2f5D3d/UMLl8YuVNW11myek+Rz3X3OUvWw+6rqJzP1uugkb+7uly1cEhtQVe/INEb7XXOAcXCm5VBvtnBpbEBVvSHJryf5qzXd1T/Q3TdetjJ2ZU1gX0kOSHLtJB/t7hstWhgbMg87qExLgFemAP8y3f3JRQtjl9YMkbx2d//OVh4iqcfFCrJe/T7jit19wrxGerr7nKoySdkK6O5PV9VNk9xmbnpjkvcvWBK7oaqekeR/Jfm7uenBVXWn7n7YTk5jDE/LNCnnlarquCT3TvL/LVsSu+FS3f3O6XP49wh9V8D2P6rMvX8fvFA57L5XJrlLd/9LklTVDZK8OInQcHxrh0j+TrbwEEnBxQqrqkev0/zVJCd393s3uRx239er6go5b7zhkZnePwZXVY9M8kuZhmklyQur6lnWSF8Zt01y4567HFbV8UlOWbYkNqK7X1hVJye5Y6ZfDe/Z3R9euCw27gvz2Ppt/+3dO8kZy5bEhdHd77bKyEp5cpJXVtVdk1w/yfMz/YrP+AyRnAkuVtvh8+2V8/ZPJHlXkv9bVS/u7j9crDI24tFJXpHkB6rqLZnmSbj3siWxQQ/K9Ifk60lSVX+Q5G1JBBer4aNJrplpdvwkuUb0mBnadrOrfz7n9ZZJVV1+K86uvqIeluRZSa5fVf+V5JPx5WklbPdj2cWS3DzJmQuVw27q7n+pqosneU2Sy2QKfT+2cFlszHeqar+cF/genKkHxpYjuFhtV0hy8+7+nySpqscn+cckP5ZpJlrBxcDmXytum+R6mX45/Gh3f2fhstiYypoliOfHtYNjGURVvTLTH/7LJvlwVb1z3r5lkrcuWRu7tP3s6tsm6Nqys6uvou7+RJI7VdWlk1ysu89auiY27DJrHp+T5F8ydVdnYFX19Jx/YtWDknwiycOrKt39iGUqYzcYIjkTXKy2ayb59prt7yS5Vnd/s6oscTSoeVLA9fzg/EfkpTvYzziem+QdVbVtQsd7JrEazPj+eOkCuHDMrr5vmIdHPj7zxLhV9eYkT+ruLy5bGbvS3U9cugYulJO22z55kSq40AyRPI9VRVZYVf2/JPdK8vK56e6Zhh48Jcmzulv3ywFV1XN3sru7+xc2rRgutHlisltn+iPyxu5+z8IlwT6vqp6f5E1J3tTdH1m6HnZPVb0m02TGL5ib7p/kdt19p+WqYiPmpWx/LcmhWfPDp5XsVsPcy+lb3X3uvL1fkkt29zeWrYwdqaqDuvtr2w2V/J6tOERScLHiquqwnPfl6c3dvX2yCkCSqjor5+8y+71dmULDgza5JHZTVd0h09+822QaHvLeTMHhU5esi42pqpO7+7Dt2k7q7sOXqomNqar3JfnLTL/Yf2+oZHf7BX8FVNXbk9xpzfDy78u0lPSPLlsZO1JV/9zdd6uqT+b8n122fWbZckMkBRcrbF7H9wK6+7TNroXdV1Ufz7SO9psyffD+0MIlAQxv/qXwFklun+T/Jvlmd19/2arYiKr640xd10+Ym+6d5Ebd/fjlqmIj1gudWB1V9d7u/uFdtTGOqrp1d7+5qg7o7m8tXc8IBBcrrKpOyXkJ3IFJrp1pgscbLVcVG1VVl8w0KeBtktwq0/JU7+vuey1aGMCgqurEJJfOtIrPmzL1NPz8slWxUXOvp0vnvBnxL5bk6/NjvZ4GtKab+iMyrejzsiTfm0dtK3ZXX0Xz6nUP7+53z9uHJfnz7v6RZStjR7aFhVX17u6++dL1jMDknCusu39o7fY85v7BC5XD7js304Sq52b6EPe5TB8KAFjf+5McluTGSb6a5CtV9bbu/uayZbER3X2ZXR/FYLZf0efX1+yzos/qeFSSF1fV6fP2VZP89HLlsAHfmefFO6Sqnrb9zq24IoweF/sYqdzqqKpvJDklyZ8kea1Z1VfHvDLMHyS5UqYPc+ZIgE00j8/++UyTBV6luy+5cElsUFXdJBec4NFqWrCXVdXFk1wv02eWj3T3dxYuiZ2oqismuVOmz5u/vf3+7j5+04tamOBihVXVo9dsXizJzZNcobvvvFBJ7IaqOjrTJHNHZFrW9q2Z5ro4cdHC2KWqOjXJ3bfqclSwlKr65UzD6w5L8ulMK1S8qbv/Y9HC2JCqek6SmyT5YM4bLmI1LdhLquoO3f0f8w8uFyA0HF9V3bS737d0HSMwVGS1re1yeU6Sf0nykoVqYTd198uTvLyqrp/kLpm68f1GpvlKGNvnhBawiAMz9VI7ubvPWboYdtuR3X3DpYuALeS2Sf4jyd3X2ddJBBeDE1qcR48LWEhVvSTJDyc5NcmbM/1y+A4zB4+vqp6a5CpJ/innn6TMBwDYy6rqppl6XSRTbwsf6lZEVT07yVOsogXA7hJcrLCqOjjTL/Q3SnLAtvbuvsNiRbFhVXWLJO/u7nN3eTBDmSdL2p7uzrCXVdUjkhyb834lvFeSZ3X305erio2qqh9L8sok/50p9N02P9BNFi2MHZonft+hbatUMLaq+niSt2dajemNwkNWkeBihVXVq5P8Q6bJyf5vkmOSnNndj1m0MDZkniTpIUl+bG56Q5K/NFkSwPqq6v1JfqS7vz5vXzrJ23zxXQ3z/ECPzjQx9bY5LtLdn16sKHaqql43PzwgyeFJ3pcpcLpJpl6it16qNjauqi6Z5JaZeqvdKsn1k7yvu++1aGHsUlVdOcmTk1ytu+9SVTfM9Hfw2QuXtunMcbHartDdz66qR3b3G5K8oaresHRRbNgzk1w8yTPm7Z+b235xsYrYkLnHxQVSXz0uYK+rTEtIb3NuzlumkfGd1t2vWLoINq67b58kVfX3SY7t7lPm7Rtn+uGM1XBuku/M999N8rkkn1+0IjbqeUmem+S35u3/zPTDteCClbLtl/kzquonkpye5JAF62H33KK7b7pm+z+qyljt1fDPax4fkKm7+uk7OBbYc56b5B1V9bJMgcXR2YIf3lbYR6rqRZmGi5gfaLVcf1tokSTd/YGq+uEF62H3fC1TT6c/SfLX3f3Fheth467Y3SdU1eOSpLvPqaotOcxccLHafreqLpvkV5M8PclBmVamYDWcW1U/0N0fT5Kquk7O/0sig+ru863eU1V/l+S1C5UDW0Z3/0lVvT7TUtJJ8vPd/Z4FS2L3HJgpsPjxNW1WNlgNH66qv0nygkzv2c8msbrW6viZTP/ffGiSX6yqt2aa6+LEZctiA75eVVfI3NO3qo5M8tVlS1qGOS5WWFUdn+SR3f2VefvySf5Yd/XVUFV3zPTr4SfmpkMzfQh/3Q5PYkhVdb0k/9Ld/2vpWmBfN08WeJtM3Z3fYnJA2Puq6oCcf16uNyZ5ppXQVktVXT/JXTL90Hml7j5w2YrYlflv3tOT3DjJB5IcnOTe3f3+RQtbgOBihVXVe7r7ZrtqY0zzh4BfTXLHuek1Sf7Uh4DxVdVZOf8cF/+d5HHb98QA9qyq+u0k90nykkxDRe6Z5MXd/btL1sXGmB9otVXVgUmu2d0fXboWdk9VvSTJDyc5NdPKIm/KNLmqz5wroKr2T3K9TH/3PrpVJ/IXXKyweT6E23X3l+ftyyd5Q3f/0LKVsRFVdUKmMYcvnJt+Jsnluvs+y1XFrlRVJblGd5+2dC2w1VTVh5PcbNuH7fmL1Lu7+wbLVsZGVNVPrdn83vxA3f2IhUpig6rqHkn+KMkluvva8/wWT+rueyxbGRtRVbfI9P9KQ5JXUFX9aKae2d+b5qG7n79YQQsxx8Vqe0qSt1bVP2b6BeO+SY5btiR2w/W2m5zzdSbnHF939zwx4GFL1wJb0KcyfeHd9ivhJZN8fLFq2C3mB1ppj09yRJLXJ0l3v7eqDl2yIDauu9+1dA1cOFX1t0l+IMl7c95ceJ1EcMHq6O7nV9VJSe6QqevQT3b3hxYui417T1Ud2d1vT5KqumWStyxcExvz9qq6hQ8CsDmq6umZPqidneSDVfWaeft/J3nzkrVxkVw3yTWXLoINOae7vzp1OgQ20eFJbtiGSQguVt0cVAgrVkhVnZLpA/fFkzygqk6bt68V7+WquH2SB1fVp5N8PVNw2N19k2XLgn3WSfP9yUletqb99ZtfChfWDuYHesxC5bB7PlBV/yfJflV13SSPSPLWhWuCreADSa6S5IylC1maOS5gk1XVtXa2v7s/vVm1cOHs6D303gGwL6qqSyX5rZy3lO2/J/ldkzuuhqo6sbvvuKs2xlFVr8wU9F4m08Sq78zU6zBJshXnl9HjAjaZL7erz3sIsPt8eVpNVbVfkld0950yhResiHkFu0sluWJVXS5TD9EkOSjJ1RYrjI3446ULGI3gAgCAvcaXp9XW3edW1Teq6rLd/dWl62G3PDjJozL9d/buNe1fS/IXSxTExnT3G5Kkqv6gu883pK6q/iDJGxYpbEGGigAAsNdU1SNz3pen/8o8L1CSs5I8q7t9gRrcvIT7kUlek2lupySJpWxXQ1U9vLufvnQd7L6qend333y7tvdvxXnVBBcAwNDWjPVd11Yc67uKquq3k/xZd3+tqv5fkpsn+Z3ufvcuTmVhVXXMeu3dffxm18LGVdUduvs/quon19vf3S/d7JrYmKp6SJKHJrlOzr/s92WSvKW7f3aRwhYkuAAAhlZVt50f/mSm2dVfMG//TJJPdfdvLlIYu2Xbr4RVdeskT07ylCS/2d23XLg02CdV1RO7+/FV9dx1dnd3/8KmF8WGVNVlk1wuye8leeyaXWd195eWqWpZggsAYCVU1Ru7+8d21caYquo93X2zqvq9JKd094u2tS1dG+urqhO6+75rlnI/n63YXR1Yhsk5AYBVcXBVXae7P5EkVXXtJAcvXBMb919V9VdJ7pTkD6rqkkkutnBN7Nwj5/u7LVoFF8n839pPJTk0a77/dfeTlqoJdpfgAgBYFb+S5PVV9Yl5+9BMs+azGu6b5Kgkf9zdX6mqqyb59YVrYie6+4z54UN3sLLBYy54FgN6eZKvJjk5ydkL1wIXiqEiAMDKmH85vP68+ZHu9iEc9jIrG6y2qvpAd9946TrgotDjAgBYJYflvO7ON62qdPfzly0J9k1rVzaoqvev2XWZJG9dpiouhLdW1Q919ylLF8LuqaqzcsH5Zb6a5KQkv7pt6ORWoMcFALASqupvk/xAkvcmOXdu7u5+xGJFwT7Mygarbc2kqvsnuW6ST2QaKlKZ/t+px8zgquqJSU5P8qJM79v9Mq2u9dEkD+nu2y1X3eYSXAAAK6GqPpzkhu3DC2y6eRnb63b3c6vqikku092fXLoudqyqrrWz/d396c2qhQunqt6x/ZLRVfX27j6yqt7X3TddqrbNZqgIALAqPpDpl6YzdnUgsOdU1eOTHJ7kekmem+QSSV6Q5FZL1sXOCSb2Cd+tqvsm+cd5+95r9m2pEF9wAQCsiism+VBVvTNrZsbv7nssVxJsCfdKcrMk706S7j69qi6zbEmwJdw/yVOTPCNTUPH2JD9bVQcm+eUlC9tsggsAYFU8YekCYIv6dnd3VXWSVNWlly4ItoJ58s2772D3mzezlqUJLgCAldDdb1i6BtiiTqiqv0ry/VX1S0l+IclfL1wT7POq6uAkv5TzVtNKknT3LyxV01JMzgkArISqOjLJ05PcINMY+/2SfL27D1q0MNiHVVUlOSTJ9ZP8eKaVDf69u1+zaGGwBVTVW5O8KcnJOW81rXT3SxYraiGCCwBgJVTVSZmWgntxpokCH5BplYPfXLQw2MdV1cndfdjSdcBWU1Xv7e4fXrqOEVxs6QIAADaqu09Nsl93n9vdz01yu4VLgq3g7VV1i6WLgC3on6vqrksXMQI9LgCAlVBVb0xypyR/k+S/My2L+sCttI49LKGqPpTkB5N8OsnXMw0X6e6+yaKFwT6uqs5KculMK2l9J+f9t7flhkgKLgCAlVBV10ryuUzzW/xKkssmecbcCwPYS+b/9i6guz+92bUAW5PgAgAAAAZRVdfv7o9U1c3X29/d797smpYmuAAAAIBBVNWzuvvYqnrdOru7u++w6UUtTHABAAAAg6mqA7r7W7tq2wqsKgIArISqus9G2gBgH/HWDbbt8/ZfugAAgA16XJIXb6ANAFZWVV0lydWTHFhVN8u0mkiSHJTkUosVtiDBBQAwtKq6S5K7Jrl6VT1tza6DkpyzTFUAsNfcOckDkxyS5Ck5L7j4WpLfXKimRZnjAgAYWlXdNMkPJ3lSkt9es+usJK/r7i8vURcA7E1V9VPd/ZKl6xiB4AIAWAlVdfHu/s7SdQDAZqiqJyf5w+7+yrx9uSS/2t3/36KFLcDknADAqjiiql5TVf9ZVZ+oqk9W1SeWLgoA9pK7bAstkmTuYXjX5cpZjjkuAIBV8ewkv5Lk5CTnLlwLAOxt+1XVJbv77CSpqgOTXHLhmhYhuAAAVsVXu/tVSxcBAJvkBUlOrKrnJukkv5Dk+GVLWoY5LgCAoVXVzeeH902yX5KXJjl72/7ufvcSdQHA3javrHXHTCuLvLq7/33hkhYhuAAAhlZVr9vJ7u7uO2xaMQDAphNcAAAAwGCq6qxMQ0SS5BJJLp7k69190HJVLcMcFwDASqiqR6/T/NUkJ3f3eze5HADYq7r7Mmu3q+qeSY5Ypppl6XEBAKyEqnpRksOTvHJu+okk70py/SQv7u4/XKo2ANgMVfX27j5y6To2mx4XAMCquEKSm3f3/yRJVT0+yT8m+bFMS6QKLgDYZ1TVT67ZvFim8H5L9jwQXAAAq+KaSb69Zvs7Sa7V3d+sqrN3cA4ArKq7r3l8TpJPJTl6mVKWJbgAAFbFi5K8vapePm/fPcnfVdWlk3xoubIAYM+qqv2SvL+7/3TpWkZgjgsAYGVU1WFJbp1pPfs3d/dJC5cEAHtFVb2uu2+/dB0jEFwAACuhqq65Xnt3n7bZtQDA3lZVxyW5bJJ/SPL1be3d/e7FilqI4AIAWAlVdUrOm5TswCTXTvLR7r7RclUBwN5RVa9bp7m7+w6bXszCzHEBAKyE7v6htdtVdfMkD16oHADY2x7U3Z9Y21BV11mqmCVdbOkCAAAujLmr7C2WrgMA9pJ/XKftxZtexQD0uAAAVkJVPXrN5sWS3DzJmQuVAwB7RVVdP8mNkly2qn5yza6DkhywTFXLElwAAKviMmsen5PkX5K8ZKFaAGBvuV6SuyX5/kxLf29zVpJfWqKgpZmcEwAAAAZTVT/S3W9buo4RmOMCAFgJVXVwVf1RVf1rVf3HttvSdQHAXnKvqjqoqi5eVSdW1Req6meXLmoJggsAYFW8MMlHMi2D+sQkn0ryriULAoC96Me7+2uZho18NskPJvn1ZUtahuACAFgVV+juZyf5Tne/obt/IcmRSxcFAHvJxef7uyb5u+7+0pLFLMnknADAqvjOfH9GVf1EktOTHLJgPQCwN72yqj6S5JtJHlpVByf51sI1LcLknADASqiquyV5U5JrJHl6pmXhntjdr1i0MADYS6rqckm+1t3nVtWlkhzU3f+9dF2bTXABAAAAg6mqA5I8NMmtk3SSNyd5ZndvuV4X5rgAAFZCVR1fVd+/ZvtyVfWcBUsCgL3p+UlulKmX4Z8nuUGSv120ooWY4wIAWBU36e6vbNvo7i9X1c0WrAcA9qbrdfdN12y/rqret1g1C9LjAgBYFRebx/omSarq8vEjDAD7rvdU1fdWz6qqWyZ5y4L1LMYfewBgVTwlyVur6h8zjfW9b5Ljli0JAPasqjol09+5iyd5QFWdNu+6ZpIPLVbYgkzOCQCsjKq6YZI7JKkkJ3b3lvwAB8C+q6qutbP93f3pzaplFIILAAAAGFBV3TTJbebNN3W3OS4AAACA5VXVI5O8MMmV5tsLqurhy1a1DD0uAAAAYDBV9f4kP9LdX5+3L53kbd19k2Ur23x6XAAAAMB4Ksm5a7bPndu2HKuKAAAAwHiem+QdVfWyefueSZ69XDnLMVQEAAAABlRVN09y60w9Ld7Y3e9ZuKRFCC4AAACAYZnjAgAAABiW4AIAAAAYluACAPYxVfWEqur59t2q+nJVvauqjquqq2x37KHzcXfbhLoeOD/X9+3t51rznBf59e3oGlV196r6dlU9pyZPqKovXPSqk6q68fyct9sT1wOAVWZVEQDYN301yVHz48smuXmShyQ5tqqO6u6T531nJPmRJB/ZhJr+ZX6ub2zCc+1VVfXjSV48336xu7uq/ibJK5etDAD2PYILANg3ndPdb1+z/e9V9cwkb0zyD1V1ve4+t7vPTvL29S+xZ3X3mUnO3Izn2pvmXhD/lCmkeEB3fzdJuvuzST67WGEAsI8yVAQAtoju/kqS30jyA0n+d7L+MIiqukdVnVxVX5+Hmbyjqm67Zn9X1a9U1VOq6otV9YWq+rV53zFV9Ymq+so8hOKANeddYKhIVT2uqk6tqm9V1eeq6t+2DWepqotX1R9X1WlVdXZVnV5VL6uqS8z7rzo/xyeq6ptV9Z9V9bvb9u/Irl7fLs790UyBxWuT/J/uPnfNvvMNFamq220b7lFVL66q/5lrfeg6131oVX1mrumVSa66kXoAYCvQ4wIAtpbXJTknyZFJ/m37nVX1A0n+MclTk/x6kgOSHJbk8tsd+quZhn78TJK7JfmjqrpSklskeUSSayb50yT/meT31yukqh6Q5DeTPCbJB5NcIckdklx6PuRxSe6f5LFJPpnkKknummS/ef8Vk3wpyaOTfDnJDyZ5QpKDkzx4B8+50de3nsOTPCrJW5Lcp7u/s4FzkuSvkxyf5FmZ/r3+oqpO6u53zjUdneQvkvxlpp4ct03ynA1eGwD2eYILANhCuvvsuVfAlXdwyM2SnNXdv76m7V/XOe5j3f3gJKmq1ya5T5JfSnKt7v7a3H67JPfKDoKLJEckeXV3P2NN20u32/+i7j5+TdsJa17LKUl+bdt2Vb0lydeTPKeqHt7d374Ir289j09yepJ7zUNsNurvuvt35xpfn+TuSX4yyTvn/b+V5N+6+yHz9r9X1cFJfnE3ngMA9lmGigDA1lM72XdKkstW1fFV9eNVdekdHHfitgfzHA+fTHLyttBidmqSq+/kud6b5K5V9cSqOqKq9ltn/wOr6jeq6iZVdb6655U8HlVVH6qqbyb5TpIXJrlkph4fF+X1refVSa6WqSfI7nj1tgdzL42PJTlkfg37ZQpTXr7dOS8NAJBEcAEAW8o858QVknxuvf3d/dEkRye5TqaeCF+oqhfNPQDW+sp229/eQdsB2bHnZBoqct8k70jyuar6nTUBxu9mGkLx0CTvS/KZqnrkmvMfleQpSV4213xEkofN+9Z93t14fet5epI/SvL/1punYie+st322n+XgzP1gP38dsdsvw0AW5bgAgC2lttn+qL8th0d0N3/0t23yRRwPCjJnTJ9ad+juvu73f2n3X2DTD0k/jhTkPFL8/5vdfdvd/ehmeav+Ickf1ZV25Z5vU+SF3f3b3X3q7v7XZmGiuzqeS/K63tMkucneXpV3Wejr3Unzsw058iVtmvffhsAtizBBQBsEVX1/Un+INMQjtfu6vju/mp3vyhTj4Yb7s3auvsz3f37c20XeK7u/lim+SzOXrP/wHl7rfvvxnPu9uvr7s4Udvxbkr+tqttv9Pl2cL1zMw2JOXq7XT95Ua4LAPsSk3MCwL5p/6o6cn58mUwrZzwkyaWSHLV2Gc+1qurBSX4k0xfz05NcN1PPhufv6QKr6q8yrQry9iRfzdQb5LqZejWkql6W5OQk70nyzST3zvTZ5Y3zJV6T5BFV9Y4kH88UWvyvXTznRX593X3O3NvitUn+qapu193v2ej563hykpdW1TMzhSi3TXLUzk8BgK1DcAEA+6bLZhoO0km+lqknwwuSPL27/3sn570/yT2S/EmmJULPyLSc52/vhRrflmlYyIMzzflwapJf6u5/mve/NclPZ1q29GJJPpTkp7r7pHn/kzLNEfG78/ZLMy3F+sqdPOceeX3d/Y2quluSNyV5VVXdanfO3+5aL6uqh2da9vWYJK/P1Kvj3y/sNQFgX1JTj0cAAACA8ZjjAgAAABiW4AIAAAAYluACAAAAGJbgAgAAABiW4AIAAAAYluACAAAAGJbgAgAAABiW4AIAAAAYluACAAAAGNb/Dw0wz9Pvyjv6AAAAAElFTkSuQmCC\n",
      "text/plain": [
       "<Figure size 1296x720 with 1 Axes>"
      ]
     },
     "metadata": {
      "needs_background": "light"
     },
     "output_type": "display_data"
    }
   ],
   "source": [
    "#Type of dismissals in IPL:\n",
    "plt.figure(figsize=(18,10))\n",
    "ax=sns.countplot(df2.dismissal_kind)\n",
    "plt.title(\"Dismissals in IPL\",fontsize=20)\n",
    "plt.xlabel(\"Dismissals Kind\",fontsize=15)\n",
    "plt.ylabel(\"Count\",fontsize=15)\n",
    "plt.xticks(rotation=90)\n",
    "plt.show()"
   ]
  },
  {
   "cell_type": "markdown",
   "metadata": {},
   "source": [
    "## Observation:"
   ]
  },
  {
   "cell_type": "markdown",
   "metadata": {},
   "source": [
    "Most dismissals of batsmen in IPL are from caught outs. "
   ]
  }
 ],
 "metadata": {
  "kernelspec": {
   "display_name": "Python 3",
   "language": "python",
   "name": "python3"
  },
  "language_info": {
   "codemirror_mode": {
    "name": "ipython",
    "version": 3
   },
   "file_extension": ".py",
   "mimetype": "text/x-python",
   "name": "python",
   "nbconvert_exporter": "python",
   "pygments_lexer": "ipython3",
   "version": "3.8.5"
  }
 },
 "nbformat": 4,
 "nbformat_minor": 4
}
